{
  "nbformat": 4,
  "nbformat_minor": 0,
  "metadata": {
    "colab": {
      "name": "Automobile.ipynb",
      "provenance": [],
      "collapsed_sections": []
    },
    "kernelspec": {
      "name": "python3",
      "display_name": "Python 3"
    },
    "language_info": {
      "name": "python"
    }
  },
  "cells": [
    {
      "cell_type": "code",
      "metadata": {
        "colab": {
          "base_uri": "https://localhost:8080/"
        },
        "id": "61zmHGQbYHLW",
        "outputId": "62a265c0-76a0-47b6-858e-055ed43e9eda"
      },
      "source": [
        "from google.colab import drive\n",
        "drive.mount('/content/drive')"
      ],
      "execution_count": 1,
      "outputs": [
        {
          "output_type": "stream",
          "text": [
            "Mounted at /content/drive\n"
          ],
          "name": "stdout"
        }
      ]
    },
    {
      "cell_type": "code",
      "metadata": {
        "id": "ubc34tLNKMII"
      },
      "source": [
        "import pandas as pd\n",
        "import numpy as np\n",
        "import matplotlib.pyplot as plt\n",
        "import seaborn as sns\n",
        "import math\n",
        "\n",
        "from sklearn.model_selection import train_test_split\n",
        "from sklearn.feature_selection import RFE\n",
        "from sklearn.linear_model import LinearRegression\n",
        "from sklearn.linear_model import Lasso\n",
        "from sklearn.linear_model import LassoLars\n",
        "\n",
        "from sklearn.metrics import r2_score\n",
        "from sklearn.metrics import mean_squared_error\n",
        "import sklearn.metrics as metrics\n",
        "from sklearn.ensemble import RandomForestRegressor\n",
        "from sklearn.decomposition import PCA\n"
      ],
      "execution_count": 70,
      "outputs": []
    },
    {
      "cell_type": "code",
      "metadata": {
        "colab": {
          "base_uri": "https://localhost:8080/",
          "height": 524
        },
        "id": "rImvLOKPbwA6",
        "outputId": "2e3885e4-68a3-40b6-c9ed-f3d34aedf5f6"
      },
      "source": [
        "#adding header as indicated in the data description\n",
        "col_names=['symboling','normalized-losses','make','fuel-type','aspiration','num-of-doors','body-style','drive-wheels',\n",
        "          'engine-location','wheel-base','length','width','height','curb-weight','engine-type','num-of-cyclinders',\n",
        "          'engine-size','fuel-system','bore','stroke','compression-ratio','horsepower','peak-rpm','city-mpg',\n",
        "          'highway-mpg','price']\n",
        "\n",
        "#import data\n",
        "data =  pd.read_csv('/content/drive/MyDrive/imports-85.data', sep=\",\", header=None, names=col_names)\n",
        "data"
      ],
      "execution_count": 163,
      "outputs": [
        {
          "output_type": "execute_result",
          "data": {
            "text/html": [
              "<div>\n",
              "<style scoped>\n",
              "    .dataframe tbody tr th:only-of-type {\n",
              "        vertical-align: middle;\n",
              "    }\n",
              "\n",
              "    .dataframe tbody tr th {\n",
              "        vertical-align: top;\n",
              "    }\n",
              "\n",
              "    .dataframe thead th {\n",
              "        text-align: right;\n",
              "    }\n",
              "</style>\n",
              "<table border=\"1\" class=\"dataframe\">\n",
              "  <thead>\n",
              "    <tr style=\"text-align: right;\">\n",
              "      <th></th>\n",
              "      <th>symboling</th>\n",
              "      <th>normalized-losses</th>\n",
              "      <th>make</th>\n",
              "      <th>fuel-type</th>\n",
              "      <th>aspiration</th>\n",
              "      <th>num-of-doors</th>\n",
              "      <th>body-style</th>\n",
              "      <th>drive-wheels</th>\n",
              "      <th>engine-location</th>\n",
              "      <th>wheel-base</th>\n",
              "      <th>length</th>\n",
              "      <th>width</th>\n",
              "      <th>height</th>\n",
              "      <th>curb-weight</th>\n",
              "      <th>engine-type</th>\n",
              "      <th>num-of-cyclinders</th>\n",
              "      <th>engine-size</th>\n",
              "      <th>fuel-system</th>\n",
              "      <th>bore</th>\n",
              "      <th>stroke</th>\n",
              "      <th>compression-ratio</th>\n",
              "      <th>horsepower</th>\n",
              "      <th>peak-rpm</th>\n",
              "      <th>city-mpg</th>\n",
              "      <th>highway-mpg</th>\n",
              "      <th>price</th>\n",
              "    </tr>\n",
              "  </thead>\n",
              "  <tbody>\n",
              "    <tr>\n",
              "      <th>0</th>\n",
              "      <td>3</td>\n",
              "      <td>?</td>\n",
              "      <td>alfa-romero</td>\n",
              "      <td>gas</td>\n",
              "      <td>std</td>\n",
              "      <td>two</td>\n",
              "      <td>convertible</td>\n",
              "      <td>rwd</td>\n",
              "      <td>front</td>\n",
              "      <td>88.6</td>\n",
              "      <td>168.8</td>\n",
              "      <td>64.1</td>\n",
              "      <td>48.8</td>\n",
              "      <td>2548</td>\n",
              "      <td>dohc</td>\n",
              "      <td>four</td>\n",
              "      <td>130</td>\n",
              "      <td>mpfi</td>\n",
              "      <td>3.47</td>\n",
              "      <td>2.68</td>\n",
              "      <td>9.0</td>\n",
              "      <td>111</td>\n",
              "      <td>5000</td>\n",
              "      <td>21</td>\n",
              "      <td>27</td>\n",
              "      <td>13495</td>\n",
              "    </tr>\n",
              "    <tr>\n",
              "      <th>1</th>\n",
              "      <td>3</td>\n",
              "      <td>?</td>\n",
              "      <td>alfa-romero</td>\n",
              "      <td>gas</td>\n",
              "      <td>std</td>\n",
              "      <td>two</td>\n",
              "      <td>convertible</td>\n",
              "      <td>rwd</td>\n",
              "      <td>front</td>\n",
              "      <td>88.6</td>\n",
              "      <td>168.8</td>\n",
              "      <td>64.1</td>\n",
              "      <td>48.8</td>\n",
              "      <td>2548</td>\n",
              "      <td>dohc</td>\n",
              "      <td>four</td>\n",
              "      <td>130</td>\n",
              "      <td>mpfi</td>\n",
              "      <td>3.47</td>\n",
              "      <td>2.68</td>\n",
              "      <td>9.0</td>\n",
              "      <td>111</td>\n",
              "      <td>5000</td>\n",
              "      <td>21</td>\n",
              "      <td>27</td>\n",
              "      <td>16500</td>\n",
              "    </tr>\n",
              "    <tr>\n",
              "      <th>2</th>\n",
              "      <td>1</td>\n",
              "      <td>?</td>\n",
              "      <td>alfa-romero</td>\n",
              "      <td>gas</td>\n",
              "      <td>std</td>\n",
              "      <td>two</td>\n",
              "      <td>hatchback</td>\n",
              "      <td>rwd</td>\n",
              "      <td>front</td>\n",
              "      <td>94.5</td>\n",
              "      <td>171.2</td>\n",
              "      <td>65.5</td>\n",
              "      <td>52.4</td>\n",
              "      <td>2823</td>\n",
              "      <td>ohcv</td>\n",
              "      <td>six</td>\n",
              "      <td>152</td>\n",
              "      <td>mpfi</td>\n",
              "      <td>2.68</td>\n",
              "      <td>3.47</td>\n",
              "      <td>9.0</td>\n",
              "      <td>154</td>\n",
              "      <td>5000</td>\n",
              "      <td>19</td>\n",
              "      <td>26</td>\n",
              "      <td>16500</td>\n",
              "    </tr>\n",
              "    <tr>\n",
              "      <th>3</th>\n",
              "      <td>2</td>\n",
              "      <td>164</td>\n",
              "      <td>audi</td>\n",
              "      <td>gas</td>\n",
              "      <td>std</td>\n",
              "      <td>four</td>\n",
              "      <td>sedan</td>\n",
              "      <td>fwd</td>\n",
              "      <td>front</td>\n",
              "      <td>99.8</td>\n",
              "      <td>176.6</td>\n",
              "      <td>66.2</td>\n",
              "      <td>54.3</td>\n",
              "      <td>2337</td>\n",
              "      <td>ohc</td>\n",
              "      <td>four</td>\n",
              "      <td>109</td>\n",
              "      <td>mpfi</td>\n",
              "      <td>3.19</td>\n",
              "      <td>3.40</td>\n",
              "      <td>10.0</td>\n",
              "      <td>102</td>\n",
              "      <td>5500</td>\n",
              "      <td>24</td>\n",
              "      <td>30</td>\n",
              "      <td>13950</td>\n",
              "    </tr>\n",
              "    <tr>\n",
              "      <th>4</th>\n",
              "      <td>2</td>\n",
              "      <td>164</td>\n",
              "      <td>audi</td>\n",
              "      <td>gas</td>\n",
              "      <td>std</td>\n",
              "      <td>four</td>\n",
              "      <td>sedan</td>\n",
              "      <td>4wd</td>\n",
              "      <td>front</td>\n",
              "      <td>99.4</td>\n",
              "      <td>176.6</td>\n",
              "      <td>66.4</td>\n",
              "      <td>54.3</td>\n",
              "      <td>2824</td>\n",
              "      <td>ohc</td>\n",
              "      <td>five</td>\n",
              "      <td>136</td>\n",
              "      <td>mpfi</td>\n",
              "      <td>3.19</td>\n",
              "      <td>3.40</td>\n",
              "      <td>8.0</td>\n",
              "      <td>115</td>\n",
              "      <td>5500</td>\n",
              "      <td>18</td>\n",
              "      <td>22</td>\n",
              "      <td>17450</td>\n",
              "    </tr>\n",
              "    <tr>\n",
              "      <th>...</th>\n",
              "      <td>...</td>\n",
              "      <td>...</td>\n",
              "      <td>...</td>\n",
              "      <td>...</td>\n",
              "      <td>...</td>\n",
              "      <td>...</td>\n",
              "      <td>...</td>\n",
              "      <td>...</td>\n",
              "      <td>...</td>\n",
              "      <td>...</td>\n",
              "      <td>...</td>\n",
              "      <td>...</td>\n",
              "      <td>...</td>\n",
              "      <td>...</td>\n",
              "      <td>...</td>\n",
              "      <td>...</td>\n",
              "      <td>...</td>\n",
              "      <td>...</td>\n",
              "      <td>...</td>\n",
              "      <td>...</td>\n",
              "      <td>...</td>\n",
              "      <td>...</td>\n",
              "      <td>...</td>\n",
              "      <td>...</td>\n",
              "      <td>...</td>\n",
              "      <td>...</td>\n",
              "    </tr>\n",
              "    <tr>\n",
              "      <th>200</th>\n",
              "      <td>-1</td>\n",
              "      <td>95</td>\n",
              "      <td>volvo</td>\n",
              "      <td>gas</td>\n",
              "      <td>std</td>\n",
              "      <td>four</td>\n",
              "      <td>sedan</td>\n",
              "      <td>rwd</td>\n",
              "      <td>front</td>\n",
              "      <td>109.1</td>\n",
              "      <td>188.8</td>\n",
              "      <td>68.9</td>\n",
              "      <td>55.5</td>\n",
              "      <td>2952</td>\n",
              "      <td>ohc</td>\n",
              "      <td>four</td>\n",
              "      <td>141</td>\n",
              "      <td>mpfi</td>\n",
              "      <td>3.78</td>\n",
              "      <td>3.15</td>\n",
              "      <td>9.5</td>\n",
              "      <td>114</td>\n",
              "      <td>5400</td>\n",
              "      <td>23</td>\n",
              "      <td>28</td>\n",
              "      <td>16845</td>\n",
              "    </tr>\n",
              "    <tr>\n",
              "      <th>201</th>\n",
              "      <td>-1</td>\n",
              "      <td>95</td>\n",
              "      <td>volvo</td>\n",
              "      <td>gas</td>\n",
              "      <td>turbo</td>\n",
              "      <td>four</td>\n",
              "      <td>sedan</td>\n",
              "      <td>rwd</td>\n",
              "      <td>front</td>\n",
              "      <td>109.1</td>\n",
              "      <td>188.8</td>\n",
              "      <td>68.8</td>\n",
              "      <td>55.5</td>\n",
              "      <td>3049</td>\n",
              "      <td>ohc</td>\n",
              "      <td>four</td>\n",
              "      <td>141</td>\n",
              "      <td>mpfi</td>\n",
              "      <td>3.78</td>\n",
              "      <td>3.15</td>\n",
              "      <td>8.7</td>\n",
              "      <td>160</td>\n",
              "      <td>5300</td>\n",
              "      <td>19</td>\n",
              "      <td>25</td>\n",
              "      <td>19045</td>\n",
              "    </tr>\n",
              "    <tr>\n",
              "      <th>202</th>\n",
              "      <td>-1</td>\n",
              "      <td>95</td>\n",
              "      <td>volvo</td>\n",
              "      <td>gas</td>\n",
              "      <td>std</td>\n",
              "      <td>four</td>\n",
              "      <td>sedan</td>\n",
              "      <td>rwd</td>\n",
              "      <td>front</td>\n",
              "      <td>109.1</td>\n",
              "      <td>188.8</td>\n",
              "      <td>68.9</td>\n",
              "      <td>55.5</td>\n",
              "      <td>3012</td>\n",
              "      <td>ohcv</td>\n",
              "      <td>six</td>\n",
              "      <td>173</td>\n",
              "      <td>mpfi</td>\n",
              "      <td>3.58</td>\n",
              "      <td>2.87</td>\n",
              "      <td>8.8</td>\n",
              "      <td>134</td>\n",
              "      <td>5500</td>\n",
              "      <td>18</td>\n",
              "      <td>23</td>\n",
              "      <td>21485</td>\n",
              "    </tr>\n",
              "    <tr>\n",
              "      <th>203</th>\n",
              "      <td>-1</td>\n",
              "      <td>95</td>\n",
              "      <td>volvo</td>\n",
              "      <td>diesel</td>\n",
              "      <td>turbo</td>\n",
              "      <td>four</td>\n",
              "      <td>sedan</td>\n",
              "      <td>rwd</td>\n",
              "      <td>front</td>\n",
              "      <td>109.1</td>\n",
              "      <td>188.8</td>\n",
              "      <td>68.9</td>\n",
              "      <td>55.5</td>\n",
              "      <td>3217</td>\n",
              "      <td>ohc</td>\n",
              "      <td>six</td>\n",
              "      <td>145</td>\n",
              "      <td>idi</td>\n",
              "      <td>3.01</td>\n",
              "      <td>3.40</td>\n",
              "      <td>23.0</td>\n",
              "      <td>106</td>\n",
              "      <td>4800</td>\n",
              "      <td>26</td>\n",
              "      <td>27</td>\n",
              "      <td>22470</td>\n",
              "    </tr>\n",
              "    <tr>\n",
              "      <th>204</th>\n",
              "      <td>-1</td>\n",
              "      <td>95</td>\n",
              "      <td>volvo</td>\n",
              "      <td>gas</td>\n",
              "      <td>turbo</td>\n",
              "      <td>four</td>\n",
              "      <td>sedan</td>\n",
              "      <td>rwd</td>\n",
              "      <td>front</td>\n",
              "      <td>109.1</td>\n",
              "      <td>188.8</td>\n",
              "      <td>68.9</td>\n",
              "      <td>55.5</td>\n",
              "      <td>3062</td>\n",
              "      <td>ohc</td>\n",
              "      <td>four</td>\n",
              "      <td>141</td>\n",
              "      <td>mpfi</td>\n",
              "      <td>3.78</td>\n",
              "      <td>3.15</td>\n",
              "      <td>9.5</td>\n",
              "      <td>114</td>\n",
              "      <td>5400</td>\n",
              "      <td>19</td>\n",
              "      <td>25</td>\n",
              "      <td>22625</td>\n",
              "    </tr>\n",
              "  </tbody>\n",
              "</table>\n",
              "<p>205 rows × 26 columns</p>\n",
              "</div>"
            ],
            "text/plain": [
              "     symboling normalized-losses         make  ... city-mpg highway-mpg  price\n",
              "0            3                 ?  alfa-romero  ...       21          27  13495\n",
              "1            3                 ?  alfa-romero  ...       21          27  16500\n",
              "2            1                 ?  alfa-romero  ...       19          26  16500\n",
              "3            2               164         audi  ...       24          30  13950\n",
              "4            2               164         audi  ...       18          22  17450\n",
              "..         ...               ...          ...  ...      ...         ...    ...\n",
              "200         -1                95        volvo  ...       23          28  16845\n",
              "201         -1                95        volvo  ...       19          25  19045\n",
              "202         -1                95        volvo  ...       18          23  21485\n",
              "203         -1                95        volvo  ...       26          27  22470\n",
              "204         -1                95        volvo  ...       19          25  22625\n",
              "\n",
              "[205 rows x 26 columns]"
            ]
          },
          "metadata": {
            "tags": []
          },
          "execution_count": 163
        }
      ]
    },
    {
      "cell_type": "code",
      "metadata": {
        "colab": {
          "base_uri": "https://localhost:8080/"
        },
        "id": "JGOJyEaGmFY9",
        "outputId": "7494307b-b587-4c70-d79f-a07d0bd09ac9"
      },
      "source": [
        "#the data description says there are some '?' symbols in the data set\n",
        "#, which indicates there are some missing values in it.\n",
        "\n",
        "#Before we jump into this dataset deeply,\n",
        "#Let's look at general information regarding the dataset\n",
        "data.info()\n",
        "\n",
        "#It looks like some data types of the variables are different from what I saw in the data description. \n",
        "#(such as normalized-losses, price, horsepower and so on)\n",
        "#Therefore, I think it is fair to make an assumption that it is because of '?' symbols in the columns mentioned above.\n"
      ],
      "execution_count": 164,
      "outputs": [
        {
          "output_type": "stream",
          "text": [
            "<class 'pandas.core.frame.DataFrame'>\n",
            "RangeIndex: 205 entries, 0 to 204\n",
            "Data columns (total 26 columns):\n",
            " #   Column             Non-Null Count  Dtype  \n",
            "---  ------             --------------  -----  \n",
            " 0   symboling          205 non-null    int64  \n",
            " 1   normalized-losses  205 non-null    object \n",
            " 2   make               205 non-null    object \n",
            " 3   fuel-type          205 non-null    object \n",
            " 4   aspiration         205 non-null    object \n",
            " 5   num-of-doors       205 non-null    object \n",
            " 6   body-style         205 non-null    object \n",
            " 7   drive-wheels       205 non-null    object \n",
            " 8   engine-location    205 non-null    object \n",
            " 9   wheel-base         205 non-null    float64\n",
            " 10  length             205 non-null    float64\n",
            " 11  width              205 non-null    float64\n",
            " 12  height             205 non-null    float64\n",
            " 13  curb-weight        205 non-null    int64  \n",
            " 14  engine-type        205 non-null    object \n",
            " 15  num-of-cyclinders  205 non-null    object \n",
            " 16  engine-size        205 non-null    int64  \n",
            " 17  fuel-system        205 non-null    object \n",
            " 18  bore               205 non-null    object \n",
            " 19  stroke             205 non-null    object \n",
            " 20  compression-ratio  205 non-null    float64\n",
            " 21  horsepower         205 non-null    object \n",
            " 22  peak-rpm           205 non-null    object \n",
            " 23  city-mpg           205 non-null    int64  \n",
            " 24  highway-mpg        205 non-null    int64  \n",
            " 25  price              205 non-null    object \n",
            "dtypes: float64(5), int64(5), object(16)\n",
            "memory usage: 41.8+ KB\n"
          ],
          "name": "stdout"
        }
      ]
    },
    {
      "cell_type": "code",
      "metadata": {
        "colab": {
          "base_uri": "https://localhost:8080/"
        },
        "id": "mY77XLeqJfS0",
        "outputId": "017cebad-7d33-48bf-d097-1fb7cc770649"
      },
      "source": [
        "#Replacing '?' symbols to nan and counting the number of nan afterwards\n",
        "data = data.replace('?', np.nan)\n",
        "data.isna().sum()"
      ],
      "execution_count": 165,
      "outputs": [
        {
          "output_type": "execute_result",
          "data": {
            "text/plain": [
              "symboling             0\n",
              "normalized-losses    41\n",
              "make                  0\n",
              "fuel-type             0\n",
              "aspiration            0\n",
              "num-of-doors          2\n",
              "body-style            0\n",
              "drive-wheels          0\n",
              "engine-location       0\n",
              "wheel-base            0\n",
              "length                0\n",
              "width                 0\n",
              "height                0\n",
              "curb-weight           0\n",
              "engine-type           0\n",
              "num-of-cyclinders     0\n",
              "engine-size           0\n",
              "fuel-system           0\n",
              "bore                  4\n",
              "stroke                4\n",
              "compression-ratio     0\n",
              "horsepower            2\n",
              "peak-rpm              2\n",
              "city-mpg              0\n",
              "highway-mpg           0\n",
              "price                 4\n",
              "dtype: int64"
            ]
          },
          "metadata": {
            "tags": []
          },
          "execution_count": 165
        }
      ]
    },
    {
      "cell_type": "code",
      "metadata": {
        "colab": {
          "base_uri": "https://localhost:8080/"
        },
        "id": "AKLqEyp1PPzb",
        "outputId": "41d3d9cb-5892-48cb-9e64-3b7b376a1115"
      },
      "source": [
        "#After convering '?' symbols to nan, we see some differences in null count as below.  \n",
        "#column number 1,5,18,19,21,22,25\n",
        "data.info()"
      ],
      "execution_count": 166,
      "outputs": [
        {
          "output_type": "stream",
          "text": [
            "<class 'pandas.core.frame.DataFrame'>\n",
            "RangeIndex: 205 entries, 0 to 204\n",
            "Data columns (total 26 columns):\n",
            " #   Column             Non-Null Count  Dtype  \n",
            "---  ------             --------------  -----  \n",
            " 0   symboling          205 non-null    int64  \n",
            " 1   normalized-losses  164 non-null    object \n",
            " 2   make               205 non-null    object \n",
            " 3   fuel-type          205 non-null    object \n",
            " 4   aspiration         205 non-null    object \n",
            " 5   num-of-doors       203 non-null    object \n",
            " 6   body-style         205 non-null    object \n",
            " 7   drive-wheels       205 non-null    object \n",
            " 8   engine-location    205 non-null    object \n",
            " 9   wheel-base         205 non-null    float64\n",
            " 10  length             205 non-null    float64\n",
            " 11  width              205 non-null    float64\n",
            " 12  height             205 non-null    float64\n",
            " 13  curb-weight        205 non-null    int64  \n",
            " 14  engine-type        205 non-null    object \n",
            " 15  num-of-cyclinders  205 non-null    object \n",
            " 16  engine-size        205 non-null    int64  \n",
            " 17  fuel-system        205 non-null    object \n",
            " 18  bore               201 non-null    object \n",
            " 19  stroke             201 non-null    object \n",
            " 20  compression-ratio  205 non-null    float64\n",
            " 21  horsepower         203 non-null    object \n",
            " 22  peak-rpm           203 non-null    object \n",
            " 23  city-mpg           205 non-null    int64  \n",
            " 24  highway-mpg        205 non-null    int64  \n",
            " 25  price              201 non-null    object \n",
            "dtypes: float64(5), int64(5), object(16)\n",
            "memory usage: 41.8+ KB\n"
          ],
          "name": "stdout"
        }
      ]
    },
    {
      "cell_type": "code",
      "metadata": {
        "id": "-QmcPrr2bUwD"
      },
      "source": [
        "#we need to convert each mistyped columns to float\n",
        "# Convert the object columns to float columns\n",
        "    \n",
        "data[\"bore\"] = data[\"bore\"].astype(np.float64)\n",
        "data[\"stroke\"] = data[\"stroke\"].astype(np.float64)\n",
        "data[\"horsepower\"] = data[\"horsepower\"].astype(np.float64)\n",
        "data[\"peak-rpm\"] = data[\"peak-rpm\"].astype(np.float64)\n",
        "data[\"normalized-losses\"] = data[\"normalized-losses\"].astype(np.float64)\n",
        "data[\"price\"] = data[\"price\"].astype(np.float64)"
      ],
      "execution_count": 167,
      "outputs": []
    },
    {
      "cell_type": "code",
      "metadata": {
        "colab": {
          "base_uri": "https://localhost:8080/",
          "height": 833
        },
        "id": "Mmnf3kUHc7Cx",
        "outputId": "1a262cb7-b4b3-41ad-89ea-9665e1d5994d"
      },
      "source": [
        "#Now we can see that the columns have been successfully converted to float\n",
        "#(normalized-losses, bore, stroke, horsepower, peak-rpm  and price)\n",
        "data.info()\n",
        "\n",
        "#And let's see if only categorical variables remained object\n",
        "data.select_dtypes(include = 'object').head()"
      ],
      "execution_count": 168,
      "outputs": [
        {
          "output_type": "stream",
          "text": [
            "<class 'pandas.core.frame.DataFrame'>\n",
            "RangeIndex: 205 entries, 0 to 204\n",
            "Data columns (total 26 columns):\n",
            " #   Column             Non-Null Count  Dtype  \n",
            "---  ------             --------------  -----  \n",
            " 0   symboling          205 non-null    int64  \n",
            " 1   normalized-losses  164 non-null    float64\n",
            " 2   make               205 non-null    object \n",
            " 3   fuel-type          205 non-null    object \n",
            " 4   aspiration         205 non-null    object \n",
            " 5   num-of-doors       203 non-null    object \n",
            " 6   body-style         205 non-null    object \n",
            " 7   drive-wheels       205 non-null    object \n",
            " 8   engine-location    205 non-null    object \n",
            " 9   wheel-base         205 non-null    float64\n",
            " 10  length             205 non-null    float64\n",
            " 11  width              205 non-null    float64\n",
            " 12  height             205 non-null    float64\n",
            " 13  curb-weight        205 non-null    int64  \n",
            " 14  engine-type        205 non-null    object \n",
            " 15  num-of-cyclinders  205 non-null    object \n",
            " 16  engine-size        205 non-null    int64  \n",
            " 17  fuel-system        205 non-null    object \n",
            " 18  bore               201 non-null    float64\n",
            " 19  stroke             201 non-null    float64\n",
            " 20  compression-ratio  205 non-null    float64\n",
            " 21  horsepower         203 non-null    float64\n",
            " 22  peak-rpm           203 non-null    float64\n",
            " 23  city-mpg           205 non-null    int64  \n",
            " 24  highway-mpg        205 non-null    int64  \n",
            " 25  price              201 non-null    float64\n",
            "dtypes: float64(11), int64(5), object(10)\n",
            "memory usage: 41.8+ KB\n"
          ],
          "name": "stdout"
        },
        {
          "output_type": "execute_result",
          "data": {
            "text/html": [
              "<div>\n",
              "<style scoped>\n",
              "    .dataframe tbody tr th:only-of-type {\n",
              "        vertical-align: middle;\n",
              "    }\n",
              "\n",
              "    .dataframe tbody tr th {\n",
              "        vertical-align: top;\n",
              "    }\n",
              "\n",
              "    .dataframe thead th {\n",
              "        text-align: right;\n",
              "    }\n",
              "</style>\n",
              "<table border=\"1\" class=\"dataframe\">\n",
              "  <thead>\n",
              "    <tr style=\"text-align: right;\">\n",
              "      <th></th>\n",
              "      <th>make</th>\n",
              "      <th>fuel-type</th>\n",
              "      <th>aspiration</th>\n",
              "      <th>num-of-doors</th>\n",
              "      <th>body-style</th>\n",
              "      <th>drive-wheels</th>\n",
              "      <th>engine-location</th>\n",
              "      <th>engine-type</th>\n",
              "      <th>num-of-cyclinders</th>\n",
              "      <th>fuel-system</th>\n",
              "    </tr>\n",
              "  </thead>\n",
              "  <tbody>\n",
              "    <tr>\n",
              "      <th>0</th>\n",
              "      <td>alfa-romero</td>\n",
              "      <td>gas</td>\n",
              "      <td>std</td>\n",
              "      <td>two</td>\n",
              "      <td>convertible</td>\n",
              "      <td>rwd</td>\n",
              "      <td>front</td>\n",
              "      <td>dohc</td>\n",
              "      <td>four</td>\n",
              "      <td>mpfi</td>\n",
              "    </tr>\n",
              "    <tr>\n",
              "      <th>1</th>\n",
              "      <td>alfa-romero</td>\n",
              "      <td>gas</td>\n",
              "      <td>std</td>\n",
              "      <td>two</td>\n",
              "      <td>convertible</td>\n",
              "      <td>rwd</td>\n",
              "      <td>front</td>\n",
              "      <td>dohc</td>\n",
              "      <td>four</td>\n",
              "      <td>mpfi</td>\n",
              "    </tr>\n",
              "    <tr>\n",
              "      <th>2</th>\n",
              "      <td>alfa-romero</td>\n",
              "      <td>gas</td>\n",
              "      <td>std</td>\n",
              "      <td>two</td>\n",
              "      <td>hatchback</td>\n",
              "      <td>rwd</td>\n",
              "      <td>front</td>\n",
              "      <td>ohcv</td>\n",
              "      <td>six</td>\n",
              "      <td>mpfi</td>\n",
              "    </tr>\n",
              "    <tr>\n",
              "      <th>3</th>\n",
              "      <td>audi</td>\n",
              "      <td>gas</td>\n",
              "      <td>std</td>\n",
              "      <td>four</td>\n",
              "      <td>sedan</td>\n",
              "      <td>fwd</td>\n",
              "      <td>front</td>\n",
              "      <td>ohc</td>\n",
              "      <td>four</td>\n",
              "      <td>mpfi</td>\n",
              "    </tr>\n",
              "    <tr>\n",
              "      <th>4</th>\n",
              "      <td>audi</td>\n",
              "      <td>gas</td>\n",
              "      <td>std</td>\n",
              "      <td>four</td>\n",
              "      <td>sedan</td>\n",
              "      <td>4wd</td>\n",
              "      <td>front</td>\n",
              "      <td>ohc</td>\n",
              "      <td>five</td>\n",
              "      <td>mpfi</td>\n",
              "    </tr>\n",
              "  </tbody>\n",
              "</table>\n",
              "</div>"
            ],
            "text/plain": [
              "          make fuel-type aspiration  ... engine-type num-of-cyclinders fuel-system\n",
              "0  alfa-romero       gas        std  ...        dohc              four        mpfi\n",
              "1  alfa-romero       gas        std  ...        dohc              four        mpfi\n",
              "2  alfa-romero       gas        std  ...        ohcv               six        mpfi\n",
              "3         audi       gas        std  ...         ohc              four        mpfi\n",
              "4         audi       gas        std  ...         ohc              five        mpfi\n",
              "\n",
              "[5 rows x 10 columns]"
            ]
          },
          "metadata": {
            "tags": []
          },
          "execution_count": 168
        }
      ]
    },
    {
      "cell_type": "code",
      "metadata": {
        "colab": {
          "base_uri": "https://localhost:8080/"
        },
        "id": "5cIV7ViTL2Mq",
        "outputId": "b72ecbc4-43ad-4bc9-92c0-b5dd3936f6f6"
      },
      "source": [
        "data['num-of-doors'].unique()\n",
        "data['num-of-cyclinders'].unique()"
      ],
      "execution_count": 169,
      "outputs": [
        {
          "output_type": "execute_result",
          "data": {
            "text/plain": [
              "array(['four', 'six', 'five', 'three', 'twelve', 'two', 'eight'],\n",
              "      dtype=object)"
            ]
          },
          "metadata": {
            "tags": []
          },
          "execution_count": 169
        }
      ]
    },
    {
      "cell_type": "code",
      "metadata": {
        "id": "z4wbIuGbLT3Q"
      },
      "source": [
        "data['num-of-cyclinders']=data['num-of-cyclinders'].str.replace('two','2')\n",
        "data['num-of-cyclinders']=data['num-of-cyclinders'].str.replace('three','3')\n",
        "data['num-of-cyclinders']=data['num-of-cyclinders'].str.replace('four','4')\n",
        "data['num-of-cyclinders']=data['num-of-cyclinders'].str.replace('five','5')\n",
        "data['num-of-cyclinders']=data['num-of-cyclinders'].str.replace('six','6')\n",
        "data['num-of-cyclinders']=data['num-of-cyclinders'].str.replace('eight','8')\n",
        "data['num-of-cyclinders']=data['num-of-cyclinders'].str.replace('twelve','12')\n",
        "data['num-of-cyclinders']=data['num-of-cyclinders'].astype('int64')"
      ],
      "execution_count": 170,
      "outputs": []
    },
    {
      "cell_type": "code",
      "metadata": {
        "colab": {
          "base_uri": "https://localhost:8080/",
          "height": 165
        },
        "id": "7dfW_Rw8sky8",
        "outputId": "8aa2e4ba-9335-4e45-d7b2-b89131030418"
      },
      "source": [
        "#missing value imputation\n",
        "#Instead of imputing simply by mode, I would like to look at each variable first,\n",
        "#so that I have a better idea as to how to impute\n",
        "\n",
        "#nan for the column, 'num-of-doors'\n",
        "data[data['num-of-doors'].isna()]"
      ],
      "execution_count": 171,
      "outputs": [
        {
          "output_type": "execute_result",
          "data": {
            "text/html": [
              "<div>\n",
              "<style scoped>\n",
              "    .dataframe tbody tr th:only-of-type {\n",
              "        vertical-align: middle;\n",
              "    }\n",
              "\n",
              "    .dataframe tbody tr th {\n",
              "        vertical-align: top;\n",
              "    }\n",
              "\n",
              "    .dataframe thead th {\n",
              "        text-align: right;\n",
              "    }\n",
              "</style>\n",
              "<table border=\"1\" class=\"dataframe\">\n",
              "  <thead>\n",
              "    <tr style=\"text-align: right;\">\n",
              "      <th></th>\n",
              "      <th>symboling</th>\n",
              "      <th>normalized-losses</th>\n",
              "      <th>make</th>\n",
              "      <th>fuel-type</th>\n",
              "      <th>aspiration</th>\n",
              "      <th>num-of-doors</th>\n",
              "      <th>body-style</th>\n",
              "      <th>drive-wheels</th>\n",
              "      <th>engine-location</th>\n",
              "      <th>wheel-base</th>\n",
              "      <th>length</th>\n",
              "      <th>width</th>\n",
              "      <th>height</th>\n",
              "      <th>curb-weight</th>\n",
              "      <th>engine-type</th>\n",
              "      <th>num-of-cyclinders</th>\n",
              "      <th>engine-size</th>\n",
              "      <th>fuel-system</th>\n",
              "      <th>bore</th>\n",
              "      <th>stroke</th>\n",
              "      <th>compression-ratio</th>\n",
              "      <th>horsepower</th>\n",
              "      <th>peak-rpm</th>\n",
              "      <th>city-mpg</th>\n",
              "      <th>highway-mpg</th>\n",
              "      <th>price</th>\n",
              "    </tr>\n",
              "  </thead>\n",
              "  <tbody>\n",
              "    <tr>\n",
              "      <th>27</th>\n",
              "      <td>1</td>\n",
              "      <td>148.0</td>\n",
              "      <td>dodge</td>\n",
              "      <td>gas</td>\n",
              "      <td>turbo</td>\n",
              "      <td>NaN</td>\n",
              "      <td>sedan</td>\n",
              "      <td>fwd</td>\n",
              "      <td>front</td>\n",
              "      <td>93.7</td>\n",
              "      <td>157.3</td>\n",
              "      <td>63.8</td>\n",
              "      <td>50.6</td>\n",
              "      <td>2191</td>\n",
              "      <td>ohc</td>\n",
              "      <td>4</td>\n",
              "      <td>98</td>\n",
              "      <td>mpfi</td>\n",
              "      <td>3.03</td>\n",
              "      <td>3.39</td>\n",
              "      <td>7.6</td>\n",
              "      <td>102.0</td>\n",
              "      <td>5500.0</td>\n",
              "      <td>24</td>\n",
              "      <td>30</td>\n",
              "      <td>8558.0</td>\n",
              "    </tr>\n",
              "    <tr>\n",
              "      <th>63</th>\n",
              "      <td>0</td>\n",
              "      <td>NaN</td>\n",
              "      <td>mazda</td>\n",
              "      <td>diesel</td>\n",
              "      <td>std</td>\n",
              "      <td>NaN</td>\n",
              "      <td>sedan</td>\n",
              "      <td>fwd</td>\n",
              "      <td>front</td>\n",
              "      <td>98.8</td>\n",
              "      <td>177.8</td>\n",
              "      <td>66.5</td>\n",
              "      <td>55.5</td>\n",
              "      <td>2443</td>\n",
              "      <td>ohc</td>\n",
              "      <td>4</td>\n",
              "      <td>122</td>\n",
              "      <td>idi</td>\n",
              "      <td>3.39</td>\n",
              "      <td>3.39</td>\n",
              "      <td>22.7</td>\n",
              "      <td>64.0</td>\n",
              "      <td>4650.0</td>\n",
              "      <td>36</td>\n",
              "      <td>42</td>\n",
              "      <td>10795.0</td>\n",
              "    </tr>\n",
              "  </tbody>\n",
              "</table>\n",
              "</div>"
            ],
            "text/plain": [
              "    symboling  normalized-losses   make  ... city-mpg highway-mpg    price\n",
              "27          1              148.0  dodge  ...       24          30   8558.0\n",
              "63          0                NaN  mazda  ...       36          42  10795.0\n",
              "\n",
              "[2 rows x 26 columns]"
            ]
          },
          "metadata": {
            "tags": []
          },
          "execution_count": 171
        }
      ]
    },
    {
      "cell_type": "code",
      "metadata": {
        "colab": {
          "base_uri": "https://localhost:8080/",
          "height": 279
        },
        "id": "2dajPriBt7qT",
        "outputId": "47f3e94b-0636-420f-f401-bcf088e05f28"
      },
      "source": [
        "#Since the body-style of the two cars is sedan, \n",
        "#I think I can impute num-of-doors as four, as seen from the graph below\n",
        "sns.countplot(data=data, x='body-style', hue='num-of-doors')\n",
        "data['num-of-doors'].fillna('four', inplace = True)\n",
        "\n",
        "data['num-of-doors']=data['num-of-doors'].str.replace('two','2')\n",
        "data['num-of-doors']=data['num-of-doors'].str.replace('four','4')\n",
        "data['num-of-doors']=data['num-of-doors'].astype('int64')"
      ],
      "execution_count": 172,
      "outputs": [
        {
          "output_type": "display_data",
          "data": {
            "image/png": "[encoded data removed]",
            "text/plain": [
              "<Figure size 432x288 with 1 Axes>"
            ]
          },
          "metadata": {
            "tags": [],
            "needs_background": "light"
          }
        }
      ]
    },
    {
      "cell_type": "code",
      "metadata": {
        "colab": {
          "base_uri": "https://localhost:8080/",
          "height": 675
        },
        "id": "odzy8cSSq0Om",
        "outputId": "f7f74362-ce3a-45b0-86da-e8e180fcff00"
      },
      "source": [
        "#for other missing values that are supposed to be numeric\n",
        "#I can use correlation plot, so that I can impute them accordingly.\n",
        "plt.figure(figsize=(12,10))\n",
        "correlation = data.corr()\n",
        "sns.heatmap(correlation, annot=True, cmap=\"Blues\")\n",
        "plt.show() "
      ],
      "execution_count": 173,
      "outputs": [
        {
          "output_type": "display_data",
          "data": {
            "image/png": "[encoded data removed]",
            "text/plain": [
              "<Figure size 864x720 with 2 Axes>"
            ]
          },
          "metadata": {
            "tags": [],
            "needs_background": "light"
          }
        }
      ]
    },
    {
      "cell_type": "code",
      "metadata": {
        "colab": {
          "base_uri": "https://localhost:8080/",
          "height": 227
        },
        "id": "PwY_ptVOvCCv",
        "outputId": "cd28eefd-6510-4cdf-a9c4-9537c21034b4"
      },
      "source": [
        "#bore\n",
        "data[data['bore'].isna()]"
      ],
      "execution_count": 174,
      "outputs": [
        {
          "output_type": "execute_result",
          "data": {
            "text/html": [
              "<div>\n",
              "<style scoped>\n",
              "    .dataframe tbody tr th:only-of-type {\n",
              "        vertical-align: middle;\n",
              "    }\n",
              "\n",
              "    .dataframe tbody tr th {\n",
              "        vertical-align: top;\n",
              "    }\n",
              "\n",
              "    .dataframe thead th {\n",
              "        text-align: right;\n",
              "    }\n",
              "</style>\n",
              "<table border=\"1\" class=\"dataframe\">\n",
              "  <thead>\n",
              "    <tr style=\"text-align: right;\">\n",
              "      <th></th>\n",
              "      <th>symboling</th>\n",
              "      <th>normalized-losses</th>\n",
              "      <th>make</th>\n",
              "      <th>fuel-type</th>\n",
              "      <th>aspiration</th>\n",
              "      <th>num-of-doors</th>\n",
              "      <th>body-style</th>\n",
              "      <th>drive-wheels</th>\n",
              "      <th>engine-location</th>\n",
              "      <th>wheel-base</th>\n",
              "      <th>length</th>\n",
              "      <th>width</th>\n",
              "      <th>height</th>\n",
              "      <th>curb-weight</th>\n",
              "      <th>engine-type</th>\n",
              "      <th>num-of-cyclinders</th>\n",
              "      <th>engine-size</th>\n",
              "      <th>fuel-system</th>\n",
              "      <th>bore</th>\n",
              "      <th>stroke</th>\n",
              "      <th>compression-ratio</th>\n",
              "      <th>horsepower</th>\n",
              "      <th>peak-rpm</th>\n",
              "      <th>city-mpg</th>\n",
              "      <th>highway-mpg</th>\n",
              "      <th>price</th>\n",
              "    </tr>\n",
              "  </thead>\n",
              "  <tbody>\n",
              "    <tr>\n",
              "      <th>55</th>\n",
              "      <td>3</td>\n",
              "      <td>150.0</td>\n",
              "      <td>mazda</td>\n",
              "      <td>gas</td>\n",
              "      <td>std</td>\n",
              "      <td>2</td>\n",
              "      <td>hatchback</td>\n",
              "      <td>rwd</td>\n",
              "      <td>front</td>\n",
              "      <td>95.3</td>\n",
              "      <td>169.0</td>\n",
              "      <td>65.7</td>\n",
              "      <td>49.6</td>\n",
              "      <td>2380</td>\n",
              "      <td>rotor</td>\n",
              "      <td>2</td>\n",
              "      <td>70</td>\n",
              "      <td>4bbl</td>\n",
              "      <td>NaN</td>\n",
              "      <td>NaN</td>\n",
              "      <td>9.4</td>\n",
              "      <td>101.0</td>\n",
              "      <td>6000.0</td>\n",
              "      <td>17</td>\n",
              "      <td>23</td>\n",
              "      <td>10945.0</td>\n",
              "    </tr>\n",
              "    <tr>\n",
              "      <th>56</th>\n",
              "      <td>3</td>\n",
              "      <td>150.0</td>\n",
              "      <td>mazda</td>\n",
              "      <td>gas</td>\n",
              "      <td>std</td>\n",
              "      <td>2</td>\n",
              "      <td>hatchback</td>\n",
              "      <td>rwd</td>\n",
              "      <td>front</td>\n",
              "      <td>95.3</td>\n",
              "      <td>169.0</td>\n",
              "      <td>65.7</td>\n",
              "      <td>49.6</td>\n",
              "      <td>2380</td>\n",
              "      <td>rotor</td>\n",
              "      <td>2</td>\n",
              "      <td>70</td>\n",
              "      <td>4bbl</td>\n",
              "      <td>NaN</td>\n",
              "      <td>NaN</td>\n",
              "      <td>9.4</td>\n",
              "      <td>101.0</td>\n",
              "      <td>6000.0</td>\n",
              "      <td>17</td>\n",
              "      <td>23</td>\n",
              "      <td>11845.0</td>\n",
              "    </tr>\n",
              "    <tr>\n",
              "      <th>57</th>\n",
              "      <td>3</td>\n",
              "      <td>150.0</td>\n",
              "      <td>mazda</td>\n",
              "      <td>gas</td>\n",
              "      <td>std</td>\n",
              "      <td>2</td>\n",
              "      <td>hatchback</td>\n",
              "      <td>rwd</td>\n",
              "      <td>front</td>\n",
              "      <td>95.3</td>\n",
              "      <td>169.0</td>\n",
              "      <td>65.7</td>\n",
              "      <td>49.6</td>\n",
              "      <td>2385</td>\n",
              "      <td>rotor</td>\n",
              "      <td>2</td>\n",
              "      <td>70</td>\n",
              "      <td>4bbl</td>\n",
              "      <td>NaN</td>\n",
              "      <td>NaN</td>\n",
              "      <td>9.4</td>\n",
              "      <td>101.0</td>\n",
              "      <td>6000.0</td>\n",
              "      <td>17</td>\n",
              "      <td>23</td>\n",
              "      <td>13645.0</td>\n",
              "    </tr>\n",
              "    <tr>\n",
              "      <th>58</th>\n",
              "      <td>3</td>\n",
              "      <td>150.0</td>\n",
              "      <td>mazda</td>\n",
              "      <td>gas</td>\n",
              "      <td>std</td>\n",
              "      <td>2</td>\n",
              "      <td>hatchback</td>\n",
              "      <td>rwd</td>\n",
              "      <td>front</td>\n",
              "      <td>95.3</td>\n",
              "      <td>169.0</td>\n",
              "      <td>65.7</td>\n",
              "      <td>49.6</td>\n",
              "      <td>2500</td>\n",
              "      <td>rotor</td>\n",
              "      <td>2</td>\n",
              "      <td>80</td>\n",
              "      <td>mpfi</td>\n",
              "      <td>NaN</td>\n",
              "      <td>NaN</td>\n",
              "      <td>9.4</td>\n",
              "      <td>135.0</td>\n",
              "      <td>6000.0</td>\n",
              "      <td>16</td>\n",
              "      <td>23</td>\n",
              "      <td>15645.0</td>\n",
              "    </tr>\n",
              "  </tbody>\n",
              "</table>\n",
              "</div>"
            ],
            "text/plain": [
              "    symboling  normalized-losses   make  ... city-mpg highway-mpg    price\n",
              "55          3              150.0  mazda  ...       17          23  10945.0\n",
              "56          3              150.0  mazda  ...       17          23  11845.0\n",
              "57          3              150.0  mazda  ...       17          23  13645.0\n",
              "58          3              150.0  mazda  ...       16          23  15645.0\n",
              "\n",
              "[4 rows x 26 columns]"
            ]
          },
          "metadata": {
            "tags": []
          },
          "execution_count": 174
        }
      ]
    },
    {
      "cell_type": "code",
      "metadata": {
        "colab": {
          "base_uri": "https://localhost:8080/",
          "height": 404
        },
        "id": "YQnYZuEJTh7D",
        "outputId": "3501dc4f-b812-4af8-f374-84d5e0f23299"
      },
      "source": [
        "#since bore is correlated to curb-weight and engine-size, (top two)\n",
        "#I should look into the correlations\n",
        "plt.figure(figsize = (14,6))\n",
        "plt.subplot(1,2,1)\n",
        "sns.regplot(data=data, x='bore',y='curb-weight', order = 3)\n",
        "plt.title('bore vs curb-weight')\n",
        "plt.subplot(1,2,2)\n",
        "sns.regplot(data=data, x='bore',y='engine-size', order = 2)\n",
        "plt.title('bore vs engine-size');\n",
        "#it looks like the second graph shows a better correlation to interpret\n"
      ],
      "execution_count": 175,
      "outputs": [
        {
          "output_type": "display_data",
          "data": {
            "image/png": "[encoded data removed]",
            "text/plain": [
              "<Figure size 1008x432 with 2 Axes>"
            ]
          },
          "metadata": {
            "tags": [],
            "needs_background": "light"
          }
        }
      ]
    },
    {
      "cell_type": "code",
      "metadata": {
        "colab": {
          "base_uri": "https://localhost:8080/"
        },
        "id": "0m4P6J3eOxQu",
        "outputId": "e9e6b22e-c611-403b-ffb2-8cca2967f756"
      },
      "source": [
        "#By looking at the plots above, it looks like\n",
        "#for engine-size around 70 and 80, bore is around 2.9\n",
        "data[data['engine-size'].between(70,80)]['bore'].mean()"
      ],
      "execution_count": 176,
      "outputs": [
        {
          "output_type": "execute_result",
          "data": {
            "text/plain": [
              "2.91"
            ]
          },
          "metadata": {
            "tags": []
          },
          "execution_count": 176
        }
      ]
    },
    {
      "cell_type": "code",
      "metadata": {
        "id": "ibLVRnOoPP7E"
      },
      "source": [
        "data['bore'].fillna(2.9, inplace = True)"
      ],
      "execution_count": 177,
      "outputs": []
    },
    {
      "cell_type": "code",
      "metadata": {
        "colab": {
          "base_uri": "https://localhost:8080/",
          "height": 227
        },
        "id": "Ho71aEK4Dgdz",
        "outputId": "24fcd3c2-ca1c-4f95-c9ba-902deb504c9c"
      },
      "source": [
        "data[data['stroke'].isna()]"
      ],
      "execution_count": 178,
      "outputs": [
        {
          "output_type": "execute_result",
          "data": {
            "text/html": [
              "<div>\n",
              "<style scoped>\n",
              "    .dataframe tbody tr th:only-of-type {\n",
              "        vertical-align: middle;\n",
              "    }\n",
              "\n",
              "    .dataframe tbody tr th {\n",
              "        vertical-align: top;\n",
              "    }\n",
              "\n",
              "    .dataframe thead th {\n",
              "        text-align: right;\n",
              "    }\n",
              "</style>\n",
              "<table border=\"1\" class=\"dataframe\">\n",
              "  <thead>\n",
              "    <tr style=\"text-align: right;\">\n",
              "      <th></th>\n",
              "      <th>symboling</th>\n",
              "      <th>normalized-losses</th>\n",
              "      <th>make</th>\n",
              "      <th>fuel-type</th>\n",
              "      <th>aspiration</th>\n",
              "      <th>num-of-doors</th>\n",
              "      <th>body-style</th>\n",
              "      <th>drive-wheels</th>\n",
              "      <th>engine-location</th>\n",
              "      <th>wheel-base</th>\n",
              "      <th>length</th>\n",
              "      <th>width</th>\n",
              "      <th>height</th>\n",
              "      <th>curb-weight</th>\n",
              "      <th>engine-type</th>\n",
              "      <th>num-of-cyclinders</th>\n",
              "      <th>engine-size</th>\n",
              "      <th>fuel-system</th>\n",
              "      <th>bore</th>\n",
              "      <th>stroke</th>\n",
              "      <th>compression-ratio</th>\n",
              "      <th>horsepower</th>\n",
              "      <th>peak-rpm</th>\n",
              "      <th>city-mpg</th>\n",
              "      <th>highway-mpg</th>\n",
              "      <th>price</th>\n",
              "    </tr>\n",
              "  </thead>\n",
              "  <tbody>\n",
              "    <tr>\n",
              "      <th>55</th>\n",
              "      <td>3</td>\n",
              "      <td>150.0</td>\n",
              "      <td>mazda</td>\n",
              "      <td>gas</td>\n",
              "      <td>std</td>\n",
              "      <td>2</td>\n",
              "      <td>hatchback</td>\n",
              "      <td>rwd</td>\n",
              "      <td>front</td>\n",
              "      <td>95.3</td>\n",
              "      <td>169.0</td>\n",
              "      <td>65.7</td>\n",
              "      <td>49.6</td>\n",
              "      <td>2380</td>\n",
              "      <td>rotor</td>\n",
              "      <td>2</td>\n",
              "      <td>70</td>\n",
              "      <td>4bbl</td>\n",
              "      <td>2.9</td>\n",
              "      <td>NaN</td>\n",
              "      <td>9.4</td>\n",
              "      <td>101.0</td>\n",
              "      <td>6000.0</td>\n",
              "      <td>17</td>\n",
              "      <td>23</td>\n",
              "      <td>10945.0</td>\n",
              "    </tr>\n",
              "    <tr>\n",
              "      <th>56</th>\n",
              "      <td>3</td>\n",
              "      <td>150.0</td>\n",
              "      <td>mazda</td>\n",
              "      <td>gas</td>\n",
              "      <td>std</td>\n",
              "      <td>2</td>\n",
              "      <td>hatchback</td>\n",
              "      <td>rwd</td>\n",
              "      <td>front</td>\n",
              "      <td>95.3</td>\n",
              "      <td>169.0</td>\n",
              "      <td>65.7</td>\n",
              "      <td>49.6</td>\n",
              "      <td>2380</td>\n",
              "      <td>rotor</td>\n",
              "      <td>2</td>\n",
              "      <td>70</td>\n",
              "      <td>4bbl</td>\n",
              "      <td>2.9</td>\n",
              "      <td>NaN</td>\n",
              "      <td>9.4</td>\n",
              "      <td>101.0</td>\n",
              "      <td>6000.0</td>\n",
              "      <td>17</td>\n",
              "      <td>23</td>\n",
              "      <td>11845.0</td>\n",
              "    </tr>\n",
              "    <tr>\n",
              "      <th>57</th>\n",
              "      <td>3</td>\n",
              "      <td>150.0</td>\n",
              "      <td>mazda</td>\n",
              "      <td>gas</td>\n",
              "      <td>std</td>\n",
              "      <td>2</td>\n",
              "      <td>hatchback</td>\n",
              "      <td>rwd</td>\n",
              "      <td>front</td>\n",
              "      <td>95.3</td>\n",
              "      <td>169.0</td>\n",
              "      <td>65.7</td>\n",
              "      <td>49.6</td>\n",
              "      <td>2385</td>\n",
              "      <td>rotor</td>\n",
              "      <td>2</td>\n",
              "      <td>70</td>\n",
              "      <td>4bbl</td>\n",
              "      <td>2.9</td>\n",
              "      <td>NaN</td>\n",
              "      <td>9.4</td>\n",
              "      <td>101.0</td>\n",
              "      <td>6000.0</td>\n",
              "      <td>17</td>\n",
              "      <td>23</td>\n",
              "      <td>13645.0</td>\n",
              "    </tr>\n",
              "    <tr>\n",
              "      <th>58</th>\n",
              "      <td>3</td>\n",
              "      <td>150.0</td>\n",
              "      <td>mazda</td>\n",
              "      <td>gas</td>\n",
              "      <td>std</td>\n",
              "      <td>2</td>\n",
              "      <td>hatchback</td>\n",
              "      <td>rwd</td>\n",
              "      <td>front</td>\n",
              "      <td>95.3</td>\n",
              "      <td>169.0</td>\n",
              "      <td>65.7</td>\n",
              "      <td>49.6</td>\n",
              "      <td>2500</td>\n",
              "      <td>rotor</td>\n",
              "      <td>2</td>\n",
              "      <td>80</td>\n",
              "      <td>mpfi</td>\n",
              "      <td>2.9</td>\n",
              "      <td>NaN</td>\n",
              "      <td>9.4</td>\n",
              "      <td>135.0</td>\n",
              "      <td>6000.0</td>\n",
              "      <td>16</td>\n",
              "      <td>23</td>\n",
              "      <td>15645.0</td>\n",
              "    </tr>\n",
              "  </tbody>\n",
              "</table>\n",
              "</div>"
            ],
            "text/plain": [
              "    symboling  normalized-losses   make  ... city-mpg highway-mpg    price\n",
              "55          3              150.0  mazda  ...       17          23  10945.0\n",
              "56          3              150.0  mazda  ...       17          23  11845.0\n",
              "57          3              150.0  mazda  ...       17          23  13645.0\n",
              "58          3              150.0  mazda  ...       16          23  15645.0\n",
              "\n",
              "[4 rows x 26 columns]"
            ]
          },
          "metadata": {
            "tags": []
          },
          "execution_count": 178
        }
      ]
    },
    {
      "cell_type": "code",
      "metadata": {
        "colab": {
          "base_uri": "https://localhost:8080/",
          "height": 404
        },
        "id": "B9fmc9x5Pcia",
        "outputId": "57b26e68-d00c-4f39-ecd0-40c8567c7299"
      },
      "source": [
        "#since stroke is correlated to compression-ratio and engine-size, (top two)\n",
        "#I should look into the correlations\n",
        "plt.figure(figsize = (14,6))\n",
        "plt.subplot(1,2,1)\n",
        "sns.regplot(data=data, x='stroke',y='compression-ratio', order = 3)\n",
        "plt.title('stroke vs compression-ratio')\n",
        "plt.subplot(1,2,2)\n",
        "sns.regplot(data=data, x='stroke',y='engine-size', order = 2)\n",
        "plt.title('stroke vs engine-size');\n",
        "#it looks like the second graph shows a better correlation to interpret\n"
      ],
      "execution_count": 179,
      "outputs": [
        {
          "output_type": "display_data",
          "data": {
            "image/png": "[encoded data removed]",
            "text/plain": [
              "<Figure size 1008x432 with 2 Axes>"
            ]
          },
          "metadata": {
            "tags": [],
            "needs_background": "light"
          }
        }
      ]
    },
    {
      "cell_type": "code",
      "metadata": {
        "colab": {
          "base_uri": "https://localhost:8080/"
        },
        "id": "FuR3XLKEgJXp",
        "outputId": "f0ef4962-c29c-4bd2-c64d-d38f8416f21d"
      },
      "source": [
        "data[data['engine-size'].between(70,80)]['stroke'].mean()"
      ],
      "execution_count": 180,
      "outputs": [
        {
          "output_type": "execute_result",
          "data": {
            "text/plain": [
              "3.07"
            ]
          },
          "metadata": {
            "tags": []
          },
          "execution_count": 180
        }
      ]
    },
    {
      "cell_type": "code",
      "metadata": {
        "id": "nPcFX3p6VIar"
      },
      "source": [
        "#By looking at the plots above, it looks like\n",
        "#for engine-size around 70 and 80, stroke is around 3.0\n",
        "data['stroke'].fillna(3, inplace = True)"
      ],
      "execution_count": 181,
      "outputs": []
    },
    {
      "cell_type": "code",
      "metadata": {
        "colab": {
          "base_uri": "https://localhost:8080/",
          "height": 165
        },
        "id": "1wzrC68FWjKw",
        "outputId": "b04bd90e-37c4-417b-9751-e75e7289e696"
      },
      "source": [
        "data[data['horsepower'].isna()]"
      ],
      "execution_count": 182,
      "outputs": [
        {
          "output_type": "execute_result",
          "data": {
            "text/html": [
              "<div>\n",
              "<style scoped>\n",
              "    .dataframe tbody tr th:only-of-type {\n",
              "        vertical-align: middle;\n",
              "    }\n",
              "\n",
              "    .dataframe tbody tr th {\n",
              "        vertical-align: top;\n",
              "    }\n",
              "\n",
              "    .dataframe thead th {\n",
              "        text-align: right;\n",
              "    }\n",
              "</style>\n",
              "<table border=\"1\" class=\"dataframe\">\n",
              "  <thead>\n",
              "    <tr style=\"text-align: right;\">\n",
              "      <th></th>\n",
              "      <th>symboling</th>\n",
              "      <th>normalized-losses</th>\n",
              "      <th>make</th>\n",
              "      <th>fuel-type</th>\n",
              "      <th>aspiration</th>\n",
              "      <th>num-of-doors</th>\n",
              "      <th>body-style</th>\n",
              "      <th>drive-wheels</th>\n",
              "      <th>engine-location</th>\n",
              "      <th>wheel-base</th>\n",
              "      <th>length</th>\n",
              "      <th>width</th>\n",
              "      <th>height</th>\n",
              "      <th>curb-weight</th>\n",
              "      <th>engine-type</th>\n",
              "      <th>num-of-cyclinders</th>\n",
              "      <th>engine-size</th>\n",
              "      <th>fuel-system</th>\n",
              "      <th>bore</th>\n",
              "      <th>stroke</th>\n",
              "      <th>compression-ratio</th>\n",
              "      <th>horsepower</th>\n",
              "      <th>peak-rpm</th>\n",
              "      <th>city-mpg</th>\n",
              "      <th>highway-mpg</th>\n",
              "      <th>price</th>\n",
              "    </tr>\n",
              "  </thead>\n",
              "  <tbody>\n",
              "    <tr>\n",
              "      <th>130</th>\n",
              "      <td>0</td>\n",
              "      <td>NaN</td>\n",
              "      <td>renault</td>\n",
              "      <td>gas</td>\n",
              "      <td>std</td>\n",
              "      <td>4</td>\n",
              "      <td>wagon</td>\n",
              "      <td>fwd</td>\n",
              "      <td>front</td>\n",
              "      <td>96.1</td>\n",
              "      <td>181.5</td>\n",
              "      <td>66.5</td>\n",
              "      <td>55.2</td>\n",
              "      <td>2579</td>\n",
              "      <td>ohc</td>\n",
              "      <td>4</td>\n",
              "      <td>132</td>\n",
              "      <td>mpfi</td>\n",
              "      <td>3.46</td>\n",
              "      <td>3.9</td>\n",
              "      <td>8.7</td>\n",
              "      <td>NaN</td>\n",
              "      <td>NaN</td>\n",
              "      <td>23</td>\n",
              "      <td>31</td>\n",
              "      <td>9295.0</td>\n",
              "    </tr>\n",
              "    <tr>\n",
              "      <th>131</th>\n",
              "      <td>2</td>\n",
              "      <td>NaN</td>\n",
              "      <td>renault</td>\n",
              "      <td>gas</td>\n",
              "      <td>std</td>\n",
              "      <td>2</td>\n",
              "      <td>hatchback</td>\n",
              "      <td>fwd</td>\n",
              "      <td>front</td>\n",
              "      <td>96.1</td>\n",
              "      <td>176.8</td>\n",
              "      <td>66.6</td>\n",
              "      <td>50.5</td>\n",
              "      <td>2460</td>\n",
              "      <td>ohc</td>\n",
              "      <td>4</td>\n",
              "      <td>132</td>\n",
              "      <td>mpfi</td>\n",
              "      <td>3.46</td>\n",
              "      <td>3.9</td>\n",
              "      <td>8.7</td>\n",
              "      <td>NaN</td>\n",
              "      <td>NaN</td>\n",
              "      <td>23</td>\n",
              "      <td>31</td>\n",
              "      <td>9895.0</td>\n",
              "    </tr>\n",
              "  </tbody>\n",
              "</table>\n",
              "</div>"
            ],
            "text/plain": [
              "     symboling  normalized-losses     make  ... city-mpg highway-mpg   price\n",
              "130          0                NaN  renault  ...       23          31  9295.0\n",
              "131          2                NaN  renault  ...       23          31  9895.0\n",
              "\n",
              "[2 rows x 26 columns]"
            ]
          },
          "metadata": {
            "tags": []
          },
          "execution_count": 182
        }
      ]
    },
    {
      "cell_type": "code",
      "metadata": {
        "colab": {
          "base_uri": "https://localhost:8080/",
          "height": 388
        },
        "id": "ck5PnFu8XYWV",
        "outputId": "a6b63a35-0331-403f-c189-72e7aadb986e"
      },
      "source": [
        "#since horsepower is highly correlated to price and engine-size,\n",
        "#I should look into the correlations\n",
        "plt.figure(figsize=(14,6))\n",
        "plt.subplot(1,2,1)\n",
        "sns.regplot(data=data, x='horsepower',y='engine-size')\n",
        "plt.subplot(1,2,2)\n",
        "sns.regplot(data=data, x='horsepower',y='price');"
      ],
      "execution_count": 183,
      "outputs": [
        {
          "output_type": "display_data",
          "data": {
            "image/png": "[encoded data removed]",
            "text/plain": [
              "<Figure size 1008x432 with 2 Axes>"
            ]
          },
          "metadata": {
            "tags": [],
            "needs_background": "light"
          }
        }
      ]
    },
    {
      "cell_type": "code",
      "metadata": {
        "id": "Fmu8Vh3vX3cq"
      },
      "source": [
        "#it seems to me that\n",
        "#for engine-size 132, horsepower is around 132\n",
        "#for price around 9295~9895, horsepower is around 100 as below"
      ],
      "execution_count": 24,
      "outputs": []
    },
    {
      "cell_type": "code",
      "metadata": {
        "colab": {
          "base_uri": "https://localhost:8080/"
        },
        "id": "we5xKi2uZX3k",
        "outputId": "ac03957b-208e-456e-9cee-a07e2c46c38a"
      },
      "source": [
        "data[data['engine-size'].between(130,134)]['horsepower'].mean()"
      ],
      "execution_count": 184,
      "outputs": [
        {
          "output_type": "execute_result",
          "data": {
            "text/plain": [
              "132.5"
            ]
          },
          "metadata": {
            "tags": []
          },
          "execution_count": 184
        }
      ]
    },
    {
      "cell_type": "code",
      "metadata": {
        "colab": {
          "base_uri": "https://localhost:8080/"
        },
        "id": "GyyukVY4e3ct",
        "outputId": "aa5bce9c-570e-4ff9-e390-2791eff1e088"
      },
      "source": [
        "data[data['price'].between(9295,9895)]['horsepower'].mean()"
      ],
      "execution_count": 185,
      "outputs": [
        {
          "output_type": "execute_result",
          "data": {
            "text/plain": [
              "101.0"
            ]
          },
          "metadata": {
            "tags": []
          },
          "execution_count": 185
        }
      ]
    },
    {
      "cell_type": "code",
      "metadata": {
        "id": "GUT4KQWo2Ip4"
      },
      "source": [
        "#since both variable(engine-size, price) have correlations to horsepower\n",
        "#I would like to impute the value '116.5' into the missing data since '116' is in the middle of 132 and 101\n",
        "data['horsepower'].fillna(116.5, inplace = True)\n"
      ],
      "execution_count": 186,
      "outputs": []
    },
    {
      "cell_type": "code",
      "metadata": {
        "colab": {
          "base_uri": "https://localhost:8080/",
          "height": 165
        },
        "id": "fPA53zEL2rfj",
        "outputId": "ae77cb66-42bf-4262-f4d9-93acc3f9b649"
      },
      "source": [
        "#Peak RPM\n",
        "#Based on the plot above, it seems like this factor is somehow correlated to compression-ratio or wheel-base\n",
        "data[data['peak-rpm'].isna()]"
      ],
      "execution_count": 187,
      "outputs": [
        {
          "output_type": "execute_result",
          "data": {
            "text/html": [
              "<div>\n",
              "<style scoped>\n",
              "    .dataframe tbody tr th:only-of-type {\n",
              "        vertical-align: middle;\n",
              "    }\n",
              "\n",
              "    .dataframe tbody tr th {\n",
              "        vertical-align: top;\n",
              "    }\n",
              "\n",
              "    .dataframe thead th {\n",
              "        text-align: right;\n",
              "    }\n",
              "</style>\n",
              "<table border=\"1\" class=\"dataframe\">\n",
              "  <thead>\n",
              "    <tr style=\"text-align: right;\">\n",
              "      <th></th>\n",
              "      <th>symboling</th>\n",
              "      <th>normalized-losses</th>\n",
              "      <th>make</th>\n",
              "      <th>fuel-type</th>\n",
              "      <th>aspiration</th>\n",
              "      <th>num-of-doors</th>\n",
              "      <th>body-style</th>\n",
              "      <th>drive-wheels</th>\n",
              "      <th>engine-location</th>\n",
              "      <th>wheel-base</th>\n",
              "      <th>length</th>\n",
              "      <th>width</th>\n",
              "      <th>height</th>\n",
              "      <th>curb-weight</th>\n",
              "      <th>engine-type</th>\n",
              "      <th>num-of-cyclinders</th>\n",
              "      <th>engine-size</th>\n",
              "      <th>fuel-system</th>\n",
              "      <th>bore</th>\n",
              "      <th>stroke</th>\n",
              "      <th>compression-ratio</th>\n",
              "      <th>horsepower</th>\n",
              "      <th>peak-rpm</th>\n",
              "      <th>city-mpg</th>\n",
              "      <th>highway-mpg</th>\n",
              "      <th>price</th>\n",
              "    </tr>\n",
              "  </thead>\n",
              "  <tbody>\n",
              "    <tr>\n",
              "      <th>130</th>\n",
              "      <td>0</td>\n",
              "      <td>NaN</td>\n",
              "      <td>renault</td>\n",
              "      <td>gas</td>\n",
              "      <td>std</td>\n",
              "      <td>4</td>\n",
              "      <td>wagon</td>\n",
              "      <td>fwd</td>\n",
              "      <td>front</td>\n",
              "      <td>96.1</td>\n",
              "      <td>181.5</td>\n",
              "      <td>66.5</td>\n",
              "      <td>55.2</td>\n",
              "      <td>2579</td>\n",
              "      <td>ohc</td>\n",
              "      <td>4</td>\n",
              "      <td>132</td>\n",
              "      <td>mpfi</td>\n",
              "      <td>3.46</td>\n",
              "      <td>3.9</td>\n",
              "      <td>8.7</td>\n",
              "      <td>116.5</td>\n",
              "      <td>NaN</td>\n",
              "      <td>23</td>\n",
              "      <td>31</td>\n",
              "      <td>9295.0</td>\n",
              "    </tr>\n",
              "    <tr>\n",
              "      <th>131</th>\n",
              "      <td>2</td>\n",
              "      <td>NaN</td>\n",
              "      <td>renault</td>\n",
              "      <td>gas</td>\n",
              "      <td>std</td>\n",
              "      <td>2</td>\n",
              "      <td>hatchback</td>\n",
              "      <td>fwd</td>\n",
              "      <td>front</td>\n",
              "      <td>96.1</td>\n",
              "      <td>176.8</td>\n",
              "      <td>66.6</td>\n",
              "      <td>50.5</td>\n",
              "      <td>2460</td>\n",
              "      <td>ohc</td>\n",
              "      <td>4</td>\n",
              "      <td>132</td>\n",
              "      <td>mpfi</td>\n",
              "      <td>3.46</td>\n",
              "      <td>3.9</td>\n",
              "      <td>8.7</td>\n",
              "      <td>116.5</td>\n",
              "      <td>NaN</td>\n",
              "      <td>23</td>\n",
              "      <td>31</td>\n",
              "      <td>9895.0</td>\n",
              "    </tr>\n",
              "  </tbody>\n",
              "</table>\n",
              "</div>"
            ],
            "text/plain": [
              "     symboling  normalized-losses     make  ... city-mpg highway-mpg   price\n",
              "130          0                NaN  renault  ...       23          31  9295.0\n",
              "131          2                NaN  renault  ...       23          31  9895.0\n",
              "\n",
              "[2 rows x 26 columns]"
            ]
          },
          "metadata": {
            "tags": []
          },
          "execution_count": 187
        }
      ]
    },
    {
      "cell_type": "code",
      "metadata": {
        "colab": {
          "base_uri": "https://localhost:8080/",
          "height": 404
        },
        "id": "Q_sWMwY_7GFj",
        "outputId": "7c131e83-c297-4e68-9633-a257e849c3da"
      },
      "source": [
        "plt.figure(figsize = (14,6))\n",
        "plt.subplot(1,2,1)\n",
        "sns.regplot(data=data, x='peak-rpm',y='compression-ratio', order = 3)\n",
        "plt.title('compression-ratio vs peak-rpm')\n",
        "plt.subplot(1,2,2)\n",
        "sns.regplot(data=data, x='peak-rpm',y='wheel-base', order = 2)\n",
        "plt.title('wheel-base vs peak-rpm');"
      ],
      "execution_count": 188,
      "outputs": [
        {
          "output_type": "display_data",
          "data": {
            "image/png": "[encoded data removed]",
            "text/plain": [
              "<Figure size 1008x432 with 2 Axes>"
            ]
          },
          "metadata": {
            "tags": [],
            "needs_background": "light"
          }
        }
      ]
    },
    {
      "cell_type": "code",
      "metadata": {
        "colab": {
          "base_uri": "https://localhost:8080/"
        },
        "id": "Btt0eRN1-Cwn",
        "outputId": "d3de87ff-9b0b-4e2d-cd3d-52b2da1069b9"
      },
      "source": [
        "data[data['compression-ratio'].between(8.5,8.9)]['peak-rpm'].mean()"
      ],
      "execution_count": 189,
      "outputs": [
        {
          "output_type": "execute_result",
          "data": {
            "text/plain": [
              "5006.896551724138"
            ]
          },
          "metadata": {
            "tags": []
          },
          "execution_count": 189
        }
      ]
    },
    {
      "cell_type": "code",
      "metadata": {
        "colab": {
          "base_uri": "https://localhost:8080/"
        },
        "id": "_0q4-ftq_VXi",
        "outputId": "bef53b2a-7424-4eea-b575-834c02abbc09"
      },
      "source": [
        "data[data['wheel-base'].between(95,97)]['peak-rpm'].mean()"
      ],
      "execution_count": 190,
      "outputs": [
        {
          "output_type": "execute_result",
          "data": {
            "text/plain": [
              "5176.666666666667"
            ]
          },
          "metadata": {
            "tags": []
          },
          "execution_count": 190
        }
      ]
    },
    {
      "cell_type": "code",
      "metadata": {
        "id": "rNDACusN_4C6"
      },
      "source": [
        "#since both variable(compression-ratio, wheel-base) have correlations to horsepower\n",
        "#I would like to impute the value '5091' into the missing data since '5091' is in the middle of 5006 and 5176\n",
        "data['peak-rpm'].fillna(5091, inplace = True)"
      ],
      "execution_count": 191,
      "outputs": []
    },
    {
      "cell_type": "code",
      "metadata": {
        "id": "OOwZu-lQjOhG"
      },
      "source": [
        "# Encoding the categorical features\n",
        "    \n",
        "categorical_columns = ['make','fuel-type','aspiration', 'body-style', 'drive-wheels',\n",
        "                       'engine-location', 'engine-type', 'fuel-system'] \n",
        "    \n",
        "for column in categorical_columns:\n",
        "  dummies = pd.get_dummies(data[column], prefix=column)\n",
        "  data = pd.concat([data, dummies], axis=1)\n",
        "  data = data.drop(column, axis=1)"
      ],
      "execution_count": 192,
      "outputs": []
    },
    {
      "cell_type": "code",
      "metadata": {
        "colab": {
          "base_uri": "https://localhost:8080/"
        },
        "id": "VO_k3SF0udC7",
        "outputId": "dd0e04b7-9d8f-4afe-ed1d-c4ec1702e4df"
      },
      "source": [
        "data.info()"
      ],
      "execution_count": 193,
      "outputs": [
        {
          "output_type": "stream",
          "text": [
            "<class 'pandas.core.frame.DataFrame'>\n",
            "RangeIndex: 205 entries, 0 to 204\n",
            "Data columns (total 69 columns):\n",
            " #   Column                  Non-Null Count  Dtype  \n",
            "---  ------                  --------------  -----  \n",
            " 0   symboling               205 non-null    int64  \n",
            " 1   normalized-losses       164 non-null    float64\n",
            " 2   num-of-doors            205 non-null    int64  \n",
            " 3   wheel-base              205 non-null    float64\n",
            " 4   length                  205 non-null    float64\n",
            " 5   width                   205 non-null    float64\n",
            " 6   height                  205 non-null    float64\n",
            " 7   curb-weight             205 non-null    int64  \n",
            " 8   num-of-cyclinders       205 non-null    int64  \n",
            " 9   engine-size             205 non-null    int64  \n",
            " 10  bore                    205 non-null    float64\n",
            " 11  stroke                  205 non-null    float64\n",
            " 12  compression-ratio       205 non-null    float64\n",
            " 13  horsepower              205 non-null    float64\n",
            " 14  peak-rpm                205 non-null    float64\n",
            " 15  city-mpg                205 non-null    int64  \n",
            " 16  highway-mpg             205 non-null    int64  \n",
            " 17  price                   201 non-null    float64\n",
            " 18  make_alfa-romero        205 non-null    uint8  \n",
            " 19  make_audi               205 non-null    uint8  \n",
            " 20  make_bmw                205 non-null    uint8  \n",
            " 21  make_chevrolet          205 non-null    uint8  \n",
            " 22  make_dodge              205 non-null    uint8  \n",
            " 23  make_honda              205 non-null    uint8  \n",
            " 24  make_isuzu              205 non-null    uint8  \n",
            " 25  make_jaguar             205 non-null    uint8  \n",
            " 26  make_mazda              205 non-null    uint8  \n",
            " 27  make_mercedes-benz      205 non-null    uint8  \n",
            " 28  make_mercury            205 non-null    uint8  \n",
            " 29  make_mitsubishi         205 non-null    uint8  \n",
            " 30  make_nissan             205 non-null    uint8  \n",
            " 31  make_peugot             205 non-null    uint8  \n",
            " 32  make_plymouth           205 non-null    uint8  \n",
            " 33  make_porsche            205 non-null    uint8  \n",
            " 34  make_renault            205 non-null    uint8  \n",
            " 35  make_saab               205 non-null    uint8  \n",
            " 36  make_subaru             205 non-null    uint8  \n",
            " 37  make_toyota             205 non-null    uint8  \n",
            " 38  make_volkswagen         205 non-null    uint8  \n",
            " 39  make_volvo              205 non-null    uint8  \n",
            " 40  fuel-type_diesel        205 non-null    uint8  \n",
            " 41  fuel-type_gas           205 non-null    uint8  \n",
            " 42  aspiration_std          205 non-null    uint8  \n",
            " 43  aspiration_turbo        205 non-null    uint8  \n",
            " 44  body-style_convertible  205 non-null    uint8  \n",
            " 45  body-style_hardtop      205 non-null    uint8  \n",
            " 46  body-style_hatchback    205 non-null    uint8  \n",
            " 47  body-style_sedan        205 non-null    uint8  \n",
            " 48  body-style_wagon        205 non-null    uint8  \n",
            " 49  drive-wheels_4wd        205 non-null    uint8  \n",
            " 50  drive-wheels_fwd        205 non-null    uint8  \n",
            " 51  drive-wheels_rwd        205 non-null    uint8  \n",
            " 52  engine-location_front   205 non-null    uint8  \n",
            " 53  engine-location_rear    205 non-null    uint8  \n",
            " 54  engine-type_dohc        205 non-null    uint8  \n",
            " 55  engine-type_dohcv       205 non-null    uint8  \n",
            " 56  engine-type_l           205 non-null    uint8  \n",
            " 57  engine-type_ohc         205 non-null    uint8  \n",
            " 58  engine-type_ohcf        205 non-null    uint8  \n",
            " 59  engine-type_ohcv        205 non-null    uint8  \n",
            " 60  engine-type_rotor       205 non-null    uint8  \n",
            " 61  fuel-system_1bbl        205 non-null    uint8  \n",
            " 62  fuel-system_2bbl        205 non-null    uint8  \n",
            " 63  fuel-system_4bbl        205 non-null    uint8  \n",
            " 64  fuel-system_idi         205 non-null    uint8  \n",
            " 65  fuel-system_mfi         205 non-null    uint8  \n",
            " 66  fuel-system_mpfi        205 non-null    uint8  \n",
            " 67  fuel-system_spdi        205 non-null    uint8  \n",
            " 68  fuel-system_spfi        205 non-null    uint8  \n",
            "dtypes: float64(11), int64(7), uint8(51)\n",
            "memory usage: 39.2 KB\n"
          ],
          "name": "stdout"
        }
      ]
    },
    {
      "cell_type": "code",
      "metadata": {
        "id": "i8_mMeWK50Jc"
      },
      "source": [
        "#skipping data sample with missing values in the target\n",
        "data = data[data.price.notna()]"
      ],
      "execution_count": 194,
      "outputs": []
    },
    {
      "cell_type": "code",
      "metadata": {
        "id": "diwgBaRhgWOu"
      },
      "source": [
        "#now we have only one variable with missing values, which is normalized-losses\n",
        "#since there are more than 40 missing values in the variable, and that is around one fifth of the dataset\n",
        "#I think it is a better idea to impute the values with a simple linear regression model\n",
        "\n",
        "train=data[data['normalized-losses'].notna()]\n",
        "train_x = train.drop('normalized-losses',1)\n",
        "train_y = train['normalized-losses']\n",
        "test=data[data['normalized-losses'].isna()]\n",
        "test_x = test.drop('normalized-losses',1)\n",
        "test_y = test['normalized-losses']"
      ],
      "execution_count": 195,
      "outputs": []
    },
    {
      "cell_type": "code",
      "metadata": {
        "id": "CdLpXVyDlvoL"
      },
      "source": [
        "\n",
        "lm = LinearRegression().fit(train_x,train_y)\n"
      ],
      "execution_count": 196,
      "outputs": []
    },
    {
      "cell_type": "code",
      "metadata": {
        "id": "E2vta4MKxu42"
      },
      "source": [
        "data.loc[data['normalized-losses'].isna(),'normalized-losses'] = lm.predict(test_x)"
      ],
      "execution_count": 197,
      "outputs": []
    },
    {
      "cell_type": "code",
      "metadata": {
        "colab": {
          "base_uri": "https://localhost:8080/"
        },
        "id": "NCuj9R1qxIM_",
        "outputId": "ac8a229a-14cb-4e4d-94d7-c10b4dd8d5de"
      },
      "source": [
        "data.info()"
      ],
      "execution_count": 198,
      "outputs": [
        {
          "output_type": "stream",
          "text": [
            "<class 'pandas.core.frame.DataFrame'>\n",
            "Int64Index: 201 entries, 0 to 204\n",
            "Data columns (total 69 columns):\n",
            " #   Column                  Non-Null Count  Dtype  \n",
            "---  ------                  --------------  -----  \n",
            " 0   symboling               201 non-null    int64  \n",
            " 1   normalized-losses       201 non-null    float64\n",
            " 2   num-of-doors            201 non-null    int64  \n",
            " 3   wheel-base              201 non-null    float64\n",
            " 4   length                  201 non-null    float64\n",
            " 5   width                   201 non-null    float64\n",
            " 6   height                  201 non-null    float64\n",
            " 7   curb-weight             201 non-null    int64  \n",
            " 8   num-of-cyclinders       201 non-null    int64  \n",
            " 9   engine-size             201 non-null    int64  \n",
            " 10  bore                    201 non-null    float64\n",
            " 11  stroke                  201 non-null    float64\n",
            " 12  compression-ratio       201 non-null    float64\n",
            " 13  horsepower              201 non-null    float64\n",
            " 14  peak-rpm                201 non-null    float64\n",
            " 15  city-mpg                201 non-null    int64  \n",
            " 16  highway-mpg             201 non-null    int64  \n",
            " 17  price                   201 non-null    float64\n",
            " 18  make_alfa-romero        201 non-null    uint8  \n",
            " 19  make_audi               201 non-null    uint8  \n",
            " 20  make_bmw                201 non-null    uint8  \n",
            " 21  make_chevrolet          201 non-null    uint8  \n",
            " 22  make_dodge              201 non-null    uint8  \n",
            " 23  make_honda              201 non-null    uint8  \n",
            " 24  make_isuzu              201 non-null    uint8  \n",
            " 25  make_jaguar             201 non-null    uint8  \n",
            " 26  make_mazda              201 non-null    uint8  \n",
            " 27  make_mercedes-benz      201 non-null    uint8  \n",
            " 28  make_mercury            201 non-null    uint8  \n",
            " 29  make_mitsubishi         201 non-null    uint8  \n",
            " 30  make_nissan             201 non-null    uint8  \n",
            " 31  make_peugot             201 non-null    uint8  \n",
            " 32  make_plymouth           201 non-null    uint8  \n",
            " 33  make_porsche            201 non-null    uint8  \n",
            " 34  make_renault            201 non-null    uint8  \n",
            " 35  make_saab               201 non-null    uint8  \n",
            " 36  make_subaru             201 non-null    uint8  \n",
            " 37  make_toyota             201 non-null    uint8  \n",
            " 38  make_volkswagen         201 non-null    uint8  \n",
            " 39  make_volvo              201 non-null    uint8  \n",
            " 40  fuel-type_diesel        201 non-null    uint8  \n",
            " 41  fuel-type_gas           201 non-null    uint8  \n",
            " 42  aspiration_std          201 non-null    uint8  \n",
            " 43  aspiration_turbo        201 non-null    uint8  \n",
            " 44  body-style_convertible  201 non-null    uint8  \n",
            " 45  body-style_hardtop      201 non-null    uint8  \n",
            " 46  body-style_hatchback    201 non-null    uint8  \n",
            " 47  body-style_sedan        201 non-null    uint8  \n",
            " 48  body-style_wagon        201 non-null    uint8  \n",
            " 49  drive-wheels_4wd        201 non-null    uint8  \n",
            " 50  drive-wheels_fwd        201 non-null    uint8  \n",
            " 51  drive-wheels_rwd        201 non-null    uint8  \n",
            " 52  engine-location_front   201 non-null    uint8  \n",
            " 53  engine-location_rear    201 non-null    uint8  \n",
            " 54  engine-type_dohc        201 non-null    uint8  \n",
            " 55  engine-type_dohcv       201 non-null    uint8  \n",
            " 56  engine-type_l           201 non-null    uint8  \n",
            " 57  engine-type_ohc         201 non-null    uint8  \n",
            " 58  engine-type_ohcf        201 non-null    uint8  \n",
            " 59  engine-type_ohcv        201 non-null    uint8  \n",
            " 60  engine-type_rotor       201 non-null    uint8  \n",
            " 61  fuel-system_1bbl        201 non-null    uint8  \n",
            " 62  fuel-system_2bbl        201 non-null    uint8  \n",
            " 63  fuel-system_4bbl        201 non-null    uint8  \n",
            " 64  fuel-system_idi         201 non-null    uint8  \n",
            " 65  fuel-system_mfi         201 non-null    uint8  \n",
            " 66  fuel-system_mpfi        201 non-null    uint8  \n",
            " 67  fuel-system_spdi        201 non-null    uint8  \n",
            " 68  fuel-system_spfi        201 non-null    uint8  \n",
            "dtypes: float64(11), int64(7), uint8(51)\n",
            "memory usage: 39.8 KB\n"
          ],
          "name": "stdout"
        }
      ]
    },
    {
      "cell_type": "code",
      "metadata": {
        "id": "qZs_SgVnDExC"
      },
      "source": [
        "from statsmodels.stats.outliers_influence import variance_inflation_factor as vif \n",
        "def vif_examine(df):\n",
        "  # the independent variables set \n",
        "  X = df.select_dtypes(include = [\"float64\",\"int64\"])\n",
        "  \n",
        "  # VIF dataframe \n",
        "  vif_data = pd.DataFrame() \n",
        "  vif_data[\"feature\"] = X.columns \n",
        "  \n",
        "  # calculating VIF for each feature \n",
        "  vif_data[\"VIF\"] = [vif(X.values, i) for i in range(len(X.columns))] \n",
        "  print(vif_data)"
      ],
      "execution_count": 199,
      "outputs": []
    },
    {
      "cell_type": "code",
      "metadata": {
        "colab": {
          "base_uri": "https://localhost:8080/"
        },
        "id": "WQGUP7wdDm-J",
        "outputId": "25f4ff1a-68ea-4c88-d5f0-c6856ee511af"
      },
      "source": [
        "vif_examine(data)"
      ],
      "execution_count": 200,
      "outputs": [
        {
          "output_type": "stream",
          "text": [
            "              feature          VIF\n",
            "0           symboling     4.719695\n",
            "1   normalized-losses    25.207529\n",
            "2        num-of-doors    26.313133\n",
            "3          wheel-base  2549.153666\n",
            "4              length  2117.789614\n",
            "5               width  3604.125447\n",
            "6              height  1135.494712\n",
            "7         curb-weight   439.874795\n",
            "8   num-of-cyclinders   184.933162\n",
            "9         engine-size   337.109695\n",
            "10               bore   507.631092\n",
            "11             stroke   202.672236\n",
            "12  compression-ratio    17.596885\n",
            "13         horsepower    84.171843\n",
            "14           peak-rpm   237.037666\n",
            "15           city-mpg   485.372532\n",
            "16        highway-mpg   562.863795\n",
            "17              price    26.797665\n"
          ],
          "name": "stdout"
        }
      ]
    },
    {
      "cell_type": "code",
      "metadata": {
        "id": "iSHYWYbfFdPz"
      },
      "source": [
        "data['volume'] = data['length']*data['width']*data['height']"
      ],
      "execution_count": 201,
      "outputs": []
    },
    {
      "cell_type": "code",
      "metadata": {
        "id": "Phx3zSJCGW7D"
      },
      "source": [
        "\n",
        "data=data.drop(['length','width','height'], axis = 1)\n"
      ],
      "execution_count": 202,
      "outputs": []
    },
    {
      "cell_type": "code",
      "metadata": {
        "colab": {
          "base_uri": "https://localhost:8080/",
          "height": 334
        },
        "id": "VV0Okf3w-_Cb",
        "outputId": "363934ea-6bea-4126-8536-2767cd7ad0ed"
      },
      "source": [
        "#do not see any sign of outliers\n",
        "data.describe()"
      ],
      "execution_count": 212,
      "outputs": [
        {
          "output_type": "execute_result",
          "data": {
            "text/html": [
              "<div>\n",
              "<style scoped>\n",
              "    .dataframe tbody tr th:only-of-type {\n",
              "        vertical-align: middle;\n",
              "    }\n",
              "\n",
              "    .dataframe tbody tr th {\n",
              "        vertical-align: top;\n",
              "    }\n",
              "\n",
              "    .dataframe thead th {\n",
              "        text-align: right;\n",
              "    }\n",
              "</style>\n",
              "<table border=\"1\" class=\"dataframe\">\n",
              "  <thead>\n",
              "    <tr style=\"text-align: right;\">\n",
              "      <th></th>\n",
              "      <th>symboling</th>\n",
              "      <th>normalized-losses</th>\n",
              "      <th>num-of-doors</th>\n",
              "      <th>wheel-base</th>\n",
              "      <th>curb-weight</th>\n",
              "      <th>num-of-cyclinders</th>\n",
              "      <th>engine-size</th>\n",
              "      <th>bore</th>\n",
              "      <th>stroke</th>\n",
              "      <th>compression-ratio</th>\n",
              "      <th>horsepower</th>\n",
              "      <th>peak-rpm</th>\n",
              "      <th>city-mpg</th>\n",
              "      <th>highway-mpg</th>\n",
              "      <th>price</th>\n",
              "      <th>make_alfa-romero</th>\n",
              "      <th>make_audi</th>\n",
              "      <th>make_bmw</th>\n",
              "      <th>make_chevrolet</th>\n",
              "      <th>make_dodge</th>\n",
              "      <th>make_honda</th>\n",
              "      <th>make_isuzu</th>\n",
              "      <th>make_jaguar</th>\n",
              "      <th>make_mazda</th>\n",
              "      <th>make_mercedes-benz</th>\n",
              "      <th>make_mercury</th>\n",
              "      <th>make_mitsubishi</th>\n",
              "      <th>make_nissan</th>\n",
              "      <th>make_peugot</th>\n",
              "      <th>make_plymouth</th>\n",
              "      <th>make_porsche</th>\n",
              "      <th>make_renault</th>\n",
              "      <th>make_saab</th>\n",
              "      <th>make_subaru</th>\n",
              "      <th>make_toyota</th>\n",
              "      <th>make_volkswagen</th>\n",
              "      <th>make_volvo</th>\n",
              "      <th>fuel-type_diesel</th>\n",
              "      <th>fuel-type_gas</th>\n",
              "      <th>aspiration_std</th>\n",
              "      <th>aspiration_turbo</th>\n",
              "      <th>body-style_convertible</th>\n",
              "      <th>body-style_hardtop</th>\n",
              "      <th>body-style_hatchback</th>\n",
              "      <th>body-style_sedan</th>\n",
              "      <th>body-style_wagon</th>\n",
              "      <th>drive-wheels_4wd</th>\n",
              "      <th>drive-wheels_fwd</th>\n",
              "      <th>drive-wheels_rwd</th>\n",
              "      <th>engine-location_front</th>\n",
              "      <th>engine-location_rear</th>\n",
              "      <th>engine-type_dohc</th>\n",
              "      <th>engine-type_dohcv</th>\n",
              "      <th>engine-type_l</th>\n",
              "      <th>engine-type_ohc</th>\n",
              "      <th>engine-type_ohcf</th>\n",
              "      <th>engine-type_ohcv</th>\n",
              "      <th>engine-type_rotor</th>\n",
              "      <th>fuel-system_1bbl</th>\n",
              "      <th>fuel-system_2bbl</th>\n",
              "      <th>fuel-system_4bbl</th>\n",
              "      <th>fuel-system_idi</th>\n",
              "      <th>fuel-system_mfi</th>\n",
              "      <th>fuel-system_mpfi</th>\n",
              "      <th>fuel-system_spdi</th>\n",
              "      <th>fuel-system_spfi</th>\n",
              "      <th>volume</th>\n",
              "    </tr>\n",
              "  </thead>\n",
              "  <tbody>\n",
              "    <tr>\n",
              "      <th>count</th>\n",
              "      <td>201.000000</td>\n",
              "      <td>201.000000</td>\n",
              "      <td>201.000000</td>\n",
              "      <td>201.000000</td>\n",
              "      <td>201.000000</td>\n",
              "      <td>201.000000</td>\n",
              "      <td>201.000000</td>\n",
              "      <td>201.000000</td>\n",
              "      <td>201.000000</td>\n",
              "      <td>201.000000</td>\n",
              "      <td>201.000000</td>\n",
              "      <td>201.000000</td>\n",
              "      <td>201.000000</td>\n",
              "      <td>201.000000</td>\n",
              "      <td>201.000000</td>\n",
              "      <td>201.000000</td>\n",
              "      <td>201.000000</td>\n",
              "      <td>201.000000</td>\n",
              "      <td>201.000000</td>\n",
              "      <td>201.000000</td>\n",
              "      <td>201.000000</td>\n",
              "      <td>201.000000</td>\n",
              "      <td>201.000000</td>\n",
              "      <td>201.000000</td>\n",
              "      <td>201.000000</td>\n",
              "      <td>201.000000</td>\n",
              "      <td>201.000000</td>\n",
              "      <td>201.000000</td>\n",
              "      <td>201.000000</td>\n",
              "      <td>201.000000</td>\n",
              "      <td>201.000000</td>\n",
              "      <td>201.000000</td>\n",
              "      <td>201.000000</td>\n",
              "      <td>201.000000</td>\n",
              "      <td>201.000000</td>\n",
              "      <td>201.000000</td>\n",
              "      <td>201.000000</td>\n",
              "      <td>201.000000</td>\n",
              "      <td>201.000000</td>\n",
              "      <td>201.000000</td>\n",
              "      <td>201.000000</td>\n",
              "      <td>201.000000</td>\n",
              "      <td>201.000000</td>\n",
              "      <td>201.000000</td>\n",
              "      <td>201.000000</td>\n",
              "      <td>201.000000</td>\n",
              "      <td>201.000000</td>\n",
              "      <td>201.000000</td>\n",
              "      <td>201.000000</td>\n",
              "      <td>201.000000</td>\n",
              "      <td>201.000000</td>\n",
              "      <td>201.000000</td>\n",
              "      <td>201.0</td>\n",
              "      <td>201.000000</td>\n",
              "      <td>201.000000</td>\n",
              "      <td>201.000000</td>\n",
              "      <td>201.000000</td>\n",
              "      <td>201.000000</td>\n",
              "      <td>201.000000</td>\n",
              "      <td>201.000000</td>\n",
              "      <td>201.000000</td>\n",
              "      <td>201.000000</td>\n",
              "      <td>201.000000</td>\n",
              "      <td>201.000000</td>\n",
              "      <td>201.000000</td>\n",
              "      <td>201.000000</td>\n",
              "      <td>201.000000</td>\n",
              "    </tr>\n",
              "    <tr>\n",
              "      <th>mean</th>\n",
              "      <td>0.840796</td>\n",
              "      <td>127.323168</td>\n",
              "      <td>3.144279</td>\n",
              "      <td>98.797015</td>\n",
              "      <td>2555.666667</td>\n",
              "      <td>4.363184</td>\n",
              "      <td>126.875622</td>\n",
              "      <td>3.322139</td>\n",
              "      <td>3.251791</td>\n",
              "      <td>10.164279</td>\n",
              "      <td>103.527363</td>\n",
              "      <td>5117.323383</td>\n",
              "      <td>25.179104</td>\n",
              "      <td>30.686567</td>\n",
              "      <td>13207.129353</td>\n",
              "      <td>0.014925</td>\n",
              "      <td>0.029851</td>\n",
              "      <td>0.039801</td>\n",
              "      <td>0.014925</td>\n",
              "      <td>0.044776</td>\n",
              "      <td>0.064677</td>\n",
              "      <td>0.009950</td>\n",
              "      <td>0.014925</td>\n",
              "      <td>0.084577</td>\n",
              "      <td>0.039801</td>\n",
              "      <td>0.004975</td>\n",
              "      <td>0.064677</td>\n",
              "      <td>0.089552</td>\n",
              "      <td>0.054726</td>\n",
              "      <td>0.034826</td>\n",
              "      <td>0.019900</td>\n",
              "      <td>0.009950</td>\n",
              "      <td>0.029851</td>\n",
              "      <td>0.059701</td>\n",
              "      <td>0.159204</td>\n",
              "      <td>0.059701</td>\n",
              "      <td>0.054726</td>\n",
              "      <td>0.099502</td>\n",
              "      <td>0.900498</td>\n",
              "      <td>0.820896</td>\n",
              "      <td>0.179104</td>\n",
              "      <td>0.029851</td>\n",
              "      <td>0.039801</td>\n",
              "      <td>0.338308</td>\n",
              "      <td>0.467662</td>\n",
              "      <td>0.124378</td>\n",
              "      <td>0.039801</td>\n",
              "      <td>0.587065</td>\n",
              "      <td>0.373134</td>\n",
              "      <td>0.985075</td>\n",
              "      <td>0.014925</td>\n",
              "      <td>0.059701</td>\n",
              "      <td>0.0</td>\n",
              "      <td>0.059701</td>\n",
              "      <td>0.721393</td>\n",
              "      <td>0.074627</td>\n",
              "      <td>0.064677</td>\n",
              "      <td>0.019900</td>\n",
              "      <td>0.054726</td>\n",
              "      <td>0.318408</td>\n",
              "      <td>0.014925</td>\n",
              "      <td>0.099502</td>\n",
              "      <td>0.004975</td>\n",
              "      <td>0.457711</td>\n",
              "      <td>0.044776</td>\n",
              "      <td>0.004975</td>\n",
              "      <td>619579.968378</td>\n",
              "    </tr>\n",
              "    <tr>\n",
              "      <th>std</th>\n",
              "      <td>1.254802</td>\n",
              "      <td>37.026592</td>\n",
              "      <td>0.992008</td>\n",
              "      <td>6.066366</td>\n",
              "      <td>517.296727</td>\n",
              "      <td>1.059452</td>\n",
              "      <td>41.546834</td>\n",
              "      <td>0.274771</td>\n",
              "      <td>0.318088</td>\n",
              "      <td>4.004965</td>\n",
              "      <td>37.388340</td>\n",
              "      <td>478.120497</td>\n",
              "      <td>6.423220</td>\n",
              "      <td>6.815150</td>\n",
              "      <td>7947.066342</td>\n",
              "      <td>0.121557</td>\n",
              "      <td>0.170600</td>\n",
              "      <td>0.195979</td>\n",
              "      <td>0.121557</td>\n",
              "      <td>0.207328</td>\n",
              "      <td>0.246568</td>\n",
              "      <td>0.099501</td>\n",
              "      <td>0.121557</td>\n",
              "      <td>0.278946</td>\n",
              "      <td>0.195979</td>\n",
              "      <td>0.070535</td>\n",
              "      <td>0.246568</td>\n",
              "      <td>0.286252</td>\n",
              "      <td>0.228013</td>\n",
              "      <td>0.183796</td>\n",
              "      <td>0.140007</td>\n",
              "      <td>0.099501</td>\n",
              "      <td>0.170600</td>\n",
              "      <td>0.237525</td>\n",
              "      <td>0.366780</td>\n",
              "      <td>0.237525</td>\n",
              "      <td>0.228013</td>\n",
              "      <td>0.300083</td>\n",
              "      <td>0.300083</td>\n",
              "      <td>0.384397</td>\n",
              "      <td>0.384397</td>\n",
              "      <td>0.170600</td>\n",
              "      <td>0.195979</td>\n",
              "      <td>0.474315</td>\n",
              "      <td>0.500199</td>\n",
              "      <td>0.330836</td>\n",
              "      <td>0.195979</td>\n",
              "      <td>0.493591</td>\n",
              "      <td>0.484845</td>\n",
              "      <td>0.121557</td>\n",
              "      <td>0.121557</td>\n",
              "      <td>0.237525</td>\n",
              "      <td>0.0</td>\n",
              "      <td>0.237525</td>\n",
              "      <td>0.449433</td>\n",
              "      <td>0.263444</td>\n",
              "      <td>0.246568</td>\n",
              "      <td>0.140007</td>\n",
              "      <td>0.228013</td>\n",
              "      <td>0.467022</td>\n",
              "      <td>0.121557</td>\n",
              "      <td>0.300083</td>\n",
              "      <td>0.070535</td>\n",
              "      <td>0.499452</td>\n",
              "      <td>0.207328</td>\n",
              "      <td>0.070535</td>\n",
              "      <td>79564.106791</td>\n",
              "    </tr>\n",
              "    <tr>\n",
              "      <th>min</th>\n",
              "      <td>-2.000000</td>\n",
              "      <td>65.000000</td>\n",
              "      <td>2.000000</td>\n",
              "      <td>86.600000</td>\n",
              "      <td>1488.000000</td>\n",
              "      <td>2.000000</td>\n",
              "      <td>61.000000</td>\n",
              "      <td>2.540000</td>\n",
              "      <td>2.070000</td>\n",
              "      <td>7.000000</td>\n",
              "      <td>48.000000</td>\n",
              "      <td>4150.000000</td>\n",
              "      <td>13.000000</td>\n",
              "      <td>16.000000</td>\n",
              "      <td>5118.000000</td>\n",
              "      <td>0.000000</td>\n",
              "      <td>0.000000</td>\n",
              "      <td>0.000000</td>\n",
              "      <td>0.000000</td>\n",
              "      <td>0.000000</td>\n",
              "      <td>0.000000</td>\n",
              "      <td>0.000000</td>\n",
              "      <td>0.000000</td>\n",
              "      <td>0.000000</td>\n",
              "      <td>0.000000</td>\n",
              "      <td>0.000000</td>\n",
              "      <td>0.000000</td>\n",
              "      <td>0.000000</td>\n",
              "      <td>0.000000</td>\n",
              "      <td>0.000000</td>\n",
              "      <td>0.000000</td>\n",
              "      <td>0.000000</td>\n",
              "      <td>0.000000</td>\n",
              "      <td>0.000000</td>\n",
              "      <td>0.000000</td>\n",
              "      <td>0.000000</td>\n",
              "      <td>0.000000</td>\n",
              "      <td>0.000000</td>\n",
              "      <td>0.000000</td>\n",
              "      <td>0.000000</td>\n",
              "      <td>0.000000</td>\n",
              "      <td>0.000000</td>\n",
              "      <td>0.000000</td>\n",
              "      <td>0.000000</td>\n",
              "      <td>0.000000</td>\n",
              "      <td>0.000000</td>\n",
              "      <td>0.000000</td>\n",
              "      <td>0.000000</td>\n",
              "      <td>0.000000</td>\n",
              "      <td>0.000000</td>\n",
              "      <td>0.000000</td>\n",
              "      <td>0.000000</td>\n",
              "      <td>0.0</td>\n",
              "      <td>0.000000</td>\n",
              "      <td>0.000000</td>\n",
              "      <td>0.000000</td>\n",
              "      <td>0.000000</td>\n",
              "      <td>0.000000</td>\n",
              "      <td>0.000000</td>\n",
              "      <td>0.000000</td>\n",
              "      <td>0.000000</td>\n",
              "      <td>0.000000</td>\n",
              "      <td>0.000000</td>\n",
              "      <td>0.000000</td>\n",
              "      <td>0.000000</td>\n",
              "      <td>0.000000</td>\n",
              "      <td>452643.156000</td>\n",
              "    </tr>\n",
              "    <tr>\n",
              "      <th>25%</th>\n",
              "      <td>0.000000</td>\n",
              "      <td>95.000000</td>\n",
              "      <td>2.000000</td>\n",
              "      <td>94.500000</td>\n",
              "      <td>2169.000000</td>\n",
              "      <td>4.000000</td>\n",
              "      <td>98.000000</td>\n",
              "      <td>3.150000</td>\n",
              "      <td>3.100000</td>\n",
              "      <td>8.600000</td>\n",
              "      <td>70.000000</td>\n",
              "      <td>4800.000000</td>\n",
              "      <td>19.000000</td>\n",
              "      <td>25.000000</td>\n",
              "      <td>7775.000000</td>\n",
              "      <td>0.000000</td>\n",
              "      <td>0.000000</td>\n",
              "      <td>0.000000</td>\n",
              "      <td>0.000000</td>\n",
              "      <td>0.000000</td>\n",
              "      <td>0.000000</td>\n",
              "      <td>0.000000</td>\n",
              "      <td>0.000000</td>\n",
              "      <td>0.000000</td>\n",
              "      <td>0.000000</td>\n",
              "      <td>0.000000</td>\n",
              "      <td>0.000000</td>\n",
              "      <td>0.000000</td>\n",
              "      <td>0.000000</td>\n",
              "      <td>0.000000</td>\n",
              "      <td>0.000000</td>\n",
              "      <td>0.000000</td>\n",
              "      <td>0.000000</td>\n",
              "      <td>0.000000</td>\n",
              "      <td>0.000000</td>\n",
              "      <td>0.000000</td>\n",
              "      <td>0.000000</td>\n",
              "      <td>0.000000</td>\n",
              "      <td>1.000000</td>\n",
              "      <td>1.000000</td>\n",
              "      <td>0.000000</td>\n",
              "      <td>0.000000</td>\n",
              "      <td>0.000000</td>\n",
              "      <td>0.000000</td>\n",
              "      <td>0.000000</td>\n",
              "      <td>0.000000</td>\n",
              "      <td>0.000000</td>\n",
              "      <td>0.000000</td>\n",
              "      <td>0.000000</td>\n",
              "      <td>1.000000</td>\n",
              "      <td>0.000000</td>\n",
              "      <td>0.000000</td>\n",
              "      <td>0.0</td>\n",
              "      <td>0.000000</td>\n",
              "      <td>0.000000</td>\n",
              "      <td>0.000000</td>\n",
              "      <td>0.000000</td>\n",
              "      <td>0.000000</td>\n",
              "      <td>0.000000</td>\n",
              "      <td>0.000000</td>\n",
              "      <td>0.000000</td>\n",
              "      <td>0.000000</td>\n",
              "      <td>0.000000</td>\n",
              "      <td>0.000000</td>\n",
              "      <td>0.000000</td>\n",
              "      <td>0.000000</td>\n",
              "      <td>566490.600000</td>\n",
              "    </tr>\n",
              "    <tr>\n",
              "      <th>50%</th>\n",
              "      <td>1.000000</td>\n",
              "      <td>122.000000</td>\n",
              "      <td>4.000000</td>\n",
              "      <td>97.000000</td>\n",
              "      <td>2414.000000</td>\n",
              "      <td>4.000000</td>\n",
              "      <td>120.000000</td>\n",
              "      <td>3.310000</td>\n",
              "      <td>3.290000</td>\n",
              "      <td>9.000000</td>\n",
              "      <td>95.000000</td>\n",
              "      <td>5100.000000</td>\n",
              "      <td>24.000000</td>\n",
              "      <td>30.000000</td>\n",
              "      <td>10295.000000</td>\n",
              "      <td>0.000000</td>\n",
              "      <td>0.000000</td>\n",
              "      <td>0.000000</td>\n",
              "      <td>0.000000</td>\n",
              "      <td>0.000000</td>\n",
              "      <td>0.000000</td>\n",
              "      <td>0.000000</td>\n",
              "      <td>0.000000</td>\n",
              "      <td>0.000000</td>\n",
              "      <td>0.000000</td>\n",
              "      <td>0.000000</td>\n",
              "      <td>0.000000</td>\n",
              "      <td>0.000000</td>\n",
              "      <td>0.000000</td>\n",
              "      <td>0.000000</td>\n",
              "      <td>0.000000</td>\n",
              "      <td>0.000000</td>\n",
              "      <td>0.000000</td>\n",
              "      <td>0.000000</td>\n",
              "      <td>0.000000</td>\n",
              "      <td>0.000000</td>\n",
              "      <td>0.000000</td>\n",
              "      <td>0.000000</td>\n",
              "      <td>1.000000</td>\n",
              "      <td>1.000000</td>\n",
              "      <td>0.000000</td>\n",
              "      <td>0.000000</td>\n",
              "      <td>0.000000</td>\n",
              "      <td>0.000000</td>\n",
              "      <td>0.000000</td>\n",
              "      <td>0.000000</td>\n",
              "      <td>0.000000</td>\n",
              "      <td>1.000000</td>\n",
              "      <td>0.000000</td>\n",
              "      <td>1.000000</td>\n",
              "      <td>0.000000</td>\n",
              "      <td>0.000000</td>\n",
              "      <td>0.0</td>\n",
              "      <td>0.000000</td>\n",
              "      <td>1.000000</td>\n",
              "      <td>0.000000</td>\n",
              "      <td>0.000000</td>\n",
              "      <td>0.000000</td>\n",
              "      <td>0.000000</td>\n",
              "      <td>0.000000</td>\n",
              "      <td>0.000000</td>\n",
              "      <td>0.000000</td>\n",
              "      <td>0.000000</td>\n",
              "      <td>0.000000</td>\n",
              "      <td>0.000000</td>\n",
              "      <td>0.000000</td>\n",
              "      <td>601385.700000</td>\n",
              "    </tr>\n",
              "    <tr>\n",
              "      <th>75%</th>\n",
              "      <td>2.000000</td>\n",
              "      <td>154.000000</td>\n",
              "      <td>4.000000</td>\n",
              "      <td>102.400000</td>\n",
              "      <td>2926.000000</td>\n",
              "      <td>4.000000</td>\n",
              "      <td>141.000000</td>\n",
              "      <td>3.580000</td>\n",
              "      <td>3.410000</td>\n",
              "      <td>9.400000</td>\n",
              "      <td>116.000000</td>\n",
              "      <td>5500.000000</td>\n",
              "      <td>30.000000</td>\n",
              "      <td>34.000000</td>\n",
              "      <td>16500.000000</td>\n",
              "      <td>0.000000</td>\n",
              "      <td>0.000000</td>\n",
              "      <td>0.000000</td>\n",
              "      <td>0.000000</td>\n",
              "      <td>0.000000</td>\n",
              "      <td>0.000000</td>\n",
              "      <td>0.000000</td>\n",
              "      <td>0.000000</td>\n",
              "      <td>0.000000</td>\n",
              "      <td>0.000000</td>\n",
              "      <td>0.000000</td>\n",
              "      <td>0.000000</td>\n",
              "      <td>0.000000</td>\n",
              "      <td>0.000000</td>\n",
              "      <td>0.000000</td>\n",
              "      <td>0.000000</td>\n",
              "      <td>0.000000</td>\n",
              "      <td>0.000000</td>\n",
              "      <td>0.000000</td>\n",
              "      <td>0.000000</td>\n",
              "      <td>0.000000</td>\n",
              "      <td>0.000000</td>\n",
              "      <td>0.000000</td>\n",
              "      <td>1.000000</td>\n",
              "      <td>1.000000</td>\n",
              "      <td>0.000000</td>\n",
              "      <td>0.000000</td>\n",
              "      <td>0.000000</td>\n",
              "      <td>1.000000</td>\n",
              "      <td>1.000000</td>\n",
              "      <td>0.000000</td>\n",
              "      <td>0.000000</td>\n",
              "      <td>1.000000</td>\n",
              "      <td>1.000000</td>\n",
              "      <td>1.000000</td>\n",
              "      <td>0.000000</td>\n",
              "      <td>0.000000</td>\n",
              "      <td>0.0</td>\n",
              "      <td>0.000000</td>\n",
              "      <td>1.000000</td>\n",
              "      <td>0.000000</td>\n",
              "      <td>0.000000</td>\n",
              "      <td>0.000000</td>\n",
              "      <td>0.000000</td>\n",
              "      <td>1.000000</td>\n",
              "      <td>0.000000</td>\n",
              "      <td>0.000000</td>\n",
              "      <td>0.000000</td>\n",
              "      <td>1.000000</td>\n",
              "      <td>0.000000</td>\n",
              "      <td>0.000000</td>\n",
              "      <td>674493.768000</td>\n",
              "    </tr>\n",
              "    <tr>\n",
              "      <th>max</th>\n",
              "      <td>3.000000</td>\n",
              "      <td>256.000000</td>\n",
              "      <td>4.000000</td>\n",
              "      <td>120.900000</td>\n",
              "      <td>4066.000000</td>\n",
              "      <td>12.000000</td>\n",
              "      <td>326.000000</td>\n",
              "      <td>3.940000</td>\n",
              "      <td>4.170000</td>\n",
              "      <td>23.000000</td>\n",
              "      <td>262.000000</td>\n",
              "      <td>6600.000000</td>\n",
              "      <td>49.000000</td>\n",
              "      <td>54.000000</td>\n",
              "      <td>45400.000000</td>\n",
              "      <td>1.000000</td>\n",
              "      <td>1.000000</td>\n",
              "      <td>1.000000</td>\n",
              "      <td>1.000000</td>\n",
              "      <td>1.000000</td>\n",
              "      <td>1.000000</td>\n",
              "      <td>1.000000</td>\n",
              "      <td>1.000000</td>\n",
              "      <td>1.000000</td>\n",
              "      <td>1.000000</td>\n",
              "      <td>1.000000</td>\n",
              "      <td>1.000000</td>\n",
              "      <td>1.000000</td>\n",
              "      <td>1.000000</td>\n",
              "      <td>1.000000</td>\n",
              "      <td>1.000000</td>\n",
              "      <td>1.000000</td>\n",
              "      <td>1.000000</td>\n",
              "      <td>1.000000</td>\n",
              "      <td>1.000000</td>\n",
              "      <td>1.000000</td>\n",
              "      <td>1.000000</td>\n",
              "      <td>1.000000</td>\n",
              "      <td>1.000000</td>\n",
              "      <td>1.000000</td>\n",
              "      <td>1.000000</td>\n",
              "      <td>1.000000</td>\n",
              "      <td>1.000000</td>\n",
              "      <td>1.000000</td>\n",
              "      <td>1.000000</td>\n",
              "      <td>1.000000</td>\n",
              "      <td>1.000000</td>\n",
              "      <td>1.000000</td>\n",
              "      <td>1.000000</td>\n",
              "      <td>1.000000</td>\n",
              "      <td>1.000000</td>\n",
              "      <td>1.000000</td>\n",
              "      <td>0.0</td>\n",
              "      <td>1.000000</td>\n",
              "      <td>1.000000</td>\n",
              "      <td>1.000000</td>\n",
              "      <td>1.000000</td>\n",
              "      <td>1.000000</td>\n",
              "      <td>1.000000</td>\n",
              "      <td>1.000000</td>\n",
              "      <td>1.000000</td>\n",
              "      <td>1.000000</td>\n",
              "      <td>1.000000</td>\n",
              "      <td>1.000000</td>\n",
              "      <td>1.000000</td>\n",
              "      <td>1.000000</td>\n",
              "      <td>846007.659000</td>\n",
              "    </tr>\n",
              "  </tbody>\n",
              "</table>\n",
              "</div>"
            ],
            "text/plain": [
              "        symboling  normalized-losses  ...  fuel-system_spfi         volume\n",
              "count  201.000000         201.000000  ...        201.000000     201.000000\n",
              "mean     0.840796         127.323168  ...          0.004975  619579.968378\n",
              "std      1.254802          37.026592  ...          0.070535   79564.106791\n",
              "min     -2.000000          65.000000  ...          0.000000  452643.156000\n",
              "25%      0.000000          95.000000  ...          0.000000  566490.600000\n",
              "50%      1.000000         122.000000  ...          0.000000  601385.700000\n",
              "75%      2.000000         154.000000  ...          0.000000  674493.768000\n",
              "max      3.000000         256.000000  ...          1.000000  846007.659000\n",
              "\n",
              "[8 rows x 67 columns]"
            ]
          },
          "metadata": {
            "tags": []
          },
          "execution_count": 212
        }
      ]
    },
    {
      "cell_type": "code",
      "metadata": {
        "id": "Iu7PNCg3T0Wa"
      },
      "source": [
        "from sklearn.preprocessing import StandardScaler\n",
        "sc = StandardScaler()\n",
        "X = data.select_dtypes(include = [\"float64\",\"int64\"])\n",
        "X = X.drop(columns = \"symboling\")\n",
        "std_trs = sc.fit_transform(X)"
      ],
      "execution_count": 204,
      "outputs": []
    },
    {
      "cell_type": "code",
      "metadata": {
        "colab": {
          "base_uri": "https://localhost:8080/",
          "height": 279
        },
        "id": "mq9UYgKnT0SZ",
        "outputId": "16b9c390-0afc-4c42-b6df-beac14a72cd0"
      },
      "source": [
        "from sklearn.decomposition import PCA\n",
        "pca1 = PCA().fit(std_trs)\n",
        "plt.plot(np.cumsum(pca1.explained_variance_ratio_))\n",
        "plt.xlabel('Number of components')\n",
        "plt.ylabel('Cumulative explained variance')\n",
        "plt.grid(True, linestyle = \"--\")"
      ],
      "execution_count": 205,
      "outputs": [
        {
          "output_type": "display_data",
          "data": {
            "image/png": "[encoded data removed]",
            "text/plain": [
              "<Figure size 432x288 with 1 Axes>"
            ]
          },
          "metadata": {
            "tags": [],
            "needs_background": "light"
          }
        }
      ]
    },
    {
      "cell_type": "code",
      "metadata": {
        "id": "OVBL_52MUCOX"
      },
      "source": [
        "pca = PCA(n_components = 8)\n",
        "x_pca = pca.fit_transform(std_trs)"
      ],
      "execution_count": 206,
      "outputs": []
    },
    {
      "cell_type": "code",
      "metadata": {
        "id": "qJjDJoVYUOC8"
      },
      "source": [
        "df_pca = pd.DataFrame(x_pca)"
      ],
      "execution_count": 207,
      "outputs": []
    },
    {
      "cell_type": "code",
      "metadata": {
        "colab": {
          "base_uri": "https://localhost:8080/"
        },
        "id": "pMGF5jLaUOAF",
        "outputId": "9e525bfa-1467-49f4-e6eb-6c59be9128b5"
      },
      "source": [
        "data.shape"
      ],
      "execution_count": 210,
      "outputs": [
        {
          "output_type": "execute_result",
          "data": {
            "text/plain": [
              "(201, 67)"
            ]
          },
          "metadata": {
            "tags": []
          },
          "execution_count": 210
        }
      ]
    },
    {
      "cell_type": "code",
      "metadata": {
        "id": "HPIrWy_SUCLM"
      },
      "source": [
        "df_obj = data.select_dtypes(include = \"object\")"
      ],
      "execution_count": 208,
      "outputs": []
    },
    {
      "cell_type": "code",
      "metadata": {
        "colab": {
          "base_uri": "https://localhost:8080/",
          "height": 204
        },
        "id": "i3OvNOtVUQuo",
        "outputId": "cd724ada-e579-4da6-b381-c06c84789e6d"
      },
      "source": [
        "new_df = pd.concat([df_obj, df_pca,  data['symboling']], axis = 1 )\n",
        "new_df.head()"
      ],
      "execution_count": 209,
      "outputs": [
        {
          "output_type": "execute_result",
          "data": {
            "text/html": [
              "<div>\n",
              "<style scoped>\n",
              "    .dataframe tbody tr th:only-of-type {\n",
              "        vertical-align: middle;\n",
              "    }\n",
              "\n",
              "    .dataframe tbody tr th {\n",
              "        vertical-align: top;\n",
              "    }\n",
              "\n",
              "    .dataframe thead th {\n",
              "        text-align: right;\n",
              "    }\n",
              "</style>\n",
              "<table border=\"1\" class=\"dataframe\">\n",
              "  <thead>\n",
              "    <tr style=\"text-align: right;\">\n",
              "      <th></th>\n",
              "      <th>0</th>\n",
              "      <th>1</th>\n",
              "      <th>2</th>\n",
              "      <th>3</th>\n",
              "      <th>4</th>\n",
              "      <th>5</th>\n",
              "      <th>6</th>\n",
              "      <th>7</th>\n",
              "      <th>symboling</th>\n",
              "    </tr>\n",
              "  </thead>\n",
              "  <tbody>\n",
              "    <tr>\n",
              "      <th>0</th>\n",
              "      <td>-0.287778</td>\n",
              "      <td>-2.339774</td>\n",
              "      <td>0.056266</td>\n",
              "      <td>1.575656</td>\n",
              "      <td>-1.851433</td>\n",
              "      <td>-0.016733</td>\n",
              "      <td>0.331791</td>\n",
              "      <td>-0.452349</td>\n",
              "      <td>3.0</td>\n",
              "    </tr>\n",
              "    <tr>\n",
              "      <th>1</th>\n",
              "      <td>-0.151836</td>\n",
              "      <td>-2.389978</td>\n",
              "      <td>0.131886</td>\n",
              "      <td>1.596268</td>\n",
              "      <td>-1.876027</td>\n",
              "      <td>0.087551</td>\n",
              "      <td>0.319574</td>\n",
              "      <td>-0.521630</td>\n",
              "      <td>3.0</td>\n",
              "    </tr>\n",
              "    <tr>\n",
              "      <th>2</th>\n",
              "      <td>1.092751</td>\n",
              "      <td>-2.249526</td>\n",
              "      <td>1.998852</td>\n",
              "      <td>-0.287651</td>\n",
              "      <td>0.819729</td>\n",
              "      <td>0.993360</td>\n",
              "      <td>1.138928</td>\n",
              "      <td>1.165605</td>\n",
              "      <td>1.0</td>\n",
              "    </tr>\n",
              "    <tr>\n",
              "      <th>3</th>\n",
              "      <td>-0.200999</td>\n",
              "      <td>-0.317006</td>\n",
              "      <td>-0.312753</td>\n",
              "      <td>-1.328024</td>\n",
              "      <td>-0.090310</td>\n",
              "      <td>0.811309</td>\n",
              "      <td>0.441030</td>\n",
              "      <td>-0.609501</td>\n",
              "      <td>2.0</td>\n",
              "    </tr>\n",
              "    <tr>\n",
              "      <th>4</th>\n",
              "      <td>1.543736</td>\n",
              "      <td>-1.083000</td>\n",
              "      <td>-0.456311</td>\n",
              "      <td>-1.159463</td>\n",
              "      <td>0.448128</td>\n",
              "      <td>0.754497</td>\n",
              "      <td>0.720897</td>\n",
              "      <td>-0.221086</td>\n",
              "      <td>2.0</td>\n",
              "    </tr>\n",
              "  </tbody>\n",
              "</table>\n",
              "</div>"
            ],
            "text/plain": [
              "          0         1         2  ...         6         7  symboling\n",
              "0 -0.287778 -2.339774  0.056266  ...  0.331791 -0.452349        3.0\n",
              "1 -0.151836 -2.389978  0.131886  ...  0.319574 -0.521630        3.0\n",
              "2  1.092751 -2.249526  1.998852  ...  1.138928  1.165605        1.0\n",
              "3 -0.200999 -0.317006 -0.312753  ...  0.441030 -0.609501        2.0\n",
              "4  1.543736 -1.083000 -0.456311  ...  0.720897 -0.221086        2.0\n",
              "\n",
              "[5 rows x 9 columns]"
            ]
          },
          "metadata": {
            "tags": []
          },
          "execution_count": 209
        }
      ]
    },
    {
      "cell_type": "code",
      "metadata": {
        "colab": {
          "base_uri": "https://localhost:8080/"
        },
        "id": "mbE-tCHcUfi_",
        "outputId": "5f37d2de-94a5-4b21-d3d9-986d2ba4a670"
      },
      "source": [
        "new_df = pd.get_dummies(new_df, drop_first = True)\n",
        "new_df.shape"
      ],
      "execution_count": 162,
      "outputs": [
        {
          "output_type": "execute_result",
          "data": {
            "text/plain": [
              "(205, 9)"
            ]
          },
          "metadata": {
            "tags": []
          },
          "execution_count": 162
        }
      ]
    },
    {
      "cell_type": "code",
      "metadata": {
        "id": "KrcIpwB2UCH6"
      },
      "source": [
        ""
      ],
      "execution_count": null,
      "outputs": []
    },
    {
      "cell_type": "code",
      "metadata": {
        "id": "9V7Z03NGT0Lz"
      },
      "source": [
        ""
      ],
      "execution_count": null,
      "outputs": []
    },
    {
      "cell_type": "code",
      "metadata": {
        "id": "2L_DBe6vzhQh"
      },
      "source": [
        "X=data.drop('price',1)\n",
        "y=data['price']\n",
        "X_train, X_test, y_train, y_test = train_test_split(X, y, train_size=0.8, random_state=42)"
      ],
      "execution_count": 144,
      "outputs": []
    },
    {
      "cell_type": "code",
      "metadata": {
        "id": "nxFR9TCA2EzE"
      },
      "source": [
        "def model_name(model):\n",
        "    model.fit(X_train, y_train)\n",
        "    model_pred = model.predict(X_test)\n",
        "\n",
        "    explained_variance=metrics.explained_variance_score(y_test, model_pred)\n",
        "    mean_absolute_error=metrics.mean_absolute_error(y_test, model_pred) \n",
        "    mse=metrics.mean_squared_error(y_test, model_pred) \n",
        "    median_absolute_error=metrics.median_absolute_error(y_test, model_pred)\n",
        "    r2=metrics.r2_score(y_test, model_pred)\n",
        "    print('explained_variance     : ', round(explained_variance,4))    \n",
        "    print('r2   : ', round(r2,4))\n",
        "    print('MAE  : ', round(mean_absolute_error,4))\n",
        "    print('MSE  : ', round(mse,4))\n",
        "    print('RMSE : ', round(np.sqrt(mse),4))\n"
      ],
      "execution_count": 150,
      "outputs": []
    },
    {
      "cell_type": "code",
      "metadata": {
        "colab": {
          "base_uri": "https://localhost:8080/"
        },
        "id": "w2Ydk31R2aig",
        "outputId": "a602de8e-f675-438d-a9b3-4eed77936480"
      },
      "source": [
        "model_name(LinearRegression())"
      ],
      "execution_count": 151,
      "outputs": [
        {
          "output_type": "stream",
          "text": [
            "explained_variance     :  0.9312\n",
            "r2   :  0.9289\n",
            "MAE  :  1775.6659\n",
            "MSE  :  8697220.4642\n",
            "RMSE :  2949.105\n"
          ],
          "name": "stdout"
        }
      ]
    },
    {
      "cell_type": "code",
      "metadata": {
        "colab": {
          "base_uri": "https://localhost:8080/"
        },
        "id": "5mNWOuAbCiep",
        "outputId": "b8974994-e733-45ca-e49b-ef8f53c6d5e7"
      },
      "source": [
        "model_name(RandomForestRegressor())"
      ],
      "execution_count": 152,
      "outputs": [
        {
          "output_type": "stream",
          "text": [
            "explained_variance     :  0.9323\n",
            "r2   :  0.9257\n",
            "MAE  :  1920.9089\n",
            "MSE  :  9086517.2442\n",
            "RMSE :  3014.3851\n"
          ],
          "name": "stdout"
        }
      ]
    },
    {
      "cell_type": "code",
      "metadata": {
        "colab": {
          "base_uri": "https://localhost:8080/"
        },
        "id": "l6AgKMfR1iX1",
        "outputId": "6c2ecfd4-70b9-40e0-edfc-5b89e30a38f4"
      },
      "source": [
        "\n",
        "model_name(RandomForestRegressor())"
      ],
      "execution_count": 106,
      "outputs": [
        {
          "output_type": "stream",
          "text": [
            "explained_variance     :  0.9366\n",
            "mean_squared_log_error :  0.0162\n",
            "r2   :  0.9298\n",
            "MAE  :  1831.9853\n",
            "MSE  :  8583685.3239\n",
            "RMSE :  2929.7927\n"
          ],
          "name": "stdout"
        }
      ]
    },
    {
      "cell_type": "code",
      "metadata": {
        "colab": {
          "base_uri": "https://localhost:8080/",
          "height": 295
        },
        "id": "Vx9vr5z6A9on",
        "outputId": "b1a51fef-7d89-437f-b368-18421aedc804"
      },
      "source": [
        "i_value=[]\n",
        "r2_value=[]\n",
        "for i in range(2,np.size(X,1)+1):\n",
        "    \n",
        "    # Breaking X and y in Training and Test Set\n",
        "    X_train,X_test,y_train,y_test=train_test_split(X,y,test_size=0.2,random_state=0)\n",
        "    \n",
        "    # Applying PCA\n",
        "    pca = PCA(n_components = i)\n",
        "    X_train = pca.fit_transform(X_train)\n",
        "    X_test = pca.transform(X_test)\n",
        "    \n",
        "    # Training And Testing the model\n",
        "    regressor = LinearRegression()\n",
        "    regressor.fit(X_train,y_train)\n",
        "    y_pred = regressor.predict(X_test)\n",
        "    r2_value.append(r2_score(y_pred,y_test).round(4))\n",
        "    i_value.append(i)\n",
        "    \n",
        "# Plotting the r2 Score with different number of components for PCA\n",
        "plt.plot(i_value,r2_value,marker='o',mfc='red',mec='red',color='blue')\n",
        "plt.xlabel('Number of Components')\n",
        "plt.ylabel('R2_Score')\n",
        "plt.title('No_of_Components VS R2_Score')\n",
        "plt.grid(b=None)\n",
        "plt.show()"
      ],
      "execution_count": 109,
      "outputs": [
        {
          "output_type": "display_data",
          "data": {
            "image/png": "[encoded data removed]",
            "text/plain": [
              "<Figure size 432x288 with 1 Axes>"
            ]
          },
          "metadata": {
            "tags": [],
            "needs_background": "light"
          }
        }
      ]
    },
    {
      "cell_type": "code",
      "metadata": {
        "id": "n_VvPoW9_QMf"
      },
      "source": [
        "# Applying PCA\n",
        "X_train, X_test, y_train, y_test = train_test_split(X, y, train_size=0.8, random_state=42)\n",
        "n=r2_value.index(max(r2_value))+2\n",
        "pca = PCA(n_components = n)\n",
        "pca_X_train = pca.fit_transform(X_train)\n",
        "pca_X_test = pca.transform(X_test)"
      ],
      "execution_count": 110,
      "outputs": []
    },
    {
      "cell_type": "code",
      "metadata": {
        "colab": {
          "base_uri": "https://localhost:8080/"
        },
        "id": "wWaRmILnBSpV",
        "outputId": "fa65fe7f-55cb-4855-96e3-83f2745cff8a"
      },
      "source": [
        "print(n)"
      ],
      "execution_count": 95,
      "outputs": [
        {
          "output_type": "stream",
          "text": [
            "48\n"
          ],
          "name": "stdout"
        }
      ]
    }
  ]
}