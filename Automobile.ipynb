{
  "nbformat": 4,
  "nbformat_minor": 0,
  "metadata": {
    "colab": {
      "name": "ML_task.ipynb",
      "provenance": [],
      "collapsed_sections": [
        "L2rrFm17TqDu",
        "dA7H6nZMT8hF",
        "_LRRsElsVSON",
        "2kgr_0y7V6PX",
        "2tZ7D1WVV2KB",
        "sOgXYPngW0BL",
        "OhtN_DyEZoYZ",
        "DTFEh6HXa0A4",
        "OH3xWb4Qba3I",
        "GUJJfWuAk5NE",
        "EFz5RXv1oP4o",
        "Kuw7QaKFsIM-"
      ],
      "toc_visible": true
    },
    "kernelspec": {
      "name": "python3",
      "display_name": "Python 3"
    },
    "language_info": {
      "name": "python"
    }
  },
  "cells": [
    {
      "cell_type": "markdown",
      "metadata": {
        "id": "BBDDpA_WMn4n"
      },
      "source": [
        "# Automobile Data Set\n",
        "This machine learning task will be covering the following steps.\n",
        "\n",
        "**1. Data Preprocessing**\n",
        "\n",
        "**2. Missing Value Imputation**\n",
        "\n",
        "**3. Model Building**"
      ]
    },
    {
      "cell_type": "markdown",
      "metadata": {
        "id": "SvJ2BUONN6qp"
      },
      "source": [
        "#1. Data Preprocessing"
      ]
    },
    {
      "cell_type": "markdown",
      "metadata": {
        "id": "L2rrFm17TqDu"
      },
      "source": [
        "### Importing libraries and data"
      ]
    },
    {
      "cell_type": "markdown",
      "metadata": {
        "id": "-1szwDgYkMwB"
      },
      "source": [
        "I have used Google Colab for this machine learning task."
      ]
    },
    {
      "cell_type": "code",
      "metadata": {
        "colab": {
          "base_uri": "https://localhost:8080/"
        },
        "id": "61zmHGQbYHLW",
        "outputId": "0ffa8dca-c770-4e0f-af8a-86a3493fe4d1"
      },
      "source": [
        "from google.colab import drive\n",
        "drive.mount('/content/drive')"
      ],
      "execution_count": 1,
      "outputs": [
        {
          "output_type": "stream",
          "text": [
            "Mounted at /content/drive\n"
          ],
          "name": "stdout"
        }
      ]
    },
    {
      "cell_type": "code",
      "metadata": {
        "colab": {
          "base_uri": "https://localhost:8080/"
        },
        "id": "ubc34tLNKMII",
        "outputId": "148f3311-8104-483f-f619-f852702f0a2e"
      },
      "source": [
        "import pandas as pd\n",
        "import numpy as np\n",
        "import matplotlib.pyplot as plt\n",
        "import seaborn as sns\n",
        "import math\n",
        "\n",
        "from sklearn.model_selection import train_test_split\n",
        "from sklearn.feature_selection import RFE\n",
        "from sklearn.linear_model import LinearRegression\n",
        "from sklearn.linear_model import Lasso\n",
        "from sklearn.linear_model import LassoLars\n",
        "\n",
        "from sklearn.metrics import r2_score\n",
        "from sklearn.metrics import mean_squared_error\n",
        "import sklearn.metrics as metrics\n",
        "from sklearn.ensemble import RandomForestRegressor\n",
        "from sklearn.decomposition import PCA\n",
        "\n",
        "from statsmodels.stats.outliers_influence import variance_inflation_factor as vif "
      ],
      "execution_count": 2,
      "outputs": [
        {
          "output_type": "stream",
          "text": [
            "/usr/local/lib/python3.7/dist-packages/statsmodels/tools/_testing.py:19: FutureWarning: pandas.util.testing is deprecated. Use the functions in the public API at pandas.testing instead.\n",
            "  import pandas.util.testing as tm\n"
          ],
          "name": "stderr"
        }
      ]
    },
    {
      "cell_type": "markdown",
      "metadata": {
        "id": "sSS5znncOBnr"
      },
      "source": [
        "Importing data and adding headers"
      ]
    },
    {
      "cell_type": "code",
      "metadata": {
        "colab": {
          "base_uri": "https://localhost:8080/",
          "height": 524
        },
        "id": "rImvLOKPbwA6",
        "outputId": "a9d33bab-69a3-4aa8-9b97-31559e941d6f"
      },
      "source": [
        "#adding header as indicated in the data description\n",
        "col_names=['symboling','normalized-losses','make','fuel-type','aspiration','num-of-doors','body-style','drive-wheels',\n",
        "          'engine-location','wheel-base','length','width','height','curb-weight','engine-type','num-of-cyclinders',\n",
        "          'engine-size','fuel-system','bore','stroke','compression-ratio','horsepower','peak-rpm','city-mpg',\n",
        "          'highway-mpg','price']\n",
        "\n",
        "#import data\n",
        "data =  pd.read_csv('/content/drive/MyDrive/imports-85.data', sep=\",\", header=None, names=col_names)\n",
        "data"
      ],
      "execution_count": 3,
      "outputs": [
        {
          "output_type": "execute_result",
          "data": {
            "text/html": [
              "<div>\n",
              "<style scoped>\n",
              "    .dataframe tbody tr th:only-of-type {\n",
              "        vertical-align: middle;\n",
              "    }\n",
              "\n",
              "    .dataframe tbody tr th {\n",
              "        vertical-align: top;\n",
              "    }\n",
              "\n",
              "    .dataframe thead th {\n",
              "        text-align: right;\n",
              "    }\n",
              "</style>\n",
              "<table border=\"1\" class=\"dataframe\">\n",
              "  <thead>\n",
              "    <tr style=\"text-align: right;\">\n",
              "      <th></th>\n",
              "      <th>symboling</th>\n",
              "      <th>normalized-losses</th>\n",
              "      <th>make</th>\n",
              "      <th>fuel-type</th>\n",
              "      <th>aspiration</th>\n",
              "      <th>num-of-doors</th>\n",
              "      <th>body-style</th>\n",
              "      <th>drive-wheels</th>\n",
              "      <th>engine-location</th>\n",
              "      <th>wheel-base</th>\n",
              "      <th>length</th>\n",
              "      <th>width</th>\n",
              "      <th>height</th>\n",
              "      <th>curb-weight</th>\n",
              "      <th>engine-type</th>\n",
              "      <th>num-of-cyclinders</th>\n",
              "      <th>engine-size</th>\n",
              "      <th>fuel-system</th>\n",
              "      <th>bore</th>\n",
              "      <th>stroke</th>\n",
              "      <th>compression-ratio</th>\n",
              "      <th>horsepower</th>\n",
              "      <th>peak-rpm</th>\n",
              "      <th>city-mpg</th>\n",
              "      <th>highway-mpg</th>\n",
              "      <th>price</th>\n",
              "    </tr>\n",
              "  </thead>\n",
              "  <tbody>\n",
              "    <tr>\n",
              "      <th>0</th>\n",
              "      <td>3</td>\n",
              "      <td>?</td>\n",
              "      <td>alfa-romero</td>\n",
              "      <td>gas</td>\n",
              "      <td>std</td>\n",
              "      <td>two</td>\n",
              "      <td>convertible</td>\n",
              "      <td>rwd</td>\n",
              "      <td>front</td>\n",
              "      <td>88.6</td>\n",
              "      <td>168.8</td>\n",
              "      <td>64.1</td>\n",
              "      <td>48.8</td>\n",
              "      <td>2548</td>\n",
              "      <td>dohc</td>\n",
              "      <td>four</td>\n",
              "      <td>130</td>\n",
              "      <td>mpfi</td>\n",
              "      <td>3.47</td>\n",
              "      <td>2.68</td>\n",
              "      <td>9.0</td>\n",
              "      <td>111</td>\n",
              "      <td>5000</td>\n",
              "      <td>21</td>\n",
              "      <td>27</td>\n",
              "      <td>13495</td>\n",
              "    </tr>\n",
              "    <tr>\n",
              "      <th>1</th>\n",
              "      <td>3</td>\n",
              "      <td>?</td>\n",
              "      <td>alfa-romero</td>\n",
              "      <td>gas</td>\n",
              "      <td>std</td>\n",
              "      <td>two</td>\n",
              "      <td>convertible</td>\n",
              "      <td>rwd</td>\n",
              "      <td>front</td>\n",
              "      <td>88.6</td>\n",
              "      <td>168.8</td>\n",
              "      <td>64.1</td>\n",
              "      <td>48.8</td>\n",
              "      <td>2548</td>\n",
              "      <td>dohc</td>\n",
              "      <td>four</td>\n",
              "      <td>130</td>\n",
              "      <td>mpfi</td>\n",
              "      <td>3.47</td>\n",
              "      <td>2.68</td>\n",
              "      <td>9.0</td>\n",
              "      <td>111</td>\n",
              "      <td>5000</td>\n",
              "      <td>21</td>\n",
              "      <td>27</td>\n",
              "      <td>16500</td>\n",
              "    </tr>\n",
              "    <tr>\n",
              "      <th>2</th>\n",
              "      <td>1</td>\n",
              "      <td>?</td>\n",
              "      <td>alfa-romero</td>\n",
              "      <td>gas</td>\n",
              "      <td>std</td>\n",
              "      <td>two</td>\n",
              "      <td>hatchback</td>\n",
              "      <td>rwd</td>\n",
              "      <td>front</td>\n",
              "      <td>94.5</td>\n",
              "      <td>171.2</td>\n",
              "      <td>65.5</td>\n",
              "      <td>52.4</td>\n",
              "      <td>2823</td>\n",
              "      <td>ohcv</td>\n",
              "      <td>six</td>\n",
              "      <td>152</td>\n",
              "      <td>mpfi</td>\n",
              "      <td>2.68</td>\n",
              "      <td>3.47</td>\n",
              "      <td>9.0</td>\n",
              "      <td>154</td>\n",
              "      <td>5000</td>\n",
              "      <td>19</td>\n",
              "      <td>26</td>\n",
              "      <td>16500</td>\n",
              "    </tr>\n",
              "    <tr>\n",
              "      <th>3</th>\n",
              "      <td>2</td>\n",
              "      <td>164</td>\n",
              "      <td>audi</td>\n",
              "      <td>gas</td>\n",
              "      <td>std</td>\n",
              "      <td>four</td>\n",
              "      <td>sedan</td>\n",
              "      <td>fwd</td>\n",
              "      <td>front</td>\n",
              "      <td>99.8</td>\n",
              "      <td>176.6</td>\n",
              "      <td>66.2</td>\n",
              "      <td>54.3</td>\n",
              "      <td>2337</td>\n",
              "      <td>ohc</td>\n",
              "      <td>four</td>\n",
              "      <td>109</td>\n",
              "      <td>mpfi</td>\n",
              "      <td>3.19</td>\n",
              "      <td>3.40</td>\n",
              "      <td>10.0</td>\n",
              "      <td>102</td>\n",
              "      <td>5500</td>\n",
              "      <td>24</td>\n",
              "      <td>30</td>\n",
              "      <td>13950</td>\n",
              "    </tr>\n",
              "    <tr>\n",
              "      <th>4</th>\n",
              "      <td>2</td>\n",
              "      <td>164</td>\n",
              "      <td>audi</td>\n",
              "      <td>gas</td>\n",
              "      <td>std</td>\n",
              "      <td>four</td>\n",
              "      <td>sedan</td>\n",
              "      <td>4wd</td>\n",
              "      <td>front</td>\n",
              "      <td>99.4</td>\n",
              "      <td>176.6</td>\n",
              "      <td>66.4</td>\n",
              "      <td>54.3</td>\n",
              "      <td>2824</td>\n",
              "      <td>ohc</td>\n",
              "      <td>five</td>\n",
              "      <td>136</td>\n",
              "      <td>mpfi</td>\n",
              "      <td>3.19</td>\n",
              "      <td>3.40</td>\n",
              "      <td>8.0</td>\n",
              "      <td>115</td>\n",
              "      <td>5500</td>\n",
              "      <td>18</td>\n",
              "      <td>22</td>\n",
              "      <td>17450</td>\n",
              "    </tr>\n",
              "    <tr>\n",
              "      <th>...</th>\n",
              "      <td>...</td>\n",
              "      <td>...</td>\n",
              "      <td>...</td>\n",
              "      <td>...</td>\n",
              "      <td>...</td>\n",
              "      <td>...</td>\n",
              "      <td>...</td>\n",
              "      <td>...</td>\n",
              "      <td>...</td>\n",
              "      <td>...</td>\n",
              "      <td>...</td>\n",
              "      <td>...</td>\n",
              "      <td>...</td>\n",
              "      <td>...</td>\n",
              "      <td>...</td>\n",
              "      <td>...</td>\n",
              "      <td>...</td>\n",
              "      <td>...</td>\n",
              "      <td>...</td>\n",
              "      <td>...</td>\n",
              "      <td>...</td>\n",
              "      <td>...</td>\n",
              "      <td>...</td>\n",
              "      <td>...</td>\n",
              "      <td>...</td>\n",
              "      <td>...</td>\n",
              "    </tr>\n",
              "    <tr>\n",
              "      <th>200</th>\n",
              "      <td>-1</td>\n",
              "      <td>95</td>\n",
              "      <td>volvo</td>\n",
              "      <td>gas</td>\n",
              "      <td>std</td>\n",
              "      <td>four</td>\n",
              "      <td>sedan</td>\n",
              "      <td>rwd</td>\n",
              "      <td>front</td>\n",
              "      <td>109.1</td>\n",
              "      <td>188.8</td>\n",
              "      <td>68.9</td>\n",
              "      <td>55.5</td>\n",
              "      <td>2952</td>\n",
              "      <td>ohc</td>\n",
              "      <td>four</td>\n",
              "      <td>141</td>\n",
              "      <td>mpfi</td>\n",
              "      <td>3.78</td>\n",
              "      <td>3.15</td>\n",
              "      <td>9.5</td>\n",
              "      <td>114</td>\n",
              "      <td>5400</td>\n",
              "      <td>23</td>\n",
              "      <td>28</td>\n",
              "      <td>16845</td>\n",
              "    </tr>\n",
              "    <tr>\n",
              "      <th>201</th>\n",
              "      <td>-1</td>\n",
              "      <td>95</td>\n",
              "      <td>volvo</td>\n",
              "      <td>gas</td>\n",
              "      <td>turbo</td>\n",
              "      <td>four</td>\n",
              "      <td>sedan</td>\n",
              "      <td>rwd</td>\n",
              "      <td>front</td>\n",
              "      <td>109.1</td>\n",
              "      <td>188.8</td>\n",
              "      <td>68.8</td>\n",
              "      <td>55.5</td>\n",
              "      <td>3049</td>\n",
              "      <td>ohc</td>\n",
              "      <td>four</td>\n",
              "      <td>141</td>\n",
              "      <td>mpfi</td>\n",
              "      <td>3.78</td>\n",
              "      <td>3.15</td>\n",
              "      <td>8.7</td>\n",
              "      <td>160</td>\n",
              "      <td>5300</td>\n",
              "      <td>19</td>\n",
              "      <td>25</td>\n",
              "      <td>19045</td>\n",
              "    </tr>\n",
              "    <tr>\n",
              "      <th>202</th>\n",
              "      <td>-1</td>\n",
              "      <td>95</td>\n",
              "      <td>volvo</td>\n",
              "      <td>gas</td>\n",
              "      <td>std</td>\n",
              "      <td>four</td>\n",
              "      <td>sedan</td>\n",
              "      <td>rwd</td>\n",
              "      <td>front</td>\n",
              "      <td>109.1</td>\n",
              "      <td>188.8</td>\n",
              "      <td>68.9</td>\n",
              "      <td>55.5</td>\n",
              "      <td>3012</td>\n",
              "      <td>ohcv</td>\n",
              "      <td>six</td>\n",
              "      <td>173</td>\n",
              "      <td>mpfi</td>\n",
              "      <td>3.58</td>\n",
              "      <td>2.87</td>\n",
              "      <td>8.8</td>\n",
              "      <td>134</td>\n",
              "      <td>5500</td>\n",
              "      <td>18</td>\n",
              "      <td>23</td>\n",
              "      <td>21485</td>\n",
              "    </tr>\n",
              "    <tr>\n",
              "      <th>203</th>\n",
              "      <td>-1</td>\n",
              "      <td>95</td>\n",
              "      <td>volvo</td>\n",
              "      <td>diesel</td>\n",
              "      <td>turbo</td>\n",
              "      <td>four</td>\n",
              "      <td>sedan</td>\n",
              "      <td>rwd</td>\n",
              "      <td>front</td>\n",
              "      <td>109.1</td>\n",
              "      <td>188.8</td>\n",
              "      <td>68.9</td>\n",
              "      <td>55.5</td>\n",
              "      <td>3217</td>\n",
              "      <td>ohc</td>\n",
              "      <td>six</td>\n",
              "      <td>145</td>\n",
              "      <td>idi</td>\n",
              "      <td>3.01</td>\n",
              "      <td>3.40</td>\n",
              "      <td>23.0</td>\n",
              "      <td>106</td>\n",
              "      <td>4800</td>\n",
              "      <td>26</td>\n",
              "      <td>27</td>\n",
              "      <td>22470</td>\n",
              "    </tr>\n",
              "    <tr>\n",
              "      <th>204</th>\n",
              "      <td>-1</td>\n",
              "      <td>95</td>\n",
              "      <td>volvo</td>\n",
              "      <td>gas</td>\n",
              "      <td>turbo</td>\n",
              "      <td>four</td>\n",
              "      <td>sedan</td>\n",
              "      <td>rwd</td>\n",
              "      <td>front</td>\n",
              "      <td>109.1</td>\n",
              "      <td>188.8</td>\n",
              "      <td>68.9</td>\n",
              "      <td>55.5</td>\n",
              "      <td>3062</td>\n",
              "      <td>ohc</td>\n",
              "      <td>four</td>\n",
              "      <td>141</td>\n",
              "      <td>mpfi</td>\n",
              "      <td>3.78</td>\n",
              "      <td>3.15</td>\n",
              "      <td>9.5</td>\n",
              "      <td>114</td>\n",
              "      <td>5400</td>\n",
              "      <td>19</td>\n",
              "      <td>25</td>\n",
              "      <td>22625</td>\n",
              "    </tr>\n",
              "  </tbody>\n",
              "</table>\n",
              "<p>205 rows × 26 columns</p>\n",
              "</div>"
            ],
            "text/plain": [
              "     symboling normalized-losses         make  ... city-mpg highway-mpg  price\n",
              "0            3                 ?  alfa-romero  ...       21          27  13495\n",
              "1            3                 ?  alfa-romero  ...       21          27  16500\n",
              "2            1                 ?  alfa-romero  ...       19          26  16500\n",
              "3            2               164         audi  ...       24          30  13950\n",
              "4            2               164         audi  ...       18          22  17450\n",
              "..         ...               ...          ...  ...      ...         ...    ...\n",
              "200         -1                95        volvo  ...       23          28  16845\n",
              "201         -1                95        volvo  ...       19          25  19045\n",
              "202         -1                95        volvo  ...       18          23  21485\n",
              "203         -1                95        volvo  ...       26          27  22470\n",
              "204         -1                95        volvo  ...       19          25  22625\n",
              "\n",
              "[205 rows x 26 columns]"
            ]
          },
          "metadata": {
            "tags": []
          },
          "execution_count": 3
        }
      ]
    },
    {
      "cell_type": "markdown",
      "metadata": {
        "id": "dA7H6nZMT8hF"
      },
      "source": [
        "###Data Handling"
      ]
    },
    {
      "cell_type": "markdown",
      "metadata": {
        "id": "hDanPVKOOlSm"
      },
      "source": [
        "\n",
        "\n",
        "The data description says there are some '?' symbols in the data set, which indicates there are some missing values in it.\n",
        "\n",
        "Before we jump into this dataset deeply, let's look at general information regarding the dataset.\n"
      ]
    },
    {
      "cell_type": "code",
      "metadata": {
        "colab": {
          "base_uri": "https://localhost:8080/"
        },
        "id": "JGOJyEaGmFY9",
        "outputId": "96874f62-0d71-437b-c053-32409e38cbfa"
      },
      "source": [
        "data.info()"
      ],
      "execution_count": 4,
      "outputs": [
        {
          "output_type": "stream",
          "text": [
            "<class 'pandas.core.frame.DataFrame'>\n",
            "RangeIndex: 205 entries, 0 to 204\n",
            "Data columns (total 26 columns):\n",
            " #   Column             Non-Null Count  Dtype  \n",
            "---  ------             --------------  -----  \n",
            " 0   symboling          205 non-null    int64  \n",
            " 1   normalized-losses  205 non-null    object \n",
            " 2   make               205 non-null    object \n",
            " 3   fuel-type          205 non-null    object \n",
            " 4   aspiration         205 non-null    object \n",
            " 5   num-of-doors       205 non-null    object \n",
            " 6   body-style         205 non-null    object \n",
            " 7   drive-wheels       205 non-null    object \n",
            " 8   engine-location    205 non-null    object \n",
            " 9   wheel-base         205 non-null    float64\n",
            " 10  length             205 non-null    float64\n",
            " 11  width              205 non-null    float64\n",
            " 12  height             205 non-null    float64\n",
            " 13  curb-weight        205 non-null    int64  \n",
            " 14  engine-type        205 non-null    object \n",
            " 15  num-of-cyclinders  205 non-null    object \n",
            " 16  engine-size        205 non-null    int64  \n",
            " 17  fuel-system        205 non-null    object \n",
            " 18  bore               205 non-null    object \n",
            " 19  stroke             205 non-null    object \n",
            " 20  compression-ratio  205 non-null    float64\n",
            " 21  horsepower         205 non-null    object \n",
            " 22  peak-rpm           205 non-null    object \n",
            " 23  city-mpg           205 non-null    int64  \n",
            " 24  highway-mpg        205 non-null    int64  \n",
            " 25  price              205 non-null    object \n",
            "dtypes: float64(5), int64(5), object(16)\n",
            "memory usage: 41.8+ KB\n"
          ],
          "name": "stdout"
        }
      ]
    },
    {
      "cell_type": "markdown",
      "metadata": {
        "id": "cder8Mh3O6R2"
      },
      "source": [
        "First of all, It looks like there is no null values in the dataset;however, it is understandable as '?' symbol will not be counted as null.\n",
        "\n",
        "Secondly, it shows some data types of the variables are different from what I saw in the data description. \n",
        "(such as normalized-losses, price, horsepower and so on)\n",
        "It seems to me that it is also because of '?' symbols in the columns mentioned above.\n",
        "\n",
        "Therefore, I will need to replace '?' symbols to nan and count the number of nan afterwards."
      ]
    },
    {
      "cell_type": "code",
      "metadata": {
        "colab": {
          "base_uri": "https://localhost:8080/"
        },
        "id": "mY77XLeqJfS0",
        "outputId": "ea78d223-cde9-47c7-a23e-cf941f390a4b"
      },
      "source": [
        "#Replacing '?' symbols to nan and counting the number of nan afterwards\n",
        "data = data.replace('?', np.nan)\n",
        "data.isna().sum()"
      ],
      "execution_count": 5,
      "outputs": [
        {
          "output_type": "execute_result",
          "data": {
            "text/plain": [
              "symboling             0\n",
              "normalized-losses    41\n",
              "make                  0\n",
              "fuel-type             0\n",
              "aspiration            0\n",
              "num-of-doors          2\n",
              "body-style            0\n",
              "drive-wheels          0\n",
              "engine-location       0\n",
              "wheel-base            0\n",
              "length                0\n",
              "width                 0\n",
              "height                0\n",
              "curb-weight           0\n",
              "engine-type           0\n",
              "num-of-cyclinders     0\n",
              "engine-size           0\n",
              "fuel-system           0\n",
              "bore                  4\n",
              "stroke                4\n",
              "compression-ratio     0\n",
              "horsepower            2\n",
              "peak-rpm              2\n",
              "city-mpg              0\n",
              "highway-mpg           0\n",
              "price                 4\n",
              "dtype: int64"
            ]
          },
          "metadata": {
            "tags": []
          },
          "execution_count": 5
        }
      ]
    },
    {
      "cell_type": "code",
      "metadata": {
        "colab": {
          "base_uri": "https://localhost:8080/"
        },
        "id": "AKLqEyp1PPzb",
        "outputId": "b2f65a80-f6ba-40d0-c2ef-ae6b80f2fe94"
      },
      "source": [
        "#After convering '?' symbols to nan, we see some differences in null count as below.  \n",
        "#column number 1,5,18,19,21,22,25\n",
        "data.info()"
      ],
      "execution_count": 6,
      "outputs": [
        {
          "output_type": "stream",
          "text": [
            "<class 'pandas.core.frame.DataFrame'>\n",
            "RangeIndex: 205 entries, 0 to 204\n",
            "Data columns (total 26 columns):\n",
            " #   Column             Non-Null Count  Dtype  \n",
            "---  ------             --------------  -----  \n",
            " 0   symboling          205 non-null    int64  \n",
            " 1   normalized-losses  164 non-null    object \n",
            " 2   make               205 non-null    object \n",
            " 3   fuel-type          205 non-null    object \n",
            " 4   aspiration         205 non-null    object \n",
            " 5   num-of-doors       203 non-null    object \n",
            " 6   body-style         205 non-null    object \n",
            " 7   drive-wheels       205 non-null    object \n",
            " 8   engine-location    205 non-null    object \n",
            " 9   wheel-base         205 non-null    float64\n",
            " 10  length             205 non-null    float64\n",
            " 11  width              205 non-null    float64\n",
            " 12  height             205 non-null    float64\n",
            " 13  curb-weight        205 non-null    int64  \n",
            " 14  engine-type        205 non-null    object \n",
            " 15  num-of-cyclinders  205 non-null    object \n",
            " 16  engine-size        205 non-null    int64  \n",
            " 17  fuel-system        205 non-null    object \n",
            " 18  bore               201 non-null    object \n",
            " 19  stroke             201 non-null    object \n",
            " 20  compression-ratio  205 non-null    float64\n",
            " 21  horsepower         203 non-null    object \n",
            " 22  peak-rpm           203 non-null    object \n",
            " 23  city-mpg           205 non-null    int64  \n",
            " 24  highway-mpg        205 non-null    int64  \n",
            " 25  price              201 non-null    object \n",
            "dtypes: float64(5), int64(5), object(16)\n",
            "memory usage: 41.8+ KB\n"
          ],
          "name": "stdout"
        }
      ]
    },
    {
      "cell_type": "markdown",
      "metadata": {
        "id": "HT60znBgQM8x"
      },
      "source": [
        "Now, we can see that there are missing values in the dataset. However, it still shows some differences in data types. Some of the variables (such as bore, stroke, horsepower and so on) should be the float type but their types are object. Therefore, we need to convert them manually."
      ]
    },
    {
      "cell_type": "code",
      "metadata": {
        "id": "-QmcPrr2bUwD"
      },
      "source": [
        "# converting each mistyped columns to float\n",
        "    \n",
        "data[\"bore\"] = data[\"bore\"].astype(np.float64)\n",
        "data[\"stroke\"] = data[\"stroke\"].astype(np.float64)\n",
        "data[\"horsepower\"] = data[\"horsepower\"].astype(np.float64)\n",
        "data[\"peak-rpm\"] = data[\"peak-rpm\"].astype(np.float64)\n",
        "data[\"normalized-losses\"] = data[\"normalized-losses\"].astype(np.float64)\n",
        "data[\"price\"] = data[\"price\"].astype(np.float64)"
      ],
      "execution_count": 7,
      "outputs": []
    },
    {
      "cell_type": "markdown",
      "metadata": {
        "id": "mTPMAqVLRSRc"
      },
      "source": [
        "Now we can see that the columns have been successfully converted to float as below. (normalized-losses, bore, stroke, horsepower, peak-rpm  and price)"
      ]
    },
    {
      "cell_type": "code",
      "metadata": {
        "colab": {
          "base_uri": "https://localhost:8080/"
        },
        "id": "Mmnf3kUHc7Cx",
        "outputId": "60e42155-c052-44d3-cd19-4dd1566b1b54"
      },
      "source": [
        "data.info()"
      ],
      "execution_count": 8,
      "outputs": [
        {
          "output_type": "stream",
          "text": [
            "<class 'pandas.core.frame.DataFrame'>\n",
            "RangeIndex: 205 entries, 0 to 204\n",
            "Data columns (total 26 columns):\n",
            " #   Column             Non-Null Count  Dtype  \n",
            "---  ------             --------------  -----  \n",
            " 0   symboling          205 non-null    int64  \n",
            " 1   normalized-losses  164 non-null    float64\n",
            " 2   make               205 non-null    object \n",
            " 3   fuel-type          205 non-null    object \n",
            " 4   aspiration         205 non-null    object \n",
            " 5   num-of-doors       203 non-null    object \n",
            " 6   body-style         205 non-null    object \n",
            " 7   drive-wheels       205 non-null    object \n",
            " 8   engine-location    205 non-null    object \n",
            " 9   wheel-base         205 non-null    float64\n",
            " 10  length             205 non-null    float64\n",
            " 11  width              205 non-null    float64\n",
            " 12  height             205 non-null    float64\n",
            " 13  curb-weight        205 non-null    int64  \n",
            " 14  engine-type        205 non-null    object \n",
            " 15  num-of-cyclinders  205 non-null    object \n",
            " 16  engine-size        205 non-null    int64  \n",
            " 17  fuel-system        205 non-null    object \n",
            " 18  bore               201 non-null    float64\n",
            " 19  stroke             201 non-null    float64\n",
            " 20  compression-ratio  205 non-null    float64\n",
            " 21  horsepower         203 non-null    float64\n",
            " 22  peak-rpm           203 non-null    float64\n",
            " 23  city-mpg           205 non-null    int64  \n",
            " 24  highway-mpg        205 non-null    int64  \n",
            " 25  price              201 non-null    float64\n",
            "dtypes: float64(11), int64(5), object(10)\n",
            "memory usage: 41.8+ KB\n"
          ],
          "name": "stdout"
        }
      ]
    },
    {
      "cell_type": "markdown",
      "metadata": {
        "id": "QDGzY61kRivq"
      },
      "source": [
        "And let's see if only categorical variables remained object"
      ]
    },
    {
      "cell_type": "code",
      "metadata": {
        "colab": {
          "base_uri": "https://localhost:8080/",
          "height": 309
        },
        "id": "PCjKz0ocRlc2",
        "outputId": "7b380b56-db80-4467-8c92-acca7eab388d"
      },
      "source": [
        "data.select_dtypes(include = 'object').head()"
      ],
      "execution_count": 9,
      "outputs": [
        {
          "output_type": "execute_result",
          "data": {
            "text/html": [
              "<div>\n",
              "<style scoped>\n",
              "    .dataframe tbody tr th:only-of-type {\n",
              "        vertical-align: middle;\n",
              "    }\n",
              "\n",
              "    .dataframe tbody tr th {\n",
              "        vertical-align: top;\n",
              "    }\n",
              "\n",
              "    .dataframe thead th {\n",
              "        text-align: right;\n",
              "    }\n",
              "</style>\n",
              "<table border=\"1\" class=\"dataframe\">\n",
              "  <thead>\n",
              "    <tr style=\"text-align: right;\">\n",
              "      <th></th>\n",
              "      <th>make</th>\n",
              "      <th>fuel-type</th>\n",
              "      <th>aspiration</th>\n",
              "      <th>num-of-doors</th>\n",
              "      <th>body-style</th>\n",
              "      <th>drive-wheels</th>\n",
              "      <th>engine-location</th>\n",
              "      <th>engine-type</th>\n",
              "      <th>num-of-cyclinders</th>\n",
              "      <th>fuel-system</th>\n",
              "    </tr>\n",
              "  </thead>\n",
              "  <tbody>\n",
              "    <tr>\n",
              "      <th>0</th>\n",
              "      <td>alfa-romero</td>\n",
              "      <td>gas</td>\n",
              "      <td>std</td>\n",
              "      <td>two</td>\n",
              "      <td>convertible</td>\n",
              "      <td>rwd</td>\n",
              "      <td>front</td>\n",
              "      <td>dohc</td>\n",
              "      <td>four</td>\n",
              "      <td>mpfi</td>\n",
              "    </tr>\n",
              "    <tr>\n",
              "      <th>1</th>\n",
              "      <td>alfa-romero</td>\n",
              "      <td>gas</td>\n",
              "      <td>std</td>\n",
              "      <td>two</td>\n",
              "      <td>convertible</td>\n",
              "      <td>rwd</td>\n",
              "      <td>front</td>\n",
              "      <td>dohc</td>\n",
              "      <td>four</td>\n",
              "      <td>mpfi</td>\n",
              "    </tr>\n",
              "    <tr>\n",
              "      <th>2</th>\n",
              "      <td>alfa-romero</td>\n",
              "      <td>gas</td>\n",
              "      <td>std</td>\n",
              "      <td>two</td>\n",
              "      <td>hatchback</td>\n",
              "      <td>rwd</td>\n",
              "      <td>front</td>\n",
              "      <td>ohcv</td>\n",
              "      <td>six</td>\n",
              "      <td>mpfi</td>\n",
              "    </tr>\n",
              "    <tr>\n",
              "      <th>3</th>\n",
              "      <td>audi</td>\n",
              "      <td>gas</td>\n",
              "      <td>std</td>\n",
              "      <td>four</td>\n",
              "      <td>sedan</td>\n",
              "      <td>fwd</td>\n",
              "      <td>front</td>\n",
              "      <td>ohc</td>\n",
              "      <td>four</td>\n",
              "      <td>mpfi</td>\n",
              "    </tr>\n",
              "    <tr>\n",
              "      <th>4</th>\n",
              "      <td>audi</td>\n",
              "      <td>gas</td>\n",
              "      <td>std</td>\n",
              "      <td>four</td>\n",
              "      <td>sedan</td>\n",
              "      <td>4wd</td>\n",
              "      <td>front</td>\n",
              "      <td>ohc</td>\n",
              "      <td>five</td>\n",
              "      <td>mpfi</td>\n",
              "    </tr>\n",
              "  </tbody>\n",
              "</table>\n",
              "</div>"
            ],
            "text/plain": [
              "          make fuel-type aspiration  ... engine-type num-of-cyclinders fuel-system\n",
              "0  alfa-romero       gas        std  ...        dohc              four        mpfi\n",
              "1  alfa-romero       gas        std  ...        dohc              four        mpfi\n",
              "2  alfa-romero       gas        std  ...        ohcv               six        mpfi\n",
              "3         audi       gas        std  ...         ohc              four        mpfi\n",
              "4         audi       gas        std  ...         ohc              five        mpfi\n",
              "\n",
              "[5 rows x 10 columns]"
            ]
          },
          "metadata": {
            "tags": []
          },
          "execution_count": 9
        }
      ]
    },
    {
      "cell_type": "markdown",
      "metadata": {
        "id": "JwJOc0OXRnPh"
      },
      "source": [
        "It seems like 'num-of-doors' and 'num of cyclinders' can be converted to int as they are numeric values (two, four ...)."
      ]
    },
    {
      "cell_type": "code",
      "metadata": {
        "colab": {
          "base_uri": "https://localhost:8080/"
        },
        "id": "0FQrshDdSAvc",
        "outputId": "ce919869-640b-42fc-8cab-fb992fb5a4a1"
      },
      "source": [
        "data['num-of-doors'].unique()"
      ],
      "execution_count": 10,
      "outputs": [
        {
          "output_type": "execute_result",
          "data": {
            "text/plain": [
              "array(['two', 'four', nan], dtype=object)"
            ]
          },
          "metadata": {
            "tags": []
          },
          "execution_count": 10
        }
      ]
    },
    {
      "cell_type": "code",
      "metadata": {
        "colab": {
          "base_uri": "https://localhost:8080/"
        },
        "id": "5cIV7ViTL2Mq",
        "outputId": "7f941a95-708d-48fb-f945-fd68b687885d"
      },
      "source": [
        "data['num-of-cyclinders'].unique()"
      ],
      "execution_count": 11,
      "outputs": [
        {
          "output_type": "execute_result",
          "data": {
            "text/plain": [
              "array(['four', 'six', 'five', 'three', 'twelve', 'two', 'eight'],\n",
              "      dtype=object)"
            ]
          },
          "metadata": {
            "tags": []
          },
          "execution_count": 11
        }
      ]
    },
    {
      "cell_type": "code",
      "metadata": {
        "id": "z4wbIuGbLT3Q"
      },
      "source": [
        "data['num-of-cyclinders']=data['num-of-cyclinders'].str.replace('two','2')\n",
        "data['num-of-cyclinders']=data['num-of-cyclinders'].str.replace('three','3')\n",
        "data['num-of-cyclinders']=data['num-of-cyclinders'].str.replace('four','4')\n",
        "data['num-of-cyclinders']=data['num-of-cyclinders'].str.replace('five','5')\n",
        "data['num-of-cyclinders']=data['num-of-cyclinders'].str.replace('six','6')\n",
        "data['num-of-cyclinders']=data['num-of-cyclinders'].str.replace('eight','8')\n",
        "data['num-of-cyclinders']=data['num-of-cyclinders'].str.replace('twelve','12')\n",
        "data['num-of-cyclinders']=data['num-of-cyclinders'].astype('int64')"
      ],
      "execution_count": 12,
      "outputs": []
    },
    {
      "cell_type": "markdown",
      "metadata": {
        "id": "V9OFNaM2SDHw"
      },
      "source": [
        "'num-of-cyclinders' has been converted to int but I will convert 'num-of-doors' after I impute missing values in it."
      ]
    },
    {
      "cell_type": "markdown",
      "metadata": {
        "id": "rVJfadSETkru"
      },
      "source": [
        "#2. Missing Value Imputation"
      ]
    },
    {
      "cell_type": "markdown",
      "metadata": {
        "id": "aN4AmGAvVIrH"
      },
      "source": [
        "Instead of imputing simply by mean, I would like to investigate in each variable first, so that I have a better idea as to how to impute them manually."
      ]
    },
    {
      "cell_type": "markdown",
      "metadata": {
        "id": "_LRRsElsVSON"
      },
      "source": [
        "### 'num-of-doors'"
      ]
    },
    {
      "cell_type": "code",
      "metadata": {
        "colab": {
          "base_uri": "https://localhost:8080/",
          "height": 165
        },
        "id": "7dfW_Rw8sky8",
        "outputId": "10706d75-2d72-4b9b-a6ba-066b4a772d0c"
      },
      "source": [
        "#nan for the column, 'num-of-doors'\n",
        "data[data['num-of-doors'].isna()]"
      ],
      "execution_count": 13,
      "outputs": [
        {
          "output_type": "execute_result",
          "data": {
            "text/html": [
              "<div>\n",
              "<style scoped>\n",
              "    .dataframe tbody tr th:only-of-type {\n",
              "        vertical-align: middle;\n",
              "    }\n",
              "\n",
              "    .dataframe tbody tr th {\n",
              "        vertical-align: top;\n",
              "    }\n",
              "\n",
              "    .dataframe thead th {\n",
              "        text-align: right;\n",
              "    }\n",
              "</style>\n",
              "<table border=\"1\" class=\"dataframe\">\n",
              "  <thead>\n",
              "    <tr style=\"text-align: right;\">\n",
              "      <th></th>\n",
              "      <th>symboling</th>\n",
              "      <th>normalized-losses</th>\n",
              "      <th>make</th>\n",
              "      <th>fuel-type</th>\n",
              "      <th>aspiration</th>\n",
              "      <th>num-of-doors</th>\n",
              "      <th>body-style</th>\n",
              "      <th>drive-wheels</th>\n",
              "      <th>engine-location</th>\n",
              "      <th>wheel-base</th>\n",
              "      <th>length</th>\n",
              "      <th>width</th>\n",
              "      <th>height</th>\n",
              "      <th>curb-weight</th>\n",
              "      <th>engine-type</th>\n",
              "      <th>num-of-cyclinders</th>\n",
              "      <th>engine-size</th>\n",
              "      <th>fuel-system</th>\n",
              "      <th>bore</th>\n",
              "      <th>stroke</th>\n",
              "      <th>compression-ratio</th>\n",
              "      <th>horsepower</th>\n",
              "      <th>peak-rpm</th>\n",
              "      <th>city-mpg</th>\n",
              "      <th>highway-mpg</th>\n",
              "      <th>price</th>\n",
              "    </tr>\n",
              "  </thead>\n",
              "  <tbody>\n",
              "    <tr>\n",
              "      <th>27</th>\n",
              "      <td>1</td>\n",
              "      <td>148.0</td>\n",
              "      <td>dodge</td>\n",
              "      <td>gas</td>\n",
              "      <td>turbo</td>\n",
              "      <td>NaN</td>\n",
              "      <td>sedan</td>\n",
              "      <td>fwd</td>\n",
              "      <td>front</td>\n",
              "      <td>93.7</td>\n",
              "      <td>157.3</td>\n",
              "      <td>63.8</td>\n",
              "      <td>50.6</td>\n",
              "      <td>2191</td>\n",
              "      <td>ohc</td>\n",
              "      <td>4</td>\n",
              "      <td>98</td>\n",
              "      <td>mpfi</td>\n",
              "      <td>3.03</td>\n",
              "      <td>3.39</td>\n",
              "      <td>7.6</td>\n",
              "      <td>102.0</td>\n",
              "      <td>5500.0</td>\n",
              "      <td>24</td>\n",
              "      <td>30</td>\n",
              "      <td>8558.0</td>\n",
              "    </tr>\n",
              "    <tr>\n",
              "      <th>63</th>\n",
              "      <td>0</td>\n",
              "      <td>NaN</td>\n",
              "      <td>mazda</td>\n",
              "      <td>diesel</td>\n",
              "      <td>std</td>\n",
              "      <td>NaN</td>\n",
              "      <td>sedan</td>\n",
              "      <td>fwd</td>\n",
              "      <td>front</td>\n",
              "      <td>98.8</td>\n",
              "      <td>177.8</td>\n",
              "      <td>66.5</td>\n",
              "      <td>55.5</td>\n",
              "      <td>2443</td>\n",
              "      <td>ohc</td>\n",
              "      <td>4</td>\n",
              "      <td>122</td>\n",
              "      <td>idi</td>\n",
              "      <td>3.39</td>\n",
              "      <td>3.39</td>\n",
              "      <td>22.7</td>\n",
              "      <td>64.0</td>\n",
              "      <td>4650.0</td>\n",
              "      <td>36</td>\n",
              "      <td>42</td>\n",
              "      <td>10795.0</td>\n",
              "    </tr>\n",
              "  </tbody>\n",
              "</table>\n",
              "</div>"
            ],
            "text/plain": [
              "    symboling  normalized-losses   make  ... city-mpg highway-mpg    price\n",
              "27          1              148.0  dodge  ...       24          30   8558.0\n",
              "63          0                NaN  mazda  ...       36          42  10795.0\n",
              "\n",
              "[2 rows x 26 columns]"
            ]
          },
          "metadata": {
            "tags": []
          },
          "execution_count": 13
        }
      ]
    },
    {
      "cell_type": "markdown",
      "metadata": {
        "id": "jF3Xt1gLVaSh"
      },
      "source": [
        "Since the body-style of the two cars is sedan, I think I can impute num-of-doors as four, as seen from the graph below"
      ]
    },
    {
      "cell_type": "code",
      "metadata": {
        "colab": {
          "base_uri": "https://localhost:8080/",
          "height": 279
        },
        "id": "2dajPriBt7qT",
        "outputId": "0ca0f80f-0403-4898-ea09-22418f7c2f40"
      },
      "source": [
        "#plotting body-style vs num of doors\n",
        "sns.countplot(data=data, x='body-style', hue='num-of-doors')\n",
        "data['num-of-doors'].fillna('four', inplace = True)\n",
        "\n",
        "data['num-of-doors']=data['num-of-doors'].str.replace('two','2')\n",
        "data['num-of-doors']=data['num-of-doors'].str.replace('four','4')\n",
        "data['num-of-doors']=data['num-of-doors'].astype('int64')"
      ],
      "execution_count": 14,
      "outputs": [
        {
          "output_type": "display_data",
          "data": {
            "image/png": "[encoded data removed]",
            "text/plain": [
              "<Figure size 432x288 with 1 Axes>"
            ]
          },
          "metadata": {
            "tags": [],
            "needs_background": "light"
          }
        }
      ]
    },
    {
      "cell_type": "markdown",
      "metadata": {
        "id": "2kgr_0y7V6PX"
      },
      "source": [
        "###Correlation plot"
      ]
    },
    {
      "cell_type": "markdown",
      "metadata": {
        "id": "STF847lEVlAk"
      },
      "source": [
        "For other missing values that are supposed to be numeric,\n",
        "I can use correlation plot which I can refer to when imputing."
      ]
    },
    {
      "cell_type": "code",
      "metadata": {
        "colab": {
          "base_uri": "https://localhost:8080/",
          "height": 597
        },
        "id": "odzy8cSSq0Om",
        "outputId": "63ec2e0d-65e2-476b-ec7a-b3228a0024d0"
      },
      "source": [
        "plt.figure(figsize=(12,10))\n",
        "correlation = data.corr()\n",
        "sns.heatmap(correlation, annot=True, cmap=\"Blues\")\n",
        "plt.show() "
      ],
      "execution_count": 15,
      "outputs": [
        {
          "output_type": "display_data",
          "data": {
            "image/png": "[encoded data removed]",
            "text/plain": [
              "<Figure size 864x720 with 2 Axes>"
            ]
          },
          "metadata": {
            "tags": [],
            "needs_background": "light"
          }
        }
      ]
    },
    {
      "cell_type": "markdown",
      "metadata": {
        "id": "2tZ7D1WVV2KB"
      },
      "source": [
        "###'bore'"
      ]
    },
    {
      "cell_type": "code",
      "metadata": {
        "colab": {
          "base_uri": "https://localhost:8080/",
          "height": 227
        },
        "id": "PwY_ptVOvCCv",
        "outputId": "40e0058a-8ace-4969-e20a-e9a19c0790ff"
      },
      "source": [
        "#bore\n",
        "data[data['bore'].isna()]"
      ],
      "execution_count": 16,
      "outputs": [
        {
          "output_type": "execute_result",
          "data": {
            "text/html": [
              "<div>\n",
              "<style scoped>\n",
              "    .dataframe tbody tr th:only-of-type {\n",
              "        vertical-align: middle;\n",
              "    }\n",
              "\n",
              "    .dataframe tbody tr th {\n",
              "        vertical-align: top;\n",
              "    }\n",
              "\n",
              "    .dataframe thead th {\n",
              "        text-align: right;\n",
              "    }\n",
              "</style>\n",
              "<table border=\"1\" class=\"dataframe\">\n",
              "  <thead>\n",
              "    <tr style=\"text-align: right;\">\n",
              "      <th></th>\n",
              "      <th>symboling</th>\n",
              "      <th>normalized-losses</th>\n",
              "      <th>make</th>\n",
              "      <th>fuel-type</th>\n",
              "      <th>aspiration</th>\n",
              "      <th>num-of-doors</th>\n",
              "      <th>body-style</th>\n",
              "      <th>drive-wheels</th>\n",
              "      <th>engine-location</th>\n",
              "      <th>wheel-base</th>\n",
              "      <th>length</th>\n",
              "      <th>width</th>\n",
              "      <th>height</th>\n",
              "      <th>curb-weight</th>\n",
              "      <th>engine-type</th>\n",
              "      <th>num-of-cyclinders</th>\n",
              "      <th>engine-size</th>\n",
              "      <th>fuel-system</th>\n",
              "      <th>bore</th>\n",
              "      <th>stroke</th>\n",
              "      <th>compression-ratio</th>\n",
              "      <th>horsepower</th>\n",
              "      <th>peak-rpm</th>\n",
              "      <th>city-mpg</th>\n",
              "      <th>highway-mpg</th>\n",
              "      <th>price</th>\n",
              "    </tr>\n",
              "  </thead>\n",
              "  <tbody>\n",
              "    <tr>\n",
              "      <th>55</th>\n",
              "      <td>3</td>\n",
              "      <td>150.0</td>\n",
              "      <td>mazda</td>\n",
              "      <td>gas</td>\n",
              "      <td>std</td>\n",
              "      <td>2</td>\n",
              "      <td>hatchback</td>\n",
              "      <td>rwd</td>\n",
              "      <td>front</td>\n",
              "      <td>95.3</td>\n",
              "      <td>169.0</td>\n",
              "      <td>65.7</td>\n",
              "      <td>49.6</td>\n",
              "      <td>2380</td>\n",
              "      <td>rotor</td>\n",
              "      <td>2</td>\n",
              "      <td>70</td>\n",
              "      <td>4bbl</td>\n",
              "      <td>NaN</td>\n",
              "      <td>NaN</td>\n",
              "      <td>9.4</td>\n",
              "      <td>101.0</td>\n",
              "      <td>6000.0</td>\n",
              "      <td>17</td>\n",
              "      <td>23</td>\n",
              "      <td>10945.0</td>\n",
              "    </tr>\n",
              "    <tr>\n",
              "      <th>56</th>\n",
              "      <td>3</td>\n",
              "      <td>150.0</td>\n",
              "      <td>mazda</td>\n",
              "      <td>gas</td>\n",
              "      <td>std</td>\n",
              "      <td>2</td>\n",
              "      <td>hatchback</td>\n",
              "      <td>rwd</td>\n",
              "      <td>front</td>\n",
              "      <td>95.3</td>\n",
              "      <td>169.0</td>\n",
              "      <td>65.7</td>\n",
              "      <td>49.6</td>\n",
              "      <td>2380</td>\n",
              "      <td>rotor</td>\n",
              "      <td>2</td>\n",
              "      <td>70</td>\n",
              "      <td>4bbl</td>\n",
              "      <td>NaN</td>\n",
              "      <td>NaN</td>\n",
              "      <td>9.4</td>\n",
              "      <td>101.0</td>\n",
              "      <td>6000.0</td>\n",
              "      <td>17</td>\n",
              "      <td>23</td>\n",
              "      <td>11845.0</td>\n",
              "    </tr>\n",
              "    <tr>\n",
              "      <th>57</th>\n",
              "      <td>3</td>\n",
              "      <td>150.0</td>\n",
              "      <td>mazda</td>\n",
              "      <td>gas</td>\n",
              "      <td>std</td>\n",
              "      <td>2</td>\n",
              "      <td>hatchback</td>\n",
              "      <td>rwd</td>\n",
              "      <td>front</td>\n",
              "      <td>95.3</td>\n",
              "      <td>169.0</td>\n",
              "      <td>65.7</td>\n",
              "      <td>49.6</td>\n",
              "      <td>2385</td>\n",
              "      <td>rotor</td>\n",
              "      <td>2</td>\n",
              "      <td>70</td>\n",
              "      <td>4bbl</td>\n",
              "      <td>NaN</td>\n",
              "      <td>NaN</td>\n",
              "      <td>9.4</td>\n",
              "      <td>101.0</td>\n",
              "      <td>6000.0</td>\n",
              "      <td>17</td>\n",
              "      <td>23</td>\n",
              "      <td>13645.0</td>\n",
              "    </tr>\n",
              "    <tr>\n",
              "      <th>58</th>\n",
              "      <td>3</td>\n",
              "      <td>150.0</td>\n",
              "      <td>mazda</td>\n",
              "      <td>gas</td>\n",
              "      <td>std</td>\n",
              "      <td>2</td>\n",
              "      <td>hatchback</td>\n",
              "      <td>rwd</td>\n",
              "      <td>front</td>\n",
              "      <td>95.3</td>\n",
              "      <td>169.0</td>\n",
              "      <td>65.7</td>\n",
              "      <td>49.6</td>\n",
              "      <td>2500</td>\n",
              "      <td>rotor</td>\n",
              "      <td>2</td>\n",
              "      <td>80</td>\n",
              "      <td>mpfi</td>\n",
              "      <td>NaN</td>\n",
              "      <td>NaN</td>\n",
              "      <td>9.4</td>\n",
              "      <td>135.0</td>\n",
              "      <td>6000.0</td>\n",
              "      <td>16</td>\n",
              "      <td>23</td>\n",
              "      <td>15645.0</td>\n",
              "    </tr>\n",
              "  </tbody>\n",
              "</table>\n",
              "</div>"
            ],
            "text/plain": [
              "    symboling  normalized-losses   make  ... city-mpg highway-mpg    price\n",
              "55          3              150.0  mazda  ...       17          23  10945.0\n",
              "56          3              150.0  mazda  ...       17          23  11845.0\n",
              "57          3              150.0  mazda  ...       17          23  13645.0\n",
              "58          3              150.0  mazda  ...       16          23  15645.0\n",
              "\n",
              "[4 rows x 26 columns]"
            ]
          },
          "metadata": {
            "tags": []
          },
          "execution_count": 16
        }
      ]
    },
    {
      "cell_type": "markdown",
      "metadata": {
        "id": "Jj99BejmWKuV"
      },
      "source": [
        "Since bore is correlated to curb-weight and engine-size(top two), I will look into the correlations by making plots."
      ]
    },
    {
      "cell_type": "code",
      "metadata": {
        "colab": {
          "base_uri": "https://localhost:8080/",
          "height": 319
        },
        "id": "YQnYZuEJTh7D",
        "outputId": "c87645f0-5215-4e63-fb1a-0a2164f21df2"
      },
      "source": [
        "#plot the correlations\n",
        "plt.figure(figsize = (14,6))\n",
        "plt.subplot(1,2,1)\n",
        "sns.regplot(data=data, x='bore',y='curb-weight', order = 3)\n",
        "plt.title('bore vs curb-weight')\n",
        "plt.subplot(1,2,2)\n",
        "sns.regplot(data=data, x='bore',y='engine-size', order = 2)\n",
        "plt.title('bore vs engine-size');\n",
        "\n"
      ],
      "execution_count": 17,
      "outputs": [
        {
          "output_type": "display_data",
          "data": {
            "image/png": "[encoded data removed]",
            "text/plain": [
              "<Figure size 1008x432 with 2 Axes>"
            ]
          },
          "metadata": {
            "tags": [],
            "needs_background": "light"
          }
        }
      ]
    },
    {
      "cell_type": "markdown",
      "metadata": {
        "id": "WA1HWramWiDT"
      },
      "source": [
        "It looks like the second graph shows a better correlation to interpret. As shown below, for engine-size around 70 and 80, bore is around 2.9"
      ]
    },
    {
      "cell_type": "code",
      "metadata": {
        "colab": {
          "base_uri": "https://localhost:8080/"
        },
        "id": "0m4P6J3eOxQu",
        "outputId": "e14e8311-a523-4237-dda1-93f9c3b00ed7"
      },
      "source": [
        "data[data['engine-size'].between(70,80)]['bore'].mean()"
      ],
      "execution_count": 18,
      "outputs": [
        {
          "output_type": "execute_result",
          "data": {
            "text/plain": [
              "2.91"
            ]
          },
          "metadata": {
            "tags": []
          },
          "execution_count": 18
        }
      ]
    },
    {
      "cell_type": "markdown",
      "metadata": {
        "id": "1GsZ3i2pWvDO"
      },
      "source": [
        "Therefore, I will imput missing values with 2.91"
      ]
    },
    {
      "cell_type": "code",
      "metadata": {
        "id": "ibLVRnOoPP7E"
      },
      "source": [
        "data['bore'].fillna(2.91, inplace = True)"
      ],
      "execution_count": 19,
      "outputs": []
    },
    {
      "cell_type": "markdown",
      "metadata": {
        "id": "sOgXYPngW0BL"
      },
      "source": [
        "###'stroke'"
      ]
    },
    {
      "cell_type": "code",
      "metadata": {
        "colab": {
          "base_uri": "https://localhost:8080/",
          "height": 227
        },
        "id": "Ho71aEK4Dgdz",
        "outputId": "4f726e6f-240e-43f7-d001-e67c56dd63a2"
      },
      "source": [
        "data[data['stroke'].isna()]"
      ],
      "execution_count": 20,
      "outputs": [
        {
          "output_type": "execute_result",
          "data": {
            "text/html": [
              "<div>\n",
              "<style scoped>\n",
              "    .dataframe tbody tr th:only-of-type {\n",
              "        vertical-align: middle;\n",
              "    }\n",
              "\n",
              "    .dataframe tbody tr th {\n",
              "        vertical-align: top;\n",
              "    }\n",
              "\n",
              "    .dataframe thead th {\n",
              "        text-align: right;\n",
              "    }\n",
              "</style>\n",
              "<table border=\"1\" class=\"dataframe\">\n",
              "  <thead>\n",
              "    <tr style=\"text-align: right;\">\n",
              "      <th></th>\n",
              "      <th>symboling</th>\n",
              "      <th>normalized-losses</th>\n",
              "      <th>make</th>\n",
              "      <th>fuel-type</th>\n",
              "      <th>aspiration</th>\n",
              "      <th>num-of-doors</th>\n",
              "      <th>body-style</th>\n",
              "      <th>drive-wheels</th>\n",
              "      <th>engine-location</th>\n",
              "      <th>wheel-base</th>\n",
              "      <th>length</th>\n",
              "      <th>width</th>\n",
              "      <th>height</th>\n",
              "      <th>curb-weight</th>\n",
              "      <th>engine-type</th>\n",
              "      <th>num-of-cyclinders</th>\n",
              "      <th>engine-size</th>\n",
              "      <th>fuel-system</th>\n",
              "      <th>bore</th>\n",
              "      <th>stroke</th>\n",
              "      <th>compression-ratio</th>\n",
              "      <th>horsepower</th>\n",
              "      <th>peak-rpm</th>\n",
              "      <th>city-mpg</th>\n",
              "      <th>highway-mpg</th>\n",
              "      <th>price</th>\n",
              "    </tr>\n",
              "  </thead>\n",
              "  <tbody>\n",
              "    <tr>\n",
              "      <th>55</th>\n",
              "      <td>3</td>\n",
              "      <td>150.0</td>\n",
              "      <td>mazda</td>\n",
              "      <td>gas</td>\n",
              "      <td>std</td>\n",
              "      <td>2</td>\n",
              "      <td>hatchback</td>\n",
              "      <td>rwd</td>\n",
              "      <td>front</td>\n",
              "      <td>95.3</td>\n",
              "      <td>169.0</td>\n",
              "      <td>65.7</td>\n",
              "      <td>49.6</td>\n",
              "      <td>2380</td>\n",
              "      <td>rotor</td>\n",
              "      <td>2</td>\n",
              "      <td>70</td>\n",
              "      <td>4bbl</td>\n",
              "      <td>2.91</td>\n",
              "      <td>NaN</td>\n",
              "      <td>9.4</td>\n",
              "      <td>101.0</td>\n",
              "      <td>6000.0</td>\n",
              "      <td>17</td>\n",
              "      <td>23</td>\n",
              "      <td>10945.0</td>\n",
              "    </tr>\n",
              "    <tr>\n",
              "      <th>56</th>\n",
              "      <td>3</td>\n",
              "      <td>150.0</td>\n",
              "      <td>mazda</td>\n",
              "      <td>gas</td>\n",
              "      <td>std</td>\n",
              "      <td>2</td>\n",
              "      <td>hatchback</td>\n",
              "      <td>rwd</td>\n",
              "      <td>front</td>\n",
              "      <td>95.3</td>\n",
              "      <td>169.0</td>\n",
              "      <td>65.7</td>\n",
              "      <td>49.6</td>\n",
              "      <td>2380</td>\n",
              "      <td>rotor</td>\n",
              "      <td>2</td>\n",
              "      <td>70</td>\n",
              "      <td>4bbl</td>\n",
              "      <td>2.91</td>\n",
              "      <td>NaN</td>\n",
              "      <td>9.4</td>\n",
              "      <td>101.0</td>\n",
              "      <td>6000.0</td>\n",
              "      <td>17</td>\n",
              "      <td>23</td>\n",
              "      <td>11845.0</td>\n",
              "    </tr>\n",
              "    <tr>\n",
              "      <th>57</th>\n",
              "      <td>3</td>\n",
              "      <td>150.0</td>\n",
              "      <td>mazda</td>\n",
              "      <td>gas</td>\n",
              "      <td>std</td>\n",
              "      <td>2</td>\n",
              "      <td>hatchback</td>\n",
              "      <td>rwd</td>\n",
              "      <td>front</td>\n",
              "      <td>95.3</td>\n",
              "      <td>169.0</td>\n",
              "      <td>65.7</td>\n",
              "      <td>49.6</td>\n",
              "      <td>2385</td>\n",
              "      <td>rotor</td>\n",
              "      <td>2</td>\n",
              "      <td>70</td>\n",
              "      <td>4bbl</td>\n",
              "      <td>2.91</td>\n",
              "      <td>NaN</td>\n",
              "      <td>9.4</td>\n",
              "      <td>101.0</td>\n",
              "      <td>6000.0</td>\n",
              "      <td>17</td>\n",
              "      <td>23</td>\n",
              "      <td>13645.0</td>\n",
              "    </tr>\n",
              "    <tr>\n",
              "      <th>58</th>\n",
              "      <td>3</td>\n",
              "      <td>150.0</td>\n",
              "      <td>mazda</td>\n",
              "      <td>gas</td>\n",
              "      <td>std</td>\n",
              "      <td>2</td>\n",
              "      <td>hatchback</td>\n",
              "      <td>rwd</td>\n",
              "      <td>front</td>\n",
              "      <td>95.3</td>\n",
              "      <td>169.0</td>\n",
              "      <td>65.7</td>\n",
              "      <td>49.6</td>\n",
              "      <td>2500</td>\n",
              "      <td>rotor</td>\n",
              "      <td>2</td>\n",
              "      <td>80</td>\n",
              "      <td>mpfi</td>\n",
              "      <td>2.91</td>\n",
              "      <td>NaN</td>\n",
              "      <td>9.4</td>\n",
              "      <td>135.0</td>\n",
              "      <td>6000.0</td>\n",
              "      <td>16</td>\n",
              "      <td>23</td>\n",
              "      <td>15645.0</td>\n",
              "    </tr>\n",
              "  </tbody>\n",
              "</table>\n",
              "</div>"
            ],
            "text/plain": [
              "    symboling  normalized-losses   make  ... city-mpg highway-mpg    price\n",
              "55          3              150.0  mazda  ...       17          23  10945.0\n",
              "56          3              150.0  mazda  ...       17          23  11845.0\n",
              "57          3              150.0  mazda  ...       17          23  13645.0\n",
              "58          3              150.0  mazda  ...       16          23  15645.0\n",
              "\n",
              "[4 rows x 26 columns]"
            ]
          },
          "metadata": {
            "tags": []
          },
          "execution_count": 20
        }
      ]
    },
    {
      "cell_type": "markdown",
      "metadata": {
        "id": "RNbG6Q4MW7lT"
      },
      "source": [
        "Since stroke is correlated to compression-ratio and engine-size, (top two), I will look into the correlations."
      ]
    },
    {
      "cell_type": "code",
      "metadata": {
        "colab": {
          "base_uri": "https://localhost:8080/",
          "height": 320
        },
        "id": "B9fmc9x5Pcia",
        "outputId": "1fab6185-84c5-488a-d82d-b4ad35d42a79"
      },
      "source": [
        "#plot the correlations\n",
        "plt.figure(figsize = (14,6))\n",
        "plt.subplot(1,2,1)\n",
        "sns.regplot(data=data, x='stroke',y='compression-ratio', order = 3)\n",
        "plt.title('stroke vs compression-ratio')\n",
        "plt.subplot(1,2,2)\n",
        "sns.regplot(data=data, x='stroke',y='engine-size', order = 2)\n",
        "plt.title('stroke vs engine-size');"
      ],
      "execution_count": 21,
      "outputs": [
        {
          "output_type": "display_data",
          "data": {
            "image/png": "[encoded data removed]",
            "text/plain": [
              "<Figure size 1008x432 with 2 Axes>"
            ]
          },
          "metadata": {
            "tags": [],
            "needs_background": "light"
          }
        }
      ]
    },
    {
      "cell_type": "markdown",
      "metadata": {
        "id": "uEFL5KmiX1Tn"
      },
      "source": [
        "It looks like the second graph shows a better correlation to interpret. As shown below, it looks like stroke is around 3.0 for engine-size around 70 and 80."
      ]
    },
    {
      "cell_type": "code",
      "metadata": {
        "colab": {
          "base_uri": "https://localhost:8080/"
        },
        "id": "FuR3XLKEgJXp",
        "outputId": "98e77ef9-2d76-4dd5-b5ea-a62420edb06c"
      },
      "source": [
        "data[data['engine-size'].between(70,80)]['stroke'].mean()"
      ],
      "execution_count": 22,
      "outputs": [
        {
          "output_type": "execute_result",
          "data": {
            "text/plain": [
              "3.07"
            ]
          },
          "metadata": {
            "tags": []
          },
          "execution_count": 22
        }
      ]
    },
    {
      "cell_type": "markdown",
      "metadata": {
        "id": "uHYoRpEaZmKh"
      },
      "source": [
        "Therefore, I will imput missing values with 3.07"
      ]
    },
    {
      "cell_type": "code",
      "metadata": {
        "id": "nPcFX3p6VIar"
      },
      "source": [
        "data['stroke'].fillna(3.07, inplace = True)"
      ],
      "execution_count": 23,
      "outputs": []
    },
    {
      "cell_type": "markdown",
      "metadata": {
        "id": "OhtN_DyEZoYZ"
      },
      "source": [
        "###'horsepower'"
      ]
    },
    {
      "cell_type": "code",
      "metadata": {
        "colab": {
          "base_uri": "https://localhost:8080/",
          "height": 165
        },
        "id": "1wzrC68FWjKw",
        "outputId": "499ff234-3f27-48f3-b442-487b04bb5dd2"
      },
      "source": [
        "data[data['horsepower'].isna()]"
      ],
      "execution_count": 24,
      "outputs": [
        {
          "output_type": "execute_result",
          "data": {
            "text/html": [
              "<div>\n",
              "<style scoped>\n",
              "    .dataframe tbody tr th:only-of-type {\n",
              "        vertical-align: middle;\n",
              "    }\n",
              "\n",
              "    .dataframe tbody tr th {\n",
              "        vertical-align: top;\n",
              "    }\n",
              "\n",
              "    .dataframe thead th {\n",
              "        text-align: right;\n",
              "    }\n",
              "</style>\n",
              "<table border=\"1\" class=\"dataframe\">\n",
              "  <thead>\n",
              "    <tr style=\"text-align: right;\">\n",
              "      <th></th>\n",
              "      <th>symboling</th>\n",
              "      <th>normalized-losses</th>\n",
              "      <th>make</th>\n",
              "      <th>fuel-type</th>\n",
              "      <th>aspiration</th>\n",
              "      <th>num-of-doors</th>\n",
              "      <th>body-style</th>\n",
              "      <th>drive-wheels</th>\n",
              "      <th>engine-location</th>\n",
              "      <th>wheel-base</th>\n",
              "      <th>length</th>\n",
              "      <th>width</th>\n",
              "      <th>height</th>\n",
              "      <th>curb-weight</th>\n",
              "      <th>engine-type</th>\n",
              "      <th>num-of-cyclinders</th>\n",
              "      <th>engine-size</th>\n",
              "      <th>fuel-system</th>\n",
              "      <th>bore</th>\n",
              "      <th>stroke</th>\n",
              "      <th>compression-ratio</th>\n",
              "      <th>horsepower</th>\n",
              "      <th>peak-rpm</th>\n",
              "      <th>city-mpg</th>\n",
              "      <th>highway-mpg</th>\n",
              "      <th>price</th>\n",
              "    </tr>\n",
              "  </thead>\n",
              "  <tbody>\n",
              "    <tr>\n",
              "      <th>130</th>\n",
              "      <td>0</td>\n",
              "      <td>NaN</td>\n",
              "      <td>renault</td>\n",
              "      <td>gas</td>\n",
              "      <td>std</td>\n",
              "      <td>4</td>\n",
              "      <td>wagon</td>\n",
              "      <td>fwd</td>\n",
              "      <td>front</td>\n",
              "      <td>96.1</td>\n",
              "      <td>181.5</td>\n",
              "      <td>66.5</td>\n",
              "      <td>55.2</td>\n",
              "      <td>2579</td>\n",
              "      <td>ohc</td>\n",
              "      <td>4</td>\n",
              "      <td>132</td>\n",
              "      <td>mpfi</td>\n",
              "      <td>3.46</td>\n",
              "      <td>3.9</td>\n",
              "      <td>8.7</td>\n",
              "      <td>NaN</td>\n",
              "      <td>NaN</td>\n",
              "      <td>23</td>\n",
              "      <td>31</td>\n",
              "      <td>9295.0</td>\n",
              "    </tr>\n",
              "    <tr>\n",
              "      <th>131</th>\n",
              "      <td>2</td>\n",
              "      <td>NaN</td>\n",
              "      <td>renault</td>\n",
              "      <td>gas</td>\n",
              "      <td>std</td>\n",
              "      <td>2</td>\n",
              "      <td>hatchback</td>\n",
              "      <td>fwd</td>\n",
              "      <td>front</td>\n",
              "      <td>96.1</td>\n",
              "      <td>176.8</td>\n",
              "      <td>66.6</td>\n",
              "      <td>50.5</td>\n",
              "      <td>2460</td>\n",
              "      <td>ohc</td>\n",
              "      <td>4</td>\n",
              "      <td>132</td>\n",
              "      <td>mpfi</td>\n",
              "      <td>3.46</td>\n",
              "      <td>3.9</td>\n",
              "      <td>8.7</td>\n",
              "      <td>NaN</td>\n",
              "      <td>NaN</td>\n",
              "      <td>23</td>\n",
              "      <td>31</td>\n",
              "      <td>9895.0</td>\n",
              "    </tr>\n",
              "  </tbody>\n",
              "</table>\n",
              "</div>"
            ],
            "text/plain": [
              "     symboling  normalized-losses     make  ... city-mpg highway-mpg   price\n",
              "130          0                NaN  renault  ...       23          31  9295.0\n",
              "131          2                NaN  renault  ...       23          31  9895.0\n",
              "\n",
              "[2 rows x 26 columns]"
            ]
          },
          "metadata": {
            "tags": []
          },
          "execution_count": 24
        }
      ]
    },
    {
      "cell_type": "markdown",
      "metadata": {
        "id": "DYPcoESdZwmi"
      },
      "source": [
        "Since horsepower is highly correlated to price and engine-size, I will look into the correlations"
      ]
    },
    {
      "cell_type": "code",
      "metadata": {
        "colab": {
          "base_uri": "https://localhost:8080/",
          "height": 309
        },
        "id": "ck5PnFu8XYWV",
        "outputId": "52bcc7fa-2b7c-49b6-a71d-43ba1b3388a7"
      },
      "source": [
        "plt.figure(figsize=(14,6))\n",
        "plt.subplot(1,2,1)\n",
        "sns.regplot(data=data, x='horsepower',y='engine-size')\n",
        "plt.subplot(1,2,2)\n",
        "sns.regplot(data=data, x='horsepower',y='price');"
      ],
      "execution_count": 25,
      "outputs": [
        {
          "output_type": "display_data",
          "data": {
            "image/png": "[encoded data removed]",
            "text/plain": [
              "<Figure size 1008x432 with 2 Axes>"
            ]
          },
          "metadata": {
            "tags": [],
            "needs_background": "light"
          }
        }
      ]
    },
    {
      "cell_type": "markdown",
      "metadata": {
        "id": "_y0FTTFOaP10"
      },
      "source": [
        "It seems to me that horsepower is around 132 for engine-size 132 and horsepower is around 100 for price around 9295~9895 as below."
      ]
    },
    {
      "cell_type": "code",
      "metadata": {
        "colab": {
          "base_uri": "https://localhost:8080/"
        },
        "id": "we5xKi2uZX3k",
        "outputId": "fe1c13a2-0750-4c3c-9438-7b078b21b39d"
      },
      "source": [
        "data[data['engine-size'].between(130,134)]['horsepower'].mean()"
      ],
      "execution_count": 26,
      "outputs": [
        {
          "output_type": "execute_result",
          "data": {
            "text/plain": [
              "132.5"
            ]
          },
          "metadata": {
            "tags": []
          },
          "execution_count": 26
        }
      ]
    },
    {
      "cell_type": "code",
      "metadata": {
        "colab": {
          "base_uri": "https://localhost:8080/"
        },
        "id": "GyyukVY4e3ct",
        "outputId": "ea5f0f06-fc3d-4054-9571-90f817775a8f"
      },
      "source": [
        "data[data['price'].between(9295,9895)]['horsepower'].mean()"
      ],
      "execution_count": 27,
      "outputs": [
        {
          "output_type": "execute_result",
          "data": {
            "text/plain": [
              "101.0"
            ]
          },
          "metadata": {
            "tags": []
          },
          "execution_count": 27
        }
      ]
    },
    {
      "cell_type": "markdown",
      "metadata": {
        "id": "VAlKNL__atb4"
      },
      "source": [
        "Since both variable(engine-size, price) have correlations to horsepower, I would like to impute the value '116.5' into the missing data since '116' is in the middle of 132 and 101"
      ]
    },
    {
      "cell_type": "code",
      "metadata": {
        "id": "GUT4KQWo2Ip4"
      },
      "source": [
        "data['horsepower'].fillna(116.5, inplace = True)"
      ],
      "execution_count": 28,
      "outputs": []
    },
    {
      "cell_type": "markdown",
      "metadata": {
        "id": "DTFEh6HXa0A4"
      },
      "source": [
        "###'peak-rpm'"
      ]
    },
    {
      "cell_type": "code",
      "metadata": {
        "colab": {
          "base_uri": "https://localhost:8080/",
          "height": 165
        },
        "id": "fPA53zEL2rfj",
        "outputId": "dda26d6a-e040-429b-ec09-4c031f5901e3"
      },
      "source": [
        "#Peak RPM\n",
        "\n",
        "data[data['peak-rpm'].isna()]"
      ],
      "execution_count": 29,
      "outputs": [
        {
          "output_type": "execute_result",
          "data": {
            "text/html": [
              "<div>\n",
              "<style scoped>\n",
              "    .dataframe tbody tr th:only-of-type {\n",
              "        vertical-align: middle;\n",
              "    }\n",
              "\n",
              "    .dataframe tbody tr th {\n",
              "        vertical-align: top;\n",
              "    }\n",
              "\n",
              "    .dataframe thead th {\n",
              "        text-align: right;\n",
              "    }\n",
              "</style>\n",
              "<table border=\"1\" class=\"dataframe\">\n",
              "  <thead>\n",
              "    <tr style=\"text-align: right;\">\n",
              "      <th></th>\n",
              "      <th>symboling</th>\n",
              "      <th>normalized-losses</th>\n",
              "      <th>make</th>\n",
              "      <th>fuel-type</th>\n",
              "      <th>aspiration</th>\n",
              "      <th>num-of-doors</th>\n",
              "      <th>body-style</th>\n",
              "      <th>drive-wheels</th>\n",
              "      <th>engine-location</th>\n",
              "      <th>wheel-base</th>\n",
              "      <th>length</th>\n",
              "      <th>width</th>\n",
              "      <th>height</th>\n",
              "      <th>curb-weight</th>\n",
              "      <th>engine-type</th>\n",
              "      <th>num-of-cyclinders</th>\n",
              "      <th>engine-size</th>\n",
              "      <th>fuel-system</th>\n",
              "      <th>bore</th>\n",
              "      <th>stroke</th>\n",
              "      <th>compression-ratio</th>\n",
              "      <th>horsepower</th>\n",
              "      <th>peak-rpm</th>\n",
              "      <th>city-mpg</th>\n",
              "      <th>highway-mpg</th>\n",
              "      <th>price</th>\n",
              "    </tr>\n",
              "  </thead>\n",
              "  <tbody>\n",
              "    <tr>\n",
              "      <th>130</th>\n",
              "      <td>0</td>\n",
              "      <td>NaN</td>\n",
              "      <td>renault</td>\n",
              "      <td>gas</td>\n",
              "      <td>std</td>\n",
              "      <td>4</td>\n",
              "      <td>wagon</td>\n",
              "      <td>fwd</td>\n",
              "      <td>front</td>\n",
              "      <td>96.1</td>\n",
              "      <td>181.5</td>\n",
              "      <td>66.5</td>\n",
              "      <td>55.2</td>\n",
              "      <td>2579</td>\n",
              "      <td>ohc</td>\n",
              "      <td>4</td>\n",
              "      <td>132</td>\n",
              "      <td>mpfi</td>\n",
              "      <td>3.46</td>\n",
              "      <td>3.9</td>\n",
              "      <td>8.7</td>\n",
              "      <td>116.5</td>\n",
              "      <td>NaN</td>\n",
              "      <td>23</td>\n",
              "      <td>31</td>\n",
              "      <td>9295.0</td>\n",
              "    </tr>\n",
              "    <tr>\n",
              "      <th>131</th>\n",
              "      <td>2</td>\n",
              "      <td>NaN</td>\n",
              "      <td>renault</td>\n",
              "      <td>gas</td>\n",
              "      <td>std</td>\n",
              "      <td>2</td>\n",
              "      <td>hatchback</td>\n",
              "      <td>fwd</td>\n",
              "      <td>front</td>\n",
              "      <td>96.1</td>\n",
              "      <td>176.8</td>\n",
              "      <td>66.6</td>\n",
              "      <td>50.5</td>\n",
              "      <td>2460</td>\n",
              "      <td>ohc</td>\n",
              "      <td>4</td>\n",
              "      <td>132</td>\n",
              "      <td>mpfi</td>\n",
              "      <td>3.46</td>\n",
              "      <td>3.9</td>\n",
              "      <td>8.7</td>\n",
              "      <td>116.5</td>\n",
              "      <td>NaN</td>\n",
              "      <td>23</td>\n",
              "      <td>31</td>\n",
              "      <td>9895.0</td>\n",
              "    </tr>\n",
              "  </tbody>\n",
              "</table>\n",
              "</div>"
            ],
            "text/plain": [
              "     symboling  normalized-losses     make  ... city-mpg highway-mpg   price\n",
              "130          0                NaN  renault  ...       23          31  9295.0\n",
              "131          2                NaN  renault  ...       23          31  9895.0\n",
              "\n",
              "[2 rows x 26 columns]"
            ]
          },
          "metadata": {
            "tags": []
          },
          "execution_count": 29
        }
      ]
    },
    {
      "cell_type": "markdown",
      "metadata": {
        "id": "JejwZ6FUbPRJ"
      },
      "source": [
        "Based on the correlation plot above, it seems like this factor is somehow correlated to compression-ratio or wheel-base"
      ]
    },
    {
      "cell_type": "code",
      "metadata": {
        "colab": {
          "base_uri": "https://localhost:8080/",
          "height": 324
        },
        "id": "Q_sWMwY_7GFj",
        "outputId": "4d31d116-74a6-433f-dffc-792db540d067"
      },
      "source": [
        "plt.figure(figsize = (14,6))\n",
        "plt.subplot(1,2,1)\n",
        "sns.regplot(data=data, x='peak-rpm',y='compression-ratio', order = 3)\n",
        "plt.title('compression-ratio vs peak-rpm')\n",
        "plt.subplot(1,2,2)\n",
        "sns.regplot(data=data, x='peak-rpm',y='wheel-base', order = 2)\n",
        "plt.title('wheel-base vs peak-rpm');"
      ],
      "execution_count": 30,
      "outputs": [
        {
          "output_type": "display_data",
          "data": {
            "image/png": "[encoded data removed]",
            "text/plain": [
              "<Figure size 1008x432 with 2 Axes>"
            ]
          },
          "metadata": {
            "tags": [],
            "needs_background": "light"
          }
        }
      ]
    },
    {
      "cell_type": "markdown",
      "metadata": {
        "id": "z2rEoNeFbMNj"
      },
      "source": [
        ""
      ]
    },
    {
      "cell_type": "code",
      "metadata": {
        "colab": {
          "base_uri": "https://localhost:8080/"
        },
        "id": "Btt0eRN1-Cwn",
        "outputId": "0cc5e397-9896-4e65-dd51-c3b66c0bdfe4"
      },
      "source": [
        "data[data['compression-ratio'].between(8.5,8.9)]['peak-rpm'].mean()"
      ],
      "execution_count": 31,
      "outputs": [
        {
          "output_type": "execute_result",
          "data": {
            "text/plain": [
              "5006.896551724138"
            ]
          },
          "metadata": {
            "tags": []
          },
          "execution_count": 31
        }
      ]
    },
    {
      "cell_type": "code",
      "metadata": {
        "colab": {
          "base_uri": "https://localhost:8080/"
        },
        "id": "_0q4-ftq_VXi",
        "outputId": "9dfec054-175a-4689-ee2f-1bae00769ec2"
      },
      "source": [
        "data[data['wheel-base'].between(95,97)]['peak-rpm'].mean()"
      ],
      "execution_count": 32,
      "outputs": [
        {
          "output_type": "execute_result",
          "data": {
            "text/plain": [
              "5176.666666666667"
            ]
          },
          "metadata": {
            "tags": []
          },
          "execution_count": 32
        }
      ]
    },
    {
      "cell_type": "markdown",
      "metadata": {
        "id": "2gCzkx-gbEb5"
      },
      "source": [
        "Since both variable(compression-ratio, wheel-base) have correlations to horsepower, I would like to impute '5091' into the missing data since '5091' is in the middle of 5006 and 5176"
      ]
    },
    {
      "cell_type": "code",
      "metadata": {
        "id": "rNDACusN_4C6"
      },
      "source": [
        "\n",
        "data['peak-rpm'].fillna(5091, inplace = True)"
      ],
      "execution_count": 33,
      "outputs": []
    },
    {
      "cell_type": "markdown",
      "metadata": {
        "id": "OH3xWb4Qba3I"
      },
      "source": [
        "###'normalized-losses'"
      ]
    },
    {
      "cell_type": "markdown",
      "metadata": {
        "id": "imVcMWqFbhIv"
      },
      "source": [
        "Now we have only one variable with missing values, which is normalized-losses.\n",
        "Since there are more than 40 missing values in the variable, and that is around one fifth of the dataset, I think it is a better idea to impute the values with a simple linear regression model"
      ]
    },
    {
      "cell_type": "markdown",
      "metadata": {
        "id": "mfVsVILobodw"
      },
      "source": [
        "Before I build a regression model, I will create dummy variables for the categorical features."
      ]
    },
    {
      "cell_type": "code",
      "metadata": {
        "id": "OOwZu-lQjOhG"
      },
      "source": [
        "# Encoding the categorical features\n",
        "    \n",
        "categorical_columns = ['make','fuel-type','aspiration', 'body-style', 'drive-wheels',\n",
        "                       'engine-location', 'engine-type', 'fuel-system'] \n",
        "    \n",
        "for column in categorical_columns:\n",
        "  dummies = pd.get_dummies(data[column], prefix=column)\n",
        "  data = pd.concat([data, dummies], axis=1)\n",
        "  data = data.drop(column, axis=1)"
      ],
      "execution_count": 34,
      "outputs": []
    },
    {
      "cell_type": "markdown",
      "metadata": {
        "id": "L_YX8gjhb3jQ"
      },
      "source": [
        "Since it is required in the task, I will drop data samples with missing values in the target as below (the number of missing values in the target is 4). So we have 201 rows. (205 - 4)"
      ]
    },
    {
      "cell_type": "code",
      "metadata": {
        "id": "i8_mMeWK50Jc"
      },
      "source": [
        "#skipping data sample with missing values in the target\n",
        "data = data[data.price.notna()]"
      ],
      "execution_count": 35,
      "outputs": []
    },
    {
      "cell_type": "code",
      "metadata": {
        "colab": {
          "base_uri": "https://localhost:8080/"
        },
        "id": "VO_k3SF0udC7",
        "outputId": "62964344-7b13-4ab2-afd9-0df116096aa9"
      },
      "source": [
        "data.info()"
      ],
      "execution_count": 36,
      "outputs": [
        {
          "output_type": "stream",
          "text": [
            "<class 'pandas.core.frame.DataFrame'>\n",
            "Int64Index: 201 entries, 0 to 204\n",
            "Data columns (total 69 columns):\n",
            " #   Column                  Non-Null Count  Dtype  \n",
            "---  ------                  --------------  -----  \n",
            " 0   symboling               201 non-null    int64  \n",
            " 1   normalized-losses       164 non-null    float64\n",
            " 2   num-of-doors            201 non-null    int64  \n",
            " 3   wheel-base              201 non-null    float64\n",
            " 4   length                  201 non-null    float64\n",
            " 5   width                   201 non-null    float64\n",
            " 6   height                  201 non-null    float64\n",
            " 7   curb-weight             201 non-null    int64  \n",
            " 8   num-of-cyclinders       201 non-null    int64  \n",
            " 9   engine-size             201 non-null    int64  \n",
            " 10  bore                    201 non-null    float64\n",
            " 11  stroke                  201 non-null    float64\n",
            " 12  compression-ratio       201 non-null    float64\n",
            " 13  horsepower              201 non-null    float64\n",
            " 14  peak-rpm                201 non-null    float64\n",
            " 15  city-mpg                201 non-null    int64  \n",
            " 16  highway-mpg             201 non-null    int64  \n",
            " 17  price                   201 non-null    float64\n",
            " 18  make_alfa-romero        201 non-null    uint8  \n",
            " 19  make_audi               201 non-null    uint8  \n",
            " 20  make_bmw                201 non-null    uint8  \n",
            " 21  make_chevrolet          201 non-null    uint8  \n",
            " 22  make_dodge              201 non-null    uint8  \n",
            " 23  make_honda              201 non-null    uint8  \n",
            " 24  make_isuzu              201 non-null    uint8  \n",
            " 25  make_jaguar             201 non-null    uint8  \n",
            " 26  make_mazda              201 non-null    uint8  \n",
            " 27  make_mercedes-benz      201 non-null    uint8  \n",
            " 28  make_mercury            201 non-null    uint8  \n",
            " 29  make_mitsubishi         201 non-null    uint8  \n",
            " 30  make_nissan             201 non-null    uint8  \n",
            " 31  make_peugot             201 non-null    uint8  \n",
            " 32  make_plymouth           201 non-null    uint8  \n",
            " 33  make_porsche            201 non-null    uint8  \n",
            " 34  make_renault            201 non-null    uint8  \n",
            " 35  make_saab               201 non-null    uint8  \n",
            " 36  make_subaru             201 non-null    uint8  \n",
            " 37  make_toyota             201 non-null    uint8  \n",
            " 38  make_volkswagen         201 non-null    uint8  \n",
            " 39  make_volvo              201 non-null    uint8  \n",
            " 40  fuel-type_diesel        201 non-null    uint8  \n",
            " 41  fuel-type_gas           201 non-null    uint8  \n",
            " 42  aspiration_std          201 non-null    uint8  \n",
            " 43  aspiration_turbo        201 non-null    uint8  \n",
            " 44  body-style_convertible  201 non-null    uint8  \n",
            " 45  body-style_hardtop      201 non-null    uint8  \n",
            " 46  body-style_hatchback    201 non-null    uint8  \n",
            " 47  body-style_sedan        201 non-null    uint8  \n",
            " 48  body-style_wagon        201 non-null    uint8  \n",
            " 49  drive-wheels_4wd        201 non-null    uint8  \n",
            " 50  drive-wheels_fwd        201 non-null    uint8  \n",
            " 51  drive-wheels_rwd        201 non-null    uint8  \n",
            " 52  engine-location_front   201 non-null    uint8  \n",
            " 53  engine-location_rear    201 non-null    uint8  \n",
            " 54  engine-type_dohc        201 non-null    uint8  \n",
            " 55  engine-type_dohcv       201 non-null    uint8  \n",
            " 56  engine-type_l           201 non-null    uint8  \n",
            " 57  engine-type_ohc         201 non-null    uint8  \n",
            " 58  engine-type_ohcf        201 non-null    uint8  \n",
            " 59  engine-type_ohcv        201 non-null    uint8  \n",
            " 60  engine-type_rotor       201 non-null    uint8  \n",
            " 61  fuel-system_1bbl        201 non-null    uint8  \n",
            " 62  fuel-system_2bbl        201 non-null    uint8  \n",
            " 63  fuel-system_4bbl        201 non-null    uint8  \n",
            " 64  fuel-system_idi         201 non-null    uint8  \n",
            " 65  fuel-system_mfi         201 non-null    uint8  \n",
            " 66  fuel-system_mpfi        201 non-null    uint8  \n",
            " 67  fuel-system_spdi        201 non-null    uint8  \n",
            " 68  fuel-system_spfi        201 non-null    uint8  \n",
            "dtypes: float64(11), int64(7), uint8(51)\n",
            "memory usage: 39.8 KB\n"
          ],
          "name": "stdout"
        }
      ]
    },
    {
      "cell_type": "markdown",
      "metadata": {
        "id": "CKlmwtV5cd4Y"
      },
      "source": [
        "Train data will be the rows without missing values and test data will be the rows with missing values"
      ]
    },
    {
      "cell_type": "code",
      "metadata": {
        "id": "diwgBaRhgWOu"
      },
      "source": [
        "train=data[data['normalized-losses'].notna()]\n",
        "train_x = train.drop('normalized-losses',1)\n",
        "train_y = train['normalized-losses']\n",
        "test=data[data['normalized-losses'].isna()]\n",
        "test_x = test.drop('normalized-losses',1)"
      ],
      "execution_count": 37,
      "outputs": []
    },
    {
      "cell_type": "markdown",
      "metadata": {
        "id": "hRXIiJSSgqau"
      },
      "source": [
        "I will fit a linear regression model and impute the missing values with the results from the model"
      ]
    },
    {
      "cell_type": "code",
      "metadata": {
        "id": "CdLpXVyDlvoL"
      },
      "source": [
        "lm = LinearRegression().fit(train_x,train_y)"
      ],
      "execution_count": 38,
      "outputs": []
    },
    {
      "cell_type": "code",
      "metadata": {
        "id": "E2vta4MKxu42"
      },
      "source": [
        "data.loc[data['normalized-losses'].isna(),'normalized-losses'] = lm.predict(test_x)"
      ],
      "execution_count": 39,
      "outputs": []
    },
    {
      "cell_type": "markdown",
      "metadata": {
        "id": "b6YmFzjwgzZ3"
      },
      "source": [
        "Now we can see a clean dataset without any nans."
      ]
    },
    {
      "cell_type": "code",
      "metadata": {
        "colab": {
          "base_uri": "https://localhost:8080/"
        },
        "id": "NCuj9R1qxIM_",
        "outputId": "b0ab0b98-cfeb-4a3b-daf5-63d2cf372cde"
      },
      "source": [
        "data.info()"
      ],
      "execution_count": 40,
      "outputs": [
        {
          "output_type": "stream",
          "text": [
            "<class 'pandas.core.frame.DataFrame'>\n",
            "Int64Index: 201 entries, 0 to 204\n",
            "Data columns (total 69 columns):\n",
            " #   Column                  Non-Null Count  Dtype  \n",
            "---  ------                  --------------  -----  \n",
            " 0   symboling               201 non-null    int64  \n",
            " 1   normalized-losses       201 non-null    float64\n",
            " 2   num-of-doors            201 non-null    int64  \n",
            " 3   wheel-base              201 non-null    float64\n",
            " 4   length                  201 non-null    float64\n",
            " 5   width                   201 non-null    float64\n",
            " 6   height                  201 non-null    float64\n",
            " 7   curb-weight             201 non-null    int64  \n",
            " 8   num-of-cyclinders       201 non-null    int64  \n",
            " 9   engine-size             201 non-null    int64  \n",
            " 10  bore                    201 non-null    float64\n",
            " 11  stroke                  201 non-null    float64\n",
            " 12  compression-ratio       201 non-null    float64\n",
            " 13  horsepower              201 non-null    float64\n",
            " 14  peak-rpm                201 non-null    float64\n",
            " 15  city-mpg                201 non-null    int64  \n",
            " 16  highway-mpg             201 non-null    int64  \n",
            " 17  price                   201 non-null    float64\n",
            " 18  make_alfa-romero        201 non-null    uint8  \n",
            " 19  make_audi               201 non-null    uint8  \n",
            " 20  make_bmw                201 non-null    uint8  \n",
            " 21  make_chevrolet          201 non-null    uint8  \n",
            " 22  make_dodge              201 non-null    uint8  \n",
            " 23  make_honda              201 non-null    uint8  \n",
            " 24  make_isuzu              201 non-null    uint8  \n",
            " 25  make_jaguar             201 non-null    uint8  \n",
            " 26  make_mazda              201 non-null    uint8  \n",
            " 27  make_mercedes-benz      201 non-null    uint8  \n",
            " 28  make_mercury            201 non-null    uint8  \n",
            " 29  make_mitsubishi         201 non-null    uint8  \n",
            " 30  make_nissan             201 non-null    uint8  \n",
            " 31  make_peugot             201 non-null    uint8  \n",
            " 32  make_plymouth           201 non-null    uint8  \n",
            " 33  make_porsche            201 non-null    uint8  \n",
            " 34  make_renault            201 non-null    uint8  \n",
            " 35  make_saab               201 non-null    uint8  \n",
            " 36  make_subaru             201 non-null    uint8  \n",
            " 37  make_toyota             201 non-null    uint8  \n",
            " 38  make_volkswagen         201 non-null    uint8  \n",
            " 39  make_volvo              201 non-null    uint8  \n",
            " 40  fuel-type_diesel        201 non-null    uint8  \n",
            " 41  fuel-type_gas           201 non-null    uint8  \n",
            " 42  aspiration_std          201 non-null    uint8  \n",
            " 43  aspiration_turbo        201 non-null    uint8  \n",
            " 44  body-style_convertible  201 non-null    uint8  \n",
            " 45  body-style_hardtop      201 non-null    uint8  \n",
            " 46  body-style_hatchback    201 non-null    uint8  \n",
            " 47  body-style_sedan        201 non-null    uint8  \n",
            " 48  body-style_wagon        201 non-null    uint8  \n",
            " 49  drive-wheels_4wd        201 non-null    uint8  \n",
            " 50  drive-wheels_fwd        201 non-null    uint8  \n",
            " 51  drive-wheels_rwd        201 non-null    uint8  \n",
            " 52  engine-location_front   201 non-null    uint8  \n",
            " 53  engine-location_rear    201 non-null    uint8  \n",
            " 54  engine-type_dohc        201 non-null    uint8  \n",
            " 55  engine-type_dohcv       201 non-null    uint8  \n",
            " 56  engine-type_l           201 non-null    uint8  \n",
            " 57  engine-type_ohc         201 non-null    uint8  \n",
            " 58  engine-type_ohcf        201 non-null    uint8  \n",
            " 59  engine-type_ohcv        201 non-null    uint8  \n",
            " 60  engine-type_rotor       201 non-null    uint8  \n",
            " 61  fuel-system_1bbl        201 non-null    uint8  \n",
            " 62  fuel-system_2bbl        201 non-null    uint8  \n",
            " 63  fuel-system_4bbl        201 non-null    uint8  \n",
            " 64  fuel-system_idi         201 non-null    uint8  \n",
            " 65  fuel-system_mfi         201 non-null    uint8  \n",
            " 66  fuel-system_mpfi        201 non-null    uint8  \n",
            " 67  fuel-system_spdi        201 non-null    uint8  \n",
            " 68  fuel-system_spfi        201 non-null    uint8  \n",
            "dtypes: float64(11), int64(7), uint8(51)\n",
            "memory usage: 39.8 KB\n"
          ],
          "name": "stdout"
        }
      ]
    },
    {
      "cell_type": "markdown",
      "metadata": {
        "id": "18QvjIsJg6EP"
      },
      "source": [
        "#3. Building a model"
      ]
    },
    {
      "cell_type": "markdown",
      "metadata": {
        "id": "GUJJfWuAk5NE"
      },
      "source": [
        "###Removing Multicorllinearity"
      ]
    },
    {
      "cell_type": "markdown",
      "metadata": {
        "id": "vKmH2z3ijtPd"
      },
      "source": [
        "Before I begin, I will need to investigate further into the dataset so that I find multicollinearity if any."
      ]
    },
    {
      "cell_type": "code",
      "metadata": {
        "id": "qZs_SgVnDExC"
      },
      "source": [
        "def vif_examine(df):\n",
        "  # the independent variables set \n",
        "  X = df.select_dtypes(include = [\"float64\",\"int64\"])\n",
        "  \n",
        "  # VIF dataframe \n",
        "  vif_data = pd.DataFrame() \n",
        "  vif_data[\"feature\"] = X.columns \n",
        "  \n",
        "  # calculating VIF for each feature \n",
        "  vif_data[\"VIF\"] = [vif(X.values, i) for i in range(len(X.columns))] \n",
        "  print(vif_data)"
      ],
      "execution_count": 41,
      "outputs": []
    },
    {
      "cell_type": "code",
      "metadata": {
        "colab": {
          "base_uri": "https://localhost:8080/"
        },
        "id": "WQGUP7wdDm-J",
        "outputId": "3118d49c-3820-470a-d649-bd254a0fd64d"
      },
      "source": [
        "vif_examine(data)"
      ],
      "execution_count": 42,
      "outputs": [
        {
          "output_type": "stream",
          "text": [
            "              feature          VIF\n",
            "0           symboling     4.716602\n",
            "1   normalized-losses    25.160625\n",
            "2        num-of-doors    26.307542\n",
            "3          wheel-base  2548.684877\n",
            "4              length  2118.447451\n",
            "5               width  3642.773100\n",
            "6              height  1133.408624\n",
            "7         curb-weight   440.302600\n",
            "8   num-of-cyclinders   188.462016\n",
            "9         engine-size   339.518066\n",
            "10               bore   516.979195\n",
            "11             stroke   206.592284\n",
            "12  compression-ratio    17.628655\n",
            "13         horsepower    84.241341\n",
            "14           peak-rpm   237.251715\n",
            "15           city-mpg   485.327902\n",
            "16        highway-mpg   562.874359\n",
            "17              price    26.778016\n"
          ],
          "name": "stdout"
        }
      ]
    },
    {
      "cell_type": "markdown",
      "metadata": {
        "id": "imSR_PGWlGUI"
      },
      "source": [
        "It looks like length, width and height have high VIF scores. Therefore, I can merge them into one as volume and drop the three columns from the dataset."
      ]
    },
    {
      "cell_type": "code",
      "metadata": {
        "id": "iSHYWYbfFdPz"
      },
      "source": [
        "data['volume'] = data['length']*data['width']*data['height']\n",
        "data=data.drop(['length','width','height'], axis = 1)"
      ],
      "execution_count": 43,
      "outputs": []
    },
    {
      "cell_type": "markdown",
      "metadata": {
        "id": "Y44EXZ_9oAYP"
      },
      "source": [
        "Also, it is great to see there is no sign of outliers as below."
      ]
    },
    {
      "cell_type": "code",
      "metadata": {
        "colab": {
          "base_uri": "https://localhost:8080/",
          "height": 334
        },
        "id": "VV0Okf3w-_Cb",
        "outputId": "280ec216-7101-4137-f42e-8fdecece525b"
      },
      "source": [
        "data.describe()"
      ],
      "execution_count": 44,
      "outputs": [
        {
          "output_type": "execute_result",
          "data": {
            "text/html": [
              "<div>\n",
              "<style scoped>\n",
              "    .dataframe tbody tr th:only-of-type {\n",
              "        vertical-align: middle;\n",
              "    }\n",
              "\n",
              "    .dataframe tbody tr th {\n",
              "        vertical-align: top;\n",
              "    }\n",
              "\n",
              "    .dataframe thead th {\n",
              "        text-align: right;\n",
              "    }\n",
              "</style>\n",
              "<table border=\"1\" class=\"dataframe\">\n",
              "  <thead>\n",
              "    <tr style=\"text-align: right;\">\n",
              "      <th></th>\n",
              "      <th>symboling</th>\n",
              "      <th>normalized-losses</th>\n",
              "      <th>num-of-doors</th>\n",
              "      <th>wheel-base</th>\n",
              "      <th>curb-weight</th>\n",
              "      <th>num-of-cyclinders</th>\n",
              "      <th>engine-size</th>\n",
              "      <th>bore</th>\n",
              "      <th>stroke</th>\n",
              "      <th>compression-ratio</th>\n",
              "      <th>horsepower</th>\n",
              "      <th>peak-rpm</th>\n",
              "      <th>city-mpg</th>\n",
              "      <th>highway-mpg</th>\n",
              "      <th>price</th>\n",
              "      <th>make_alfa-romero</th>\n",
              "      <th>make_audi</th>\n",
              "      <th>make_bmw</th>\n",
              "      <th>make_chevrolet</th>\n",
              "      <th>make_dodge</th>\n",
              "      <th>make_honda</th>\n",
              "      <th>make_isuzu</th>\n",
              "      <th>make_jaguar</th>\n",
              "      <th>make_mazda</th>\n",
              "      <th>make_mercedes-benz</th>\n",
              "      <th>make_mercury</th>\n",
              "      <th>make_mitsubishi</th>\n",
              "      <th>make_nissan</th>\n",
              "      <th>make_peugot</th>\n",
              "      <th>make_plymouth</th>\n",
              "      <th>make_porsche</th>\n",
              "      <th>make_renault</th>\n",
              "      <th>make_saab</th>\n",
              "      <th>make_subaru</th>\n",
              "      <th>make_toyota</th>\n",
              "      <th>make_volkswagen</th>\n",
              "      <th>make_volvo</th>\n",
              "      <th>fuel-type_diesel</th>\n",
              "      <th>fuel-type_gas</th>\n",
              "      <th>aspiration_std</th>\n",
              "      <th>aspiration_turbo</th>\n",
              "      <th>body-style_convertible</th>\n",
              "      <th>body-style_hardtop</th>\n",
              "      <th>body-style_hatchback</th>\n",
              "      <th>body-style_sedan</th>\n",
              "      <th>body-style_wagon</th>\n",
              "      <th>drive-wheels_4wd</th>\n",
              "      <th>drive-wheels_fwd</th>\n",
              "      <th>drive-wheels_rwd</th>\n",
              "      <th>engine-location_front</th>\n",
              "      <th>engine-location_rear</th>\n",
              "      <th>engine-type_dohc</th>\n",
              "      <th>engine-type_dohcv</th>\n",
              "      <th>engine-type_l</th>\n",
              "      <th>engine-type_ohc</th>\n",
              "      <th>engine-type_ohcf</th>\n",
              "      <th>engine-type_ohcv</th>\n",
              "      <th>engine-type_rotor</th>\n",
              "      <th>fuel-system_1bbl</th>\n",
              "      <th>fuel-system_2bbl</th>\n",
              "      <th>fuel-system_4bbl</th>\n",
              "      <th>fuel-system_idi</th>\n",
              "      <th>fuel-system_mfi</th>\n",
              "      <th>fuel-system_mpfi</th>\n",
              "      <th>fuel-system_spdi</th>\n",
              "      <th>fuel-system_spfi</th>\n",
              "      <th>volume</th>\n",
              "    </tr>\n",
              "  </thead>\n",
              "  <tbody>\n",
              "    <tr>\n",
              "      <th>count</th>\n",
              "      <td>201.000000</td>\n",
              "      <td>201.000000</td>\n",
              "      <td>201.000000</td>\n",
              "      <td>201.000000</td>\n",
              "      <td>201.000000</td>\n",
              "      <td>201.000000</td>\n",
              "      <td>201.000000</td>\n",
              "      <td>201.000000</td>\n",
              "      <td>201.000000</td>\n",
              "      <td>201.000000</td>\n",
              "      <td>201.000000</td>\n",
              "      <td>201.000000</td>\n",
              "      <td>201.000000</td>\n",
              "      <td>201.000000</td>\n",
              "      <td>201.000000</td>\n",
              "      <td>201.000000</td>\n",
              "      <td>201.000000</td>\n",
              "      <td>201.000000</td>\n",
              "      <td>201.000000</td>\n",
              "      <td>201.000000</td>\n",
              "      <td>201.000000</td>\n",
              "      <td>201.000000</td>\n",
              "      <td>201.000000</td>\n",
              "      <td>201.000000</td>\n",
              "      <td>201.000000</td>\n",
              "      <td>201.000000</td>\n",
              "      <td>201.000000</td>\n",
              "      <td>201.000000</td>\n",
              "      <td>201.000000</td>\n",
              "      <td>201.000000</td>\n",
              "      <td>201.000000</td>\n",
              "      <td>201.000000</td>\n",
              "      <td>201.000000</td>\n",
              "      <td>201.000000</td>\n",
              "      <td>201.000000</td>\n",
              "      <td>201.000000</td>\n",
              "      <td>201.000000</td>\n",
              "      <td>201.000000</td>\n",
              "      <td>201.000000</td>\n",
              "      <td>201.000000</td>\n",
              "      <td>201.000000</td>\n",
              "      <td>201.000000</td>\n",
              "      <td>201.000000</td>\n",
              "      <td>201.000000</td>\n",
              "      <td>201.000000</td>\n",
              "      <td>201.000000</td>\n",
              "      <td>201.000000</td>\n",
              "      <td>201.000000</td>\n",
              "      <td>201.000000</td>\n",
              "      <td>201.000000</td>\n",
              "      <td>201.000000</td>\n",
              "      <td>201.000000</td>\n",
              "      <td>201.0</td>\n",
              "      <td>201.000000</td>\n",
              "      <td>201.000000</td>\n",
              "      <td>201.000000</td>\n",
              "      <td>201.000000</td>\n",
              "      <td>201.000000</td>\n",
              "      <td>201.000000</td>\n",
              "      <td>201.000000</td>\n",
              "      <td>201.000000</td>\n",
              "      <td>201.000000</td>\n",
              "      <td>201.000000</td>\n",
              "      <td>201.000000</td>\n",
              "      <td>201.000000</td>\n",
              "      <td>201.000000</td>\n",
              "      <td>201.000000</td>\n",
              "    </tr>\n",
              "    <tr>\n",
              "      <th>mean</th>\n",
              "      <td>0.840796</td>\n",
              "      <td>127.322986</td>\n",
              "      <td>3.144279</td>\n",
              "      <td>98.797015</td>\n",
              "      <td>2555.666667</td>\n",
              "      <td>4.363184</td>\n",
              "      <td>126.875622</td>\n",
              "      <td>3.322338</td>\n",
              "      <td>3.253184</td>\n",
              "      <td>10.164279</td>\n",
              "      <td>103.527363</td>\n",
              "      <td>5117.323383</td>\n",
              "      <td>25.179104</td>\n",
              "      <td>30.686567</td>\n",
              "      <td>13207.129353</td>\n",
              "      <td>0.014925</td>\n",
              "      <td>0.029851</td>\n",
              "      <td>0.039801</td>\n",
              "      <td>0.014925</td>\n",
              "      <td>0.044776</td>\n",
              "      <td>0.064677</td>\n",
              "      <td>0.009950</td>\n",
              "      <td>0.014925</td>\n",
              "      <td>0.084577</td>\n",
              "      <td>0.039801</td>\n",
              "      <td>0.004975</td>\n",
              "      <td>0.064677</td>\n",
              "      <td>0.089552</td>\n",
              "      <td>0.054726</td>\n",
              "      <td>0.034826</td>\n",
              "      <td>0.019900</td>\n",
              "      <td>0.009950</td>\n",
              "      <td>0.029851</td>\n",
              "      <td>0.059701</td>\n",
              "      <td>0.159204</td>\n",
              "      <td>0.059701</td>\n",
              "      <td>0.054726</td>\n",
              "      <td>0.099502</td>\n",
              "      <td>0.900498</td>\n",
              "      <td>0.820896</td>\n",
              "      <td>0.179104</td>\n",
              "      <td>0.029851</td>\n",
              "      <td>0.039801</td>\n",
              "      <td>0.338308</td>\n",
              "      <td>0.467662</td>\n",
              "      <td>0.124378</td>\n",
              "      <td>0.039801</td>\n",
              "      <td>0.587065</td>\n",
              "      <td>0.373134</td>\n",
              "      <td>0.985075</td>\n",
              "      <td>0.014925</td>\n",
              "      <td>0.059701</td>\n",
              "      <td>0.0</td>\n",
              "      <td>0.059701</td>\n",
              "      <td>0.721393</td>\n",
              "      <td>0.074627</td>\n",
              "      <td>0.064677</td>\n",
              "      <td>0.019900</td>\n",
              "      <td>0.054726</td>\n",
              "      <td>0.318408</td>\n",
              "      <td>0.014925</td>\n",
              "      <td>0.099502</td>\n",
              "      <td>0.004975</td>\n",
              "      <td>0.457711</td>\n",
              "      <td>0.044776</td>\n",
              "      <td>0.004975</td>\n",
              "      <td>619579.968378</td>\n",
              "    </tr>\n",
              "    <tr>\n",
              "      <th>std</th>\n",
              "      <td>1.254802</td>\n",
              "      <td>37.026408</td>\n",
              "      <td>0.992008</td>\n",
              "      <td>6.066366</td>\n",
              "      <td>517.296727</td>\n",
              "      <td>1.059452</td>\n",
              "      <td>41.546834</td>\n",
              "      <td>0.274467</td>\n",
              "      <td>0.317129</td>\n",
              "      <td>4.004965</td>\n",
              "      <td>37.388340</td>\n",
              "      <td>478.120497</td>\n",
              "      <td>6.423220</td>\n",
              "      <td>6.815150</td>\n",
              "      <td>7947.066342</td>\n",
              "      <td>0.121557</td>\n",
              "      <td>0.170600</td>\n",
              "      <td>0.195979</td>\n",
              "      <td>0.121557</td>\n",
              "      <td>0.207328</td>\n",
              "      <td>0.246568</td>\n",
              "      <td>0.099501</td>\n",
              "      <td>0.121557</td>\n",
              "      <td>0.278946</td>\n",
              "      <td>0.195979</td>\n",
              "      <td>0.070535</td>\n",
              "      <td>0.246568</td>\n",
              "      <td>0.286252</td>\n",
              "      <td>0.228013</td>\n",
              "      <td>0.183796</td>\n",
              "      <td>0.140007</td>\n",
              "      <td>0.099501</td>\n",
              "      <td>0.170600</td>\n",
              "      <td>0.237525</td>\n",
              "      <td>0.366780</td>\n",
              "      <td>0.237525</td>\n",
              "      <td>0.228013</td>\n",
              "      <td>0.300083</td>\n",
              "      <td>0.300083</td>\n",
              "      <td>0.384397</td>\n",
              "      <td>0.384397</td>\n",
              "      <td>0.170600</td>\n",
              "      <td>0.195979</td>\n",
              "      <td>0.474315</td>\n",
              "      <td>0.500199</td>\n",
              "      <td>0.330836</td>\n",
              "      <td>0.195979</td>\n",
              "      <td>0.493591</td>\n",
              "      <td>0.484845</td>\n",
              "      <td>0.121557</td>\n",
              "      <td>0.121557</td>\n",
              "      <td>0.237525</td>\n",
              "      <td>0.0</td>\n",
              "      <td>0.237525</td>\n",
              "      <td>0.449433</td>\n",
              "      <td>0.263444</td>\n",
              "      <td>0.246568</td>\n",
              "      <td>0.140007</td>\n",
              "      <td>0.228013</td>\n",
              "      <td>0.467022</td>\n",
              "      <td>0.121557</td>\n",
              "      <td>0.300083</td>\n",
              "      <td>0.070535</td>\n",
              "      <td>0.499452</td>\n",
              "      <td>0.207328</td>\n",
              "      <td>0.070535</td>\n",
              "      <td>79564.106791</td>\n",
              "    </tr>\n",
              "    <tr>\n",
              "      <th>min</th>\n",
              "      <td>-2.000000</td>\n",
              "      <td>65.000000</td>\n",
              "      <td>2.000000</td>\n",
              "      <td>86.600000</td>\n",
              "      <td>1488.000000</td>\n",
              "      <td>2.000000</td>\n",
              "      <td>61.000000</td>\n",
              "      <td>2.540000</td>\n",
              "      <td>2.070000</td>\n",
              "      <td>7.000000</td>\n",
              "      <td>48.000000</td>\n",
              "      <td>4150.000000</td>\n",
              "      <td>13.000000</td>\n",
              "      <td>16.000000</td>\n",
              "      <td>5118.000000</td>\n",
              "      <td>0.000000</td>\n",
              "      <td>0.000000</td>\n",
              "      <td>0.000000</td>\n",
              "      <td>0.000000</td>\n",
              "      <td>0.000000</td>\n",
              "      <td>0.000000</td>\n",
              "      <td>0.000000</td>\n",
              "      <td>0.000000</td>\n",
              "      <td>0.000000</td>\n",
              "      <td>0.000000</td>\n",
              "      <td>0.000000</td>\n",
              "      <td>0.000000</td>\n",
              "      <td>0.000000</td>\n",
              "      <td>0.000000</td>\n",
              "      <td>0.000000</td>\n",
              "      <td>0.000000</td>\n",
              "      <td>0.000000</td>\n",
              "      <td>0.000000</td>\n",
              "      <td>0.000000</td>\n",
              "      <td>0.000000</td>\n",
              "      <td>0.000000</td>\n",
              "      <td>0.000000</td>\n",
              "      <td>0.000000</td>\n",
              "      <td>0.000000</td>\n",
              "      <td>0.000000</td>\n",
              "      <td>0.000000</td>\n",
              "      <td>0.000000</td>\n",
              "      <td>0.000000</td>\n",
              "      <td>0.000000</td>\n",
              "      <td>0.000000</td>\n",
              "      <td>0.000000</td>\n",
              "      <td>0.000000</td>\n",
              "      <td>0.000000</td>\n",
              "      <td>0.000000</td>\n",
              "      <td>0.000000</td>\n",
              "      <td>0.000000</td>\n",
              "      <td>0.000000</td>\n",
              "      <td>0.0</td>\n",
              "      <td>0.000000</td>\n",
              "      <td>0.000000</td>\n",
              "      <td>0.000000</td>\n",
              "      <td>0.000000</td>\n",
              "      <td>0.000000</td>\n",
              "      <td>0.000000</td>\n",
              "      <td>0.000000</td>\n",
              "      <td>0.000000</td>\n",
              "      <td>0.000000</td>\n",
              "      <td>0.000000</td>\n",
              "      <td>0.000000</td>\n",
              "      <td>0.000000</td>\n",
              "      <td>0.000000</td>\n",
              "      <td>452643.156000</td>\n",
              "    </tr>\n",
              "    <tr>\n",
              "      <th>25%</th>\n",
              "      <td>0.000000</td>\n",
              "      <td>95.000000</td>\n",
              "      <td>2.000000</td>\n",
              "      <td>94.500000</td>\n",
              "      <td>2169.000000</td>\n",
              "      <td>4.000000</td>\n",
              "      <td>98.000000</td>\n",
              "      <td>3.150000</td>\n",
              "      <td>3.100000</td>\n",
              "      <td>8.600000</td>\n",
              "      <td>70.000000</td>\n",
              "      <td>4800.000000</td>\n",
              "      <td>19.000000</td>\n",
              "      <td>25.000000</td>\n",
              "      <td>7775.000000</td>\n",
              "      <td>0.000000</td>\n",
              "      <td>0.000000</td>\n",
              "      <td>0.000000</td>\n",
              "      <td>0.000000</td>\n",
              "      <td>0.000000</td>\n",
              "      <td>0.000000</td>\n",
              "      <td>0.000000</td>\n",
              "      <td>0.000000</td>\n",
              "      <td>0.000000</td>\n",
              "      <td>0.000000</td>\n",
              "      <td>0.000000</td>\n",
              "      <td>0.000000</td>\n",
              "      <td>0.000000</td>\n",
              "      <td>0.000000</td>\n",
              "      <td>0.000000</td>\n",
              "      <td>0.000000</td>\n",
              "      <td>0.000000</td>\n",
              "      <td>0.000000</td>\n",
              "      <td>0.000000</td>\n",
              "      <td>0.000000</td>\n",
              "      <td>0.000000</td>\n",
              "      <td>0.000000</td>\n",
              "      <td>0.000000</td>\n",
              "      <td>1.000000</td>\n",
              "      <td>1.000000</td>\n",
              "      <td>0.000000</td>\n",
              "      <td>0.000000</td>\n",
              "      <td>0.000000</td>\n",
              "      <td>0.000000</td>\n",
              "      <td>0.000000</td>\n",
              "      <td>0.000000</td>\n",
              "      <td>0.000000</td>\n",
              "      <td>0.000000</td>\n",
              "      <td>0.000000</td>\n",
              "      <td>1.000000</td>\n",
              "      <td>0.000000</td>\n",
              "      <td>0.000000</td>\n",
              "      <td>0.0</td>\n",
              "      <td>0.000000</td>\n",
              "      <td>0.000000</td>\n",
              "      <td>0.000000</td>\n",
              "      <td>0.000000</td>\n",
              "      <td>0.000000</td>\n",
              "      <td>0.000000</td>\n",
              "      <td>0.000000</td>\n",
              "      <td>0.000000</td>\n",
              "      <td>0.000000</td>\n",
              "      <td>0.000000</td>\n",
              "      <td>0.000000</td>\n",
              "      <td>0.000000</td>\n",
              "      <td>0.000000</td>\n",
              "      <td>566490.600000</td>\n",
              "    </tr>\n",
              "    <tr>\n",
              "      <th>50%</th>\n",
              "      <td>1.000000</td>\n",
              "      <td>122.000000</td>\n",
              "      <td>4.000000</td>\n",
              "      <td>97.000000</td>\n",
              "      <td>2414.000000</td>\n",
              "      <td>4.000000</td>\n",
              "      <td>120.000000</td>\n",
              "      <td>3.310000</td>\n",
              "      <td>3.290000</td>\n",
              "      <td>9.000000</td>\n",
              "      <td>95.000000</td>\n",
              "      <td>5100.000000</td>\n",
              "      <td>24.000000</td>\n",
              "      <td>30.000000</td>\n",
              "      <td>10295.000000</td>\n",
              "      <td>0.000000</td>\n",
              "      <td>0.000000</td>\n",
              "      <td>0.000000</td>\n",
              "      <td>0.000000</td>\n",
              "      <td>0.000000</td>\n",
              "      <td>0.000000</td>\n",
              "      <td>0.000000</td>\n",
              "      <td>0.000000</td>\n",
              "      <td>0.000000</td>\n",
              "      <td>0.000000</td>\n",
              "      <td>0.000000</td>\n",
              "      <td>0.000000</td>\n",
              "      <td>0.000000</td>\n",
              "      <td>0.000000</td>\n",
              "      <td>0.000000</td>\n",
              "      <td>0.000000</td>\n",
              "      <td>0.000000</td>\n",
              "      <td>0.000000</td>\n",
              "      <td>0.000000</td>\n",
              "      <td>0.000000</td>\n",
              "      <td>0.000000</td>\n",
              "      <td>0.000000</td>\n",
              "      <td>0.000000</td>\n",
              "      <td>1.000000</td>\n",
              "      <td>1.000000</td>\n",
              "      <td>0.000000</td>\n",
              "      <td>0.000000</td>\n",
              "      <td>0.000000</td>\n",
              "      <td>0.000000</td>\n",
              "      <td>0.000000</td>\n",
              "      <td>0.000000</td>\n",
              "      <td>0.000000</td>\n",
              "      <td>1.000000</td>\n",
              "      <td>0.000000</td>\n",
              "      <td>1.000000</td>\n",
              "      <td>0.000000</td>\n",
              "      <td>0.000000</td>\n",
              "      <td>0.0</td>\n",
              "      <td>0.000000</td>\n",
              "      <td>1.000000</td>\n",
              "      <td>0.000000</td>\n",
              "      <td>0.000000</td>\n",
              "      <td>0.000000</td>\n",
              "      <td>0.000000</td>\n",
              "      <td>0.000000</td>\n",
              "      <td>0.000000</td>\n",
              "      <td>0.000000</td>\n",
              "      <td>0.000000</td>\n",
              "      <td>0.000000</td>\n",
              "      <td>0.000000</td>\n",
              "      <td>0.000000</td>\n",
              "      <td>601385.700000</td>\n",
              "    </tr>\n",
              "    <tr>\n",
              "      <th>75%</th>\n",
              "      <td>2.000000</td>\n",
              "      <td>154.000000</td>\n",
              "      <td>4.000000</td>\n",
              "      <td>102.400000</td>\n",
              "      <td>2926.000000</td>\n",
              "      <td>4.000000</td>\n",
              "      <td>141.000000</td>\n",
              "      <td>3.580000</td>\n",
              "      <td>3.410000</td>\n",
              "      <td>9.400000</td>\n",
              "      <td>116.000000</td>\n",
              "      <td>5500.000000</td>\n",
              "      <td>30.000000</td>\n",
              "      <td>34.000000</td>\n",
              "      <td>16500.000000</td>\n",
              "      <td>0.000000</td>\n",
              "      <td>0.000000</td>\n",
              "      <td>0.000000</td>\n",
              "      <td>0.000000</td>\n",
              "      <td>0.000000</td>\n",
              "      <td>0.000000</td>\n",
              "      <td>0.000000</td>\n",
              "      <td>0.000000</td>\n",
              "      <td>0.000000</td>\n",
              "      <td>0.000000</td>\n",
              "      <td>0.000000</td>\n",
              "      <td>0.000000</td>\n",
              "      <td>0.000000</td>\n",
              "      <td>0.000000</td>\n",
              "      <td>0.000000</td>\n",
              "      <td>0.000000</td>\n",
              "      <td>0.000000</td>\n",
              "      <td>0.000000</td>\n",
              "      <td>0.000000</td>\n",
              "      <td>0.000000</td>\n",
              "      <td>0.000000</td>\n",
              "      <td>0.000000</td>\n",
              "      <td>0.000000</td>\n",
              "      <td>1.000000</td>\n",
              "      <td>1.000000</td>\n",
              "      <td>0.000000</td>\n",
              "      <td>0.000000</td>\n",
              "      <td>0.000000</td>\n",
              "      <td>1.000000</td>\n",
              "      <td>1.000000</td>\n",
              "      <td>0.000000</td>\n",
              "      <td>0.000000</td>\n",
              "      <td>1.000000</td>\n",
              "      <td>1.000000</td>\n",
              "      <td>1.000000</td>\n",
              "      <td>0.000000</td>\n",
              "      <td>0.000000</td>\n",
              "      <td>0.0</td>\n",
              "      <td>0.000000</td>\n",
              "      <td>1.000000</td>\n",
              "      <td>0.000000</td>\n",
              "      <td>0.000000</td>\n",
              "      <td>0.000000</td>\n",
              "      <td>0.000000</td>\n",
              "      <td>1.000000</td>\n",
              "      <td>0.000000</td>\n",
              "      <td>0.000000</td>\n",
              "      <td>0.000000</td>\n",
              "      <td>1.000000</td>\n",
              "      <td>0.000000</td>\n",
              "      <td>0.000000</td>\n",
              "      <td>674493.768000</td>\n",
              "    </tr>\n",
              "    <tr>\n",
              "      <th>max</th>\n",
              "      <td>3.000000</td>\n",
              "      <td>256.000000</td>\n",
              "      <td>4.000000</td>\n",
              "      <td>120.900000</td>\n",
              "      <td>4066.000000</td>\n",
              "      <td>12.000000</td>\n",
              "      <td>326.000000</td>\n",
              "      <td>3.940000</td>\n",
              "      <td>4.170000</td>\n",
              "      <td>23.000000</td>\n",
              "      <td>262.000000</td>\n",
              "      <td>6600.000000</td>\n",
              "      <td>49.000000</td>\n",
              "      <td>54.000000</td>\n",
              "      <td>45400.000000</td>\n",
              "      <td>1.000000</td>\n",
              "      <td>1.000000</td>\n",
              "      <td>1.000000</td>\n",
              "      <td>1.000000</td>\n",
              "      <td>1.000000</td>\n",
              "      <td>1.000000</td>\n",
              "      <td>1.000000</td>\n",
              "      <td>1.000000</td>\n",
              "      <td>1.000000</td>\n",
              "      <td>1.000000</td>\n",
              "      <td>1.000000</td>\n",
              "      <td>1.000000</td>\n",
              "      <td>1.000000</td>\n",
              "      <td>1.000000</td>\n",
              "      <td>1.000000</td>\n",
              "      <td>1.000000</td>\n",
              "      <td>1.000000</td>\n",
              "      <td>1.000000</td>\n",
              "      <td>1.000000</td>\n",
              "      <td>1.000000</td>\n",
              "      <td>1.000000</td>\n",
              "      <td>1.000000</td>\n",
              "      <td>1.000000</td>\n",
              "      <td>1.000000</td>\n",
              "      <td>1.000000</td>\n",
              "      <td>1.000000</td>\n",
              "      <td>1.000000</td>\n",
              "      <td>1.000000</td>\n",
              "      <td>1.000000</td>\n",
              "      <td>1.000000</td>\n",
              "      <td>1.000000</td>\n",
              "      <td>1.000000</td>\n",
              "      <td>1.000000</td>\n",
              "      <td>1.000000</td>\n",
              "      <td>1.000000</td>\n",
              "      <td>1.000000</td>\n",
              "      <td>1.000000</td>\n",
              "      <td>0.0</td>\n",
              "      <td>1.000000</td>\n",
              "      <td>1.000000</td>\n",
              "      <td>1.000000</td>\n",
              "      <td>1.000000</td>\n",
              "      <td>1.000000</td>\n",
              "      <td>1.000000</td>\n",
              "      <td>1.000000</td>\n",
              "      <td>1.000000</td>\n",
              "      <td>1.000000</td>\n",
              "      <td>1.000000</td>\n",
              "      <td>1.000000</td>\n",
              "      <td>1.000000</td>\n",
              "      <td>1.000000</td>\n",
              "      <td>846007.659000</td>\n",
              "    </tr>\n",
              "  </tbody>\n",
              "</table>\n",
              "</div>"
            ],
            "text/plain": [
              "        symboling  normalized-losses  ...  fuel-system_spfi         volume\n",
              "count  201.000000         201.000000  ...        201.000000     201.000000\n",
              "mean     0.840796         127.322986  ...          0.004975  619579.968378\n",
              "std      1.254802          37.026408  ...          0.070535   79564.106791\n",
              "min     -2.000000          65.000000  ...          0.000000  452643.156000\n",
              "25%      0.000000          95.000000  ...          0.000000  566490.600000\n",
              "50%      1.000000         122.000000  ...          0.000000  601385.700000\n",
              "75%      2.000000         154.000000  ...          0.000000  674493.768000\n",
              "max      3.000000         256.000000  ...          1.000000  846007.659000\n",
              "\n",
              "[8 rows x 67 columns]"
            ]
          },
          "metadata": {
            "tags": []
          },
          "execution_count": 44
        }
      ]
    },
    {
      "cell_type": "markdown",
      "metadata": {
        "id": "EFz5RXv1oP4o"
      },
      "source": [
        "### Building models without PCA"
      ]
    },
    {
      "cell_type": "markdown",
      "metadata": {
        "id": "kXiUOzVDogsa"
      },
      "source": [
        "PCA is known for extracting the directions in the multivariate space that is the “most informative”. I will compare the results with and without PCA."
      ]
    },
    {
      "cell_type": "markdown",
      "metadata": {
        "id": "Iq8jnnXrvZmn"
      },
      "source": [
        "Train and test data will be split into 80% and 20% randomly."
      ]
    },
    {
      "cell_type": "code",
      "metadata": {
        "id": "2L_DBe6vzhQh"
      },
      "source": [
        "X=data.drop('price',1)\n",
        "y=data['price']\n",
        "X_train, X_test, y_train, y_test = train_test_split(X, y, train_size=0.8, random_state=42)"
      ],
      "execution_count": 45,
      "outputs": []
    },
    {
      "cell_type": "markdown",
      "metadata": {
        "id": "MNRMnSF5vn1V"
      },
      "source": [
        "Function for model training and results"
      ]
    },
    {
      "cell_type": "code",
      "metadata": {
        "id": "nxFR9TCA2EzE"
      },
      "source": [
        "def model_name(model):\n",
        "    model.fit(X_train, y_train)\n",
        "    model_pred = model.predict(X_test)\n",
        "\n",
        "    explained_variance=metrics.explained_variance_score(y_test, model_pred)\n",
        "    mean_absolute_error=metrics.mean_absolute_error(y_test, model_pred) \n",
        "    mse=metrics.mean_squared_error(y_test, model_pred) \n",
        "    median_absolute_error=metrics.median_absolute_error(y_test, model_pred)\n",
        "    r2=metrics.r2_score(y_test, model_pred)\n",
        "    print('explained_variance     : ', round(explained_variance,4))    \n",
        "    print('r2   : ', round(r2,4))\n",
        "    print('MAE  : ', round(mean_absolute_error,4))\n",
        "    print('MSE  : ', round(mse,4))\n",
        "    print('RMSE : ', round(np.sqrt(mse),4))\n"
      ],
      "execution_count": 46,
      "outputs": []
    },
    {
      "cell_type": "markdown",
      "metadata": {
        "id": "ya37LDtOvfwf"
      },
      "source": [
        "We will compare three different models based on different measures."
      ]
    },
    {
      "cell_type": "code",
      "metadata": {
        "colab": {
          "base_uri": "https://localhost:8080/"
        },
        "id": "w2Ydk31R2aig",
        "outputId": "ad1d74b9-ed83-4727-c10e-d6188bcf0120"
      },
      "source": [
        "model_name(LinearRegression())"
      ],
      "execution_count": 47,
      "outputs": [
        {
          "output_type": "stream",
          "text": [
            "explained_variance     :  0.9311\n",
            "r2   :  0.9288\n",
            "MAE  :  1776.9681\n",
            "MSE  :  8711641.9631\n",
            "RMSE :  2951.5491\n"
          ],
          "name": "stdout"
        }
      ]
    },
    {
      "cell_type": "code",
      "metadata": {
        "colab": {
          "base_uri": "https://localhost:8080/"
        },
        "id": "5mNWOuAbCiep",
        "outputId": "ba680420-a8b4-45d2-f8b7-8890e8ece581"
      },
      "source": [
        "model_name(RandomForestRegressor())"
      ],
      "execution_count": 48,
      "outputs": [
        {
          "output_type": "stream",
          "text": [
            "explained_variance     :  0.9351\n",
            "r2   :  0.9288\n",
            "MAE  :  1849.3274\n",
            "MSE  :  8707905.1907\n",
            "RMSE :  2950.916\n"
          ],
          "name": "stdout"
        }
      ]
    },
    {
      "cell_type": "code",
      "metadata": {
        "colab": {
          "base_uri": "https://localhost:8080/"
        },
        "id": "l6AgKMfR1iX1",
        "outputId": "7ff7faa5-04c9-4ee4-fbb3-c4ff1fea46e1"
      },
      "source": [
        "model_name(Lasso())"
      ],
      "execution_count": 49,
      "outputs": [
        {
          "output_type": "stream",
          "text": [
            "explained_variance     :  0.9359\n",
            "r2   :  0.9342\n",
            "MAE  :  1677.8117\n",
            "MSE  :  8045497.5421\n",
            "RMSE :  2836.4586\n"
          ],
          "name": "stdout"
        },
        {
          "output_type": "stream",
          "text": [
            "/usr/local/lib/python3.7/dist-packages/sklearn/linear_model/_coordinate_descent.py:476: ConvergenceWarning: Objective did not converge. You might want to increase the number of iterations. Duality gap: 1284399.454250455, tolerance: 730021.330874375\n",
            "  positive)\n"
          ],
          "name": "stderr"
        }
      ]
    },
    {
      "cell_type": "markdown",
      "metadata": {
        "id": "Kuw7QaKFsIM-"
      },
      "source": [
        "### Building models with PCA"
      ]
    },
    {
      "cell_type": "markdown",
      "metadata": {
        "id": "w0et2ynxsKZS"
      },
      "source": [
        "This dataset is a mix of categorical and continuous variables. In order to perform PCA on the dataset, all the variable needs to be numerical.\n",
        "Since categorical variables have been converted to a series of binary variables, we can do a principal components analysis."
      ]
    },
    {
      "cell_type": "markdown",
      "metadata": {
        "id": "KW1wTTC8v3HY"
      },
      "source": [
        "Finding the best number of components based on R2 score."
      ]
    },
    {
      "cell_type": "code",
      "metadata": {
        "colab": {
          "base_uri": "https://localhost:8080/",
          "height": 295
        },
        "id": "Vx9vr5z6A9on",
        "outputId": "51799d8d-88bd-414c-d09c-b720e833af4c"
      },
      "source": [
        "i_value=[]\n",
        "r2_value=[]\n",
        "for i in range(2,np.size(X,1)+1):\n",
        "    \n",
        "    X_train, X_test, y_train, y_test = train_test_split(X, y, train_size=0.8, random_state=42)\n",
        "    # Applying PCA\n",
        "    pca = PCA(n_components = i)\n",
        "    X_train = pca.fit_transform(X_train)\n",
        "    X_test = pca.transform(X_test)\n",
        "    \n",
        "    # Training And Testing the model\n",
        "    regressor = LinearRegression()\n",
        "    regressor.fit(X_train,y_train)\n",
        "    y_pred = regressor.predict(X_test)\n",
        "    r2_value.append(r2_score(y_pred,y_test).round(4))\n",
        "    i_value.append(i)\n",
        "    \n",
        "# Plotting the r2 Score with different number of components for PCA\n",
        "plt.plot(i_value,r2_value,marker='o',mfc='red',mec='red',color='blue')\n",
        "plt.xlabel('Number of Components')\n",
        "plt.ylabel('R2_Score')\n",
        "plt.title('No_of_Components VS R2_Score')\n",
        "plt.grid(b=None)\n",
        "plt.show()"
      ],
      "execution_count": 50,
      "outputs": [
        {
          "output_type": "display_data",
          "data": {
            "image/png": "[encoded data removed]",
            "text/plain": [
              "<Figure size 432x288 with 1 Axes>"
            ]
          },
          "metadata": {
            "tags": [],
            "needs_background": "light"
          }
        }
      ]
    },
    {
      "cell_type": "code",
      "metadata": {
        "id": "n_VvPoW9_QMf"
      },
      "source": [
        "# Applying PCA\n",
        "X_train, X_test, y_train, y_test = train_test_split(X, y, train_size=0.8, random_state=42)\n",
        "n=r2_value.index(max(r2_value))+2\n",
        "pca = PCA(n_components = n)\n",
        "X_train = pca.fit_transform(X_train)\n",
        "X_test = pca.transform(X_test)"
      ],
      "execution_count": 51,
      "outputs": []
    },
    {
      "cell_type": "code",
      "metadata": {
        "colab": {
          "base_uri": "https://localhost:8080/"
        },
        "id": "wWaRmILnBSpV",
        "outputId": "3989e79c-bc15-4c72-c35c-b557028fbad7"
      },
      "source": [
        "print(n)"
      ],
      "execution_count": 52,
      "outputs": [
        {
          "output_type": "stream",
          "text": [
            "46\n"
          ],
          "name": "stdout"
        }
      ]
    },
    {
      "cell_type": "markdown",
      "metadata": {
        "id": "i78lNxMFwAwm"
      },
      "source": [
        "The best number of components is 46. I will compare two different linear models."
      ]
    },
    {
      "cell_type": "code",
      "metadata": {
        "colab": {
          "base_uri": "https://localhost:8080/"
        },
        "id": "PxfygS7FtsXu",
        "outputId": "f8929346-4825-44ee-bcbf-319b4638cdb7"
      },
      "source": [
        "model_name(LinearRegression())"
      ],
      "execution_count": 53,
      "outputs": [
        {
          "output_type": "stream",
          "text": [
            "explained_variance     :  0.94\n",
            "r2   :  0.9385\n",
            "MAE  :  1750.1887\n",
            "MSE  :  7519631.0378\n",
            "RMSE :  2742.1946\n"
          ],
          "name": "stdout"
        }
      ]
    },
    {
      "cell_type": "code",
      "metadata": {
        "colab": {
          "base_uri": "https://localhost:8080/"
        },
        "id": "olY1YChjts8l",
        "outputId": "eff9f4ed-046b-4d6a-9838-0fb202ab806d"
      },
      "source": [
        "model_name(Lasso())"
      ],
      "execution_count": 54,
      "outputs": [
        {
          "output_type": "stream",
          "text": [
            "explained_variance     :  0.9395\n",
            "r2   :  0.9379\n",
            "MAE  :  1762.2198\n",
            "MSE  :  7592572.7291\n",
            "RMSE :  2755.4623\n"
          ],
          "name": "stdout"
        }
      ]
    },
    {
      "cell_type": "markdown",
      "metadata": {
        "id": "2xHHPVHZwaHK"
      },
      "source": [
        "MSE is high which may be because we have a very small dataset."
      ]
    },
    {
      "cell_type": "markdown",
      "metadata": {
        "id": "gZaSWwwiwgwr"
      },
      "source": [
        "#Conclusion"
      ]
    },
    {
      "cell_type": "markdown",
      "metadata": {
        "id": "wr2ogbpcwqvk"
      },
      "source": [
        "1. In ths dataset, we have information about 205 cars in the US to build a prediction model. Based on my research, I have imputed missing values manually and regression imputation method.\n",
        "\n",
        "2. Before thrusting the dataset into a model, I removed multicollinearity in the dataset and compared different models with PCA and without PCA.\n",
        "\n",
        "3. Linear Regression model with PCA looks like the best model so far to predict the price of cars. I can further fine tune the model to get better accuracy."
      ]
    }
  ]
}