{
  "nbformat": 4,
  "nbformat_minor": 0,
  "metadata": {
    "colab": {
      "name": "Automobile.ipynb",
      "provenance": [],
      "collapsed_sections": [],
      "toc_visible": true
    },
    "kernelspec": {
      "name": "python3",
      "display_name": "Python 3"
    },
    "language_info": {
      "name": "python"
    }
  },
  "cells": [
    {
      "cell_type": "markdown",
      "metadata": {
        "id": "BBDDpA_WMn4n"
      },
      "source": [
        "# Automobile Data Set\n",
        "This machine learning task will be covering the following steps.\n",
        "\n",
        "**1. Data Preprocessing**\n",
        "\n",
        "**2. Missing Value Imputation**\n",
        "\n",
        "**3. Model Building**"
      ]
    },
    {
      "cell_type": "markdown",
      "metadata": {
        "id": "SvJ2BUONN6qp"
      },
      "source": [
        "#1. Data Preprocessing"
      ]
    },
    {
      "cell_type": "markdown",
      "metadata": {
        "id": "L2rrFm17TqDu"
      },
      "source": [
        "### Importing libraries and data"
      ]
    },
    {
      "cell_type": "markdown",
      "metadata": {
        "id": "-1szwDgYkMwB"
      },
      "source": [
        "I have used Google Colab for this machine learning task."
      ]
    },
    {
      "cell_type": "code",
      "metadata": {
        "colab": {
          "base_uri": "https://localhost:8080/"
        },
        "id": "61zmHGQbYHLW",
        "outputId": "76c7d9e1-9496-42a5-c088-10884bad1e43"
      },
      "source": [
        "from google.colab import drive\n",
        "drive.mount('/content/drive')"
      ],
      "execution_count": 1,
      "outputs": [
        {
          "output_type": "stream",
          "text": [
            "Mounted at /content/drive\n"
          ],
          "name": "stdout"
        }
      ]
    },
    {
      "cell_type": "code",
      "metadata": {
        "colab": {
          "base_uri": "https://localhost:8080/"
        },
        "id": "ubc34tLNKMII",
        "outputId": "ac14e487-6fbe-4c61-db73-22efdcdd25ff"
      },
      "source": [
        "import pandas as pd\n",
        "import numpy as np\n",
        "import matplotlib.pyplot as plt\n",
        "import seaborn as sns\n",
        "import math\n",
        "\n",
        "from sklearn.model_selection import train_test_split\n",
        "from sklearn.linear_model import LinearRegression\n",
        "from sklearn.linear_model import Lasso\n",
        "\n",
        "from sklearn.metrics import r2_score\n",
        "from sklearn.metrics import mean_squared_error\n",
        "import sklearn.metrics as metrics\n",
        "from sklearn.ensemble import RandomForestRegressor\n",
        "from sklearn.decomposition import PCA\n",
        "\n",
        "from statsmodels.stats.outliers_influence import variance_inflation_factor as vif "
      ],
      "execution_count": 2,
      "outputs": [
        {
          "output_type": "stream",
          "text": [
            "/usr/local/lib/python3.7/dist-packages/statsmodels/tools/_testing.py:19: FutureWarning: pandas.util.testing is deprecated. Use the functions in the public API at pandas.testing instead.\n",
            "  import pandas.util.testing as tm\n"
          ],
          "name": "stderr"
        }
      ]
    },
    {
      "cell_type": "markdown",
      "metadata": {
        "id": "sSS5znncOBnr"
      },
      "source": [
        "Importing data and adding headers"
      ]
    },
    {
      "cell_type": "code",
      "metadata": {
        "colab": {
          "base_uri": "https://localhost:8080/",
          "height": 524
        },
        "id": "rImvLOKPbwA6",
        "outputId": "29c1f0bc-f4d3-406b-8e65-3bb1529579a2"
      },
      "source": [
        "#adding header as indicated in the data description\n",
        "col_names=['symboling','normalized_losses','make','fuel-type','aspiration','num-of-doors','body-style','drive-wheels',\n",
        "          'engine-location','wheel-base','length','width','height','curb-weight','engine-type','num-of-cyclinders',\n",
        "          'engine-size','fuel-system','bore','stroke','compression-ratio','horsepower','peak-rpm','city-mpg',\n",
        "          'highway-mpg','price']\n",
        "\n",
        "#import data\n",
        "data =  pd.read_csv('/content/drive/MyDrive/imports-85.data', sep=\",\", header=None, names=col_names)\n",
        "data"
      ],
      "execution_count": 3,
      "outputs": [
        {
          "output_type": "execute_result",
          "data": {
            "text/html": [
              "<div>\n",
              "<style scoped>\n",
              "    .dataframe tbody tr th:only-of-type {\n",
              "        vertical-align: middle;\n",
              "    }\n",
              "\n",
              "    .dataframe tbody tr th {\n",
              "        vertical-align: top;\n",
              "    }\n",
              "\n",
              "    .dataframe thead th {\n",
              "        text-align: right;\n",
              "    }\n",
              "</style>\n",
              "<table border=\"1\" class=\"dataframe\">\n",
              "  <thead>\n",
              "    <tr style=\"text-align: right;\">\n",
              "      <th></th>\n",
              "      <th>symboling</th>\n",
              "      <th>normalized_losses</th>\n",
              "      <th>make</th>\n",
              "      <th>fuel-type</th>\n",
              "      <th>aspiration</th>\n",
              "      <th>num-of-doors</th>\n",
              "      <th>body-style</th>\n",
              "      <th>drive-wheels</th>\n",
              "      <th>engine-location</th>\n",
              "      <th>wheel-base</th>\n",
              "      <th>length</th>\n",
              "      <th>width</th>\n",
              "      <th>height</th>\n",
              "      <th>curb-weight</th>\n",
              "      <th>engine-type</th>\n",
              "      <th>num-of-cyclinders</th>\n",
              "      <th>engine-size</th>\n",
              "      <th>fuel-system</th>\n",
              "      <th>bore</th>\n",
              "      <th>stroke</th>\n",
              "      <th>compression-ratio</th>\n",
              "      <th>horsepower</th>\n",
              "      <th>peak-rpm</th>\n",
              "      <th>city-mpg</th>\n",
              "      <th>highway-mpg</th>\n",
              "      <th>price</th>\n",
              "    </tr>\n",
              "  </thead>\n",
              "  <tbody>\n",
              "    <tr>\n",
              "      <th>0</th>\n",
              "      <td>3</td>\n",
              "      <td>?</td>\n",
              "      <td>alfa-romero</td>\n",
              "      <td>gas</td>\n",
              "      <td>std</td>\n",
              "      <td>two</td>\n",
              "      <td>convertible</td>\n",
              "      <td>rwd</td>\n",
              "      <td>front</td>\n",
              "      <td>88.6</td>\n",
              "      <td>168.8</td>\n",
              "      <td>64.1</td>\n",
              "      <td>48.8</td>\n",
              "      <td>2548</td>\n",
              "      <td>dohc</td>\n",
              "      <td>four</td>\n",
              "      <td>130</td>\n",
              "      <td>mpfi</td>\n",
              "      <td>3.47</td>\n",
              "      <td>2.68</td>\n",
              "      <td>9.0</td>\n",
              "      <td>111</td>\n",
              "      <td>5000</td>\n",
              "      <td>21</td>\n",
              "      <td>27</td>\n",
              "      <td>13495</td>\n",
              "    </tr>\n",
              "    <tr>\n",
              "      <th>1</th>\n",
              "      <td>3</td>\n",
              "      <td>?</td>\n",
              "      <td>alfa-romero</td>\n",
              "      <td>gas</td>\n",
              "      <td>std</td>\n",
              "      <td>two</td>\n",
              "      <td>convertible</td>\n",
              "      <td>rwd</td>\n",
              "      <td>front</td>\n",
              "      <td>88.6</td>\n",
              "      <td>168.8</td>\n",
              "      <td>64.1</td>\n",
              "      <td>48.8</td>\n",
              "      <td>2548</td>\n",
              "      <td>dohc</td>\n",
              "      <td>four</td>\n",
              "      <td>130</td>\n",
              "      <td>mpfi</td>\n",
              "      <td>3.47</td>\n",
              "      <td>2.68</td>\n",
              "      <td>9.0</td>\n",
              "      <td>111</td>\n",
              "      <td>5000</td>\n",
              "      <td>21</td>\n",
              "      <td>27</td>\n",
              "      <td>16500</td>\n",
              "    </tr>\n",
              "    <tr>\n",
              "      <th>2</th>\n",
              "      <td>1</td>\n",
              "      <td>?</td>\n",
              "      <td>alfa-romero</td>\n",
              "      <td>gas</td>\n",
              "      <td>std</td>\n",
              "      <td>two</td>\n",
              "      <td>hatchback</td>\n",
              "      <td>rwd</td>\n",
              "      <td>front</td>\n",
              "      <td>94.5</td>\n",
              "      <td>171.2</td>\n",
              "      <td>65.5</td>\n",
              "      <td>52.4</td>\n",
              "      <td>2823</td>\n",
              "      <td>ohcv</td>\n",
              "      <td>six</td>\n",
              "      <td>152</td>\n",
              "      <td>mpfi</td>\n",
              "      <td>2.68</td>\n",
              "      <td>3.47</td>\n",
              "      <td>9.0</td>\n",
              "      <td>154</td>\n",
              "      <td>5000</td>\n",
              "      <td>19</td>\n",
              "      <td>26</td>\n",
              "      <td>16500</td>\n",
              "    </tr>\n",
              "    <tr>\n",
              "      <th>3</th>\n",
              "      <td>2</td>\n",
              "      <td>164</td>\n",
              "      <td>audi</td>\n",
              "      <td>gas</td>\n",
              "      <td>std</td>\n",
              "      <td>four</td>\n",
              "      <td>sedan</td>\n",
              "      <td>fwd</td>\n",
              "      <td>front</td>\n",
              "      <td>99.8</td>\n",
              "      <td>176.6</td>\n",
              "      <td>66.2</td>\n",
              "      <td>54.3</td>\n",
              "      <td>2337</td>\n",
              "      <td>ohc</td>\n",
              "      <td>four</td>\n",
              "      <td>109</td>\n",
              "      <td>mpfi</td>\n",
              "      <td>3.19</td>\n",
              "      <td>3.40</td>\n",
              "      <td>10.0</td>\n",
              "      <td>102</td>\n",
              "      <td>5500</td>\n",
              "      <td>24</td>\n",
              "      <td>30</td>\n",
              "      <td>13950</td>\n",
              "    </tr>\n",
              "    <tr>\n",
              "      <th>4</th>\n",
              "      <td>2</td>\n",
              "      <td>164</td>\n",
              "      <td>audi</td>\n",
              "      <td>gas</td>\n",
              "      <td>std</td>\n",
              "      <td>four</td>\n",
              "      <td>sedan</td>\n",
              "      <td>4wd</td>\n",
              "      <td>front</td>\n",
              "      <td>99.4</td>\n",
              "      <td>176.6</td>\n",
              "      <td>66.4</td>\n",
              "      <td>54.3</td>\n",
              "      <td>2824</td>\n",
              "      <td>ohc</td>\n",
              "      <td>five</td>\n",
              "      <td>136</td>\n",
              "      <td>mpfi</td>\n",
              "      <td>3.19</td>\n",
              "      <td>3.40</td>\n",
              "      <td>8.0</td>\n",
              "      <td>115</td>\n",
              "      <td>5500</td>\n",
              "      <td>18</td>\n",
              "      <td>22</td>\n",
              "      <td>17450</td>\n",
              "    </tr>\n",
              "    <tr>\n",
              "      <th>...</th>\n",
              "      <td>...</td>\n",
              "      <td>...</td>\n",
              "      <td>...</td>\n",
              "      <td>...</td>\n",
              "      <td>...</td>\n",
              "      <td>...</td>\n",
              "      <td>...</td>\n",
              "      <td>...</td>\n",
              "      <td>...</td>\n",
              "      <td>...</td>\n",
              "      <td>...</td>\n",
              "      <td>...</td>\n",
              "      <td>...</td>\n",
              "      <td>...</td>\n",
              "      <td>...</td>\n",
              "      <td>...</td>\n",
              "      <td>...</td>\n",
              "      <td>...</td>\n",
              "      <td>...</td>\n",
              "      <td>...</td>\n",
              "      <td>...</td>\n",
              "      <td>...</td>\n",
              "      <td>...</td>\n",
              "      <td>...</td>\n",
              "      <td>...</td>\n",
              "      <td>...</td>\n",
              "    </tr>\n",
              "    <tr>\n",
              "      <th>200</th>\n",
              "      <td>-1</td>\n",
              "      <td>95</td>\n",
              "      <td>volvo</td>\n",
              "      <td>gas</td>\n",
              "      <td>std</td>\n",
              "      <td>four</td>\n",
              "      <td>sedan</td>\n",
              "      <td>rwd</td>\n",
              "      <td>front</td>\n",
              "      <td>109.1</td>\n",
              "      <td>188.8</td>\n",
              "      <td>68.9</td>\n",
              "      <td>55.5</td>\n",
              "      <td>2952</td>\n",
              "      <td>ohc</td>\n",
              "      <td>four</td>\n",
              "      <td>141</td>\n",
              "      <td>mpfi</td>\n",
              "      <td>3.78</td>\n",
              "      <td>3.15</td>\n",
              "      <td>9.5</td>\n",
              "      <td>114</td>\n",
              "      <td>5400</td>\n",
              "      <td>23</td>\n",
              "      <td>28</td>\n",
              "      <td>16845</td>\n",
              "    </tr>\n",
              "    <tr>\n",
              "      <th>201</th>\n",
              "      <td>-1</td>\n",
              "      <td>95</td>\n",
              "      <td>volvo</td>\n",
              "      <td>gas</td>\n",
              "      <td>turbo</td>\n",
              "      <td>four</td>\n",
              "      <td>sedan</td>\n",
              "      <td>rwd</td>\n",
              "      <td>front</td>\n",
              "      <td>109.1</td>\n",
              "      <td>188.8</td>\n",
              "      <td>68.8</td>\n",
              "      <td>55.5</td>\n",
              "      <td>3049</td>\n",
              "      <td>ohc</td>\n",
              "      <td>four</td>\n",
              "      <td>141</td>\n",
              "      <td>mpfi</td>\n",
              "      <td>3.78</td>\n",
              "      <td>3.15</td>\n",
              "      <td>8.7</td>\n",
              "      <td>160</td>\n",
              "      <td>5300</td>\n",
              "      <td>19</td>\n",
              "      <td>25</td>\n",
              "      <td>19045</td>\n",
              "    </tr>\n",
              "    <tr>\n",
              "      <th>202</th>\n",
              "      <td>-1</td>\n",
              "      <td>95</td>\n",
              "      <td>volvo</td>\n",
              "      <td>gas</td>\n",
              "      <td>std</td>\n",
              "      <td>four</td>\n",
              "      <td>sedan</td>\n",
              "      <td>rwd</td>\n",
              "      <td>front</td>\n",
              "      <td>109.1</td>\n",
              "      <td>188.8</td>\n",
              "      <td>68.9</td>\n",
              "      <td>55.5</td>\n",
              "      <td>3012</td>\n",
              "      <td>ohcv</td>\n",
              "      <td>six</td>\n",
              "      <td>173</td>\n",
              "      <td>mpfi</td>\n",
              "      <td>3.58</td>\n",
              "      <td>2.87</td>\n",
              "      <td>8.8</td>\n",
              "      <td>134</td>\n",
              "      <td>5500</td>\n",
              "      <td>18</td>\n",
              "      <td>23</td>\n",
              "      <td>21485</td>\n",
              "    </tr>\n",
              "    <tr>\n",
              "      <th>203</th>\n",
              "      <td>-1</td>\n",
              "      <td>95</td>\n",
              "      <td>volvo</td>\n",
              "      <td>diesel</td>\n",
              "      <td>turbo</td>\n",
              "      <td>four</td>\n",
              "      <td>sedan</td>\n",
              "      <td>rwd</td>\n",
              "      <td>front</td>\n",
              "      <td>109.1</td>\n",
              "      <td>188.8</td>\n",
              "      <td>68.9</td>\n",
              "      <td>55.5</td>\n",
              "      <td>3217</td>\n",
              "      <td>ohc</td>\n",
              "      <td>six</td>\n",
              "      <td>145</td>\n",
              "      <td>idi</td>\n",
              "      <td>3.01</td>\n",
              "      <td>3.40</td>\n",
              "      <td>23.0</td>\n",
              "      <td>106</td>\n",
              "      <td>4800</td>\n",
              "      <td>26</td>\n",
              "      <td>27</td>\n",
              "      <td>22470</td>\n",
              "    </tr>\n",
              "    <tr>\n",
              "      <th>204</th>\n",
              "      <td>-1</td>\n",
              "      <td>95</td>\n",
              "      <td>volvo</td>\n",
              "      <td>gas</td>\n",
              "      <td>turbo</td>\n",
              "      <td>four</td>\n",
              "      <td>sedan</td>\n",
              "      <td>rwd</td>\n",
              "      <td>front</td>\n",
              "      <td>109.1</td>\n",
              "      <td>188.8</td>\n",
              "      <td>68.9</td>\n",
              "      <td>55.5</td>\n",
              "      <td>3062</td>\n",
              "      <td>ohc</td>\n",
              "      <td>four</td>\n",
              "      <td>141</td>\n",
              "      <td>mpfi</td>\n",
              "      <td>3.78</td>\n",
              "      <td>3.15</td>\n",
              "      <td>9.5</td>\n",
              "      <td>114</td>\n",
              "      <td>5400</td>\n",
              "      <td>19</td>\n",
              "      <td>25</td>\n",
              "      <td>22625</td>\n",
              "    </tr>\n",
              "  </tbody>\n",
              "</table>\n",
              "<p>205 rows × 26 columns</p>\n",
              "</div>"
            ],
            "text/plain": [
              "     symboling normalized_losses         make  ... city-mpg highway-mpg  price\n",
              "0            3                 ?  alfa-romero  ...       21          27  13495\n",
              "1            3                 ?  alfa-romero  ...       21          27  16500\n",
              "2            1                 ?  alfa-romero  ...       19          26  16500\n",
              "3            2               164         audi  ...       24          30  13950\n",
              "4            2               164         audi  ...       18          22  17450\n",
              "..         ...               ...          ...  ...      ...         ...    ...\n",
              "200         -1                95        volvo  ...       23          28  16845\n",
              "201         -1                95        volvo  ...       19          25  19045\n",
              "202         -1                95        volvo  ...       18          23  21485\n",
              "203         -1                95        volvo  ...       26          27  22470\n",
              "204         -1                95        volvo  ...       19          25  22625\n",
              "\n",
              "[205 rows x 26 columns]"
            ]
          },
          "metadata": {
            "tags": []
          },
          "execution_count": 3
        }
      ]
    },
    {
      "cell_type": "markdown",
      "metadata": {
        "id": "dA7H6nZMT8hF"
      },
      "source": [
        "###Data Handling"
      ]
    },
    {
      "cell_type": "markdown",
      "metadata": {
        "id": "hDanPVKOOlSm"
      },
      "source": [
        "\n",
        "\n",
        "The data description says there are some '?' symbols in the data set, which indicates there are some missing values in it.\n",
        "\n",
        "Before we jump into this dataset deeply, let's look at general information regarding the dataset.\n"
      ]
    },
    {
      "cell_type": "code",
      "metadata": {
        "colab": {
          "base_uri": "https://localhost:8080/"
        },
        "id": "JGOJyEaGmFY9",
        "outputId": "f6602ed8-233e-4cd0-f733-09d0df8cbf65"
      },
      "source": [
        "data.info()"
      ],
      "execution_count": 4,
      "outputs": [
        {
          "output_type": "stream",
          "text": [
            "<class 'pandas.core.frame.DataFrame'>\n",
            "RangeIndex: 205 entries, 0 to 204\n",
            "Data columns (total 26 columns):\n",
            " #   Column             Non-Null Count  Dtype  \n",
            "---  ------             --------------  -----  \n",
            " 0   symboling          205 non-null    int64  \n",
            " 1   normalized_losses  205 non-null    object \n",
            " 2   make               205 non-null    object \n",
            " 3   fuel-type          205 non-null    object \n",
            " 4   aspiration         205 non-null    object \n",
            " 5   num-of-doors       205 non-null    object \n",
            " 6   body-style         205 non-null    object \n",
            " 7   drive-wheels       205 non-null    object \n",
            " 8   engine-location    205 non-null    object \n",
            " 9   wheel-base         205 non-null    float64\n",
            " 10  length             205 non-null    float64\n",
            " 11  width              205 non-null    float64\n",
            " 12  height             205 non-null    float64\n",
            " 13  curb-weight        205 non-null    int64  \n",
            " 14  engine-type        205 non-null    object \n",
            " 15  num-of-cyclinders  205 non-null    object \n",
            " 16  engine-size        205 non-null    int64  \n",
            " 17  fuel-system        205 non-null    object \n",
            " 18  bore               205 non-null    object \n",
            " 19  stroke             205 non-null    object \n",
            " 20  compression-ratio  205 non-null    float64\n",
            " 21  horsepower         205 non-null    object \n",
            " 22  peak-rpm           205 non-null    object \n",
            " 23  city-mpg           205 non-null    int64  \n",
            " 24  highway-mpg        205 non-null    int64  \n",
            " 25  price              205 non-null    object \n",
            "dtypes: float64(5), int64(5), object(16)\n",
            "memory usage: 41.8+ KB\n"
          ],
          "name": "stdout"
        }
      ]
    },
    {
      "cell_type": "markdown",
      "metadata": {
        "id": "cder8Mh3O6R2"
      },
      "source": [
        "First of all, It looks like there is no null values in the dataset;however, it is understandable as '?' symbol will not be counted as null.\n",
        "\n",
        "Therefore, I will need to replace '?' symbols to nan and count the number of nan afterwards."
      ]
    },
    {
      "cell_type": "code",
      "metadata": {
        "colab": {
          "base_uri": "https://localhost:8080/"
        },
        "id": "mY77XLeqJfS0",
        "outputId": "f3168510-bfe1-4249-97ad-60f9caebfd36"
      },
      "source": [
        "#Replacing '?' symbols to nan and counting the number of nan afterwards\n",
        "data = data.replace('?', np.nan)\n",
        "data.isna().sum()"
      ],
      "execution_count": 5,
      "outputs": [
        {
          "output_type": "execute_result",
          "data": {
            "text/plain": [
              "symboling             0\n",
              "normalized_losses    41\n",
              "make                  0\n",
              "fuel-type             0\n",
              "aspiration            0\n",
              "num-of-doors          2\n",
              "body-style            0\n",
              "drive-wheels          0\n",
              "engine-location       0\n",
              "wheel-base            0\n",
              "length                0\n",
              "width                 0\n",
              "height                0\n",
              "curb-weight           0\n",
              "engine-type           0\n",
              "num-of-cyclinders     0\n",
              "engine-size           0\n",
              "fuel-system           0\n",
              "bore                  4\n",
              "stroke                4\n",
              "compression-ratio     0\n",
              "horsepower            2\n",
              "peak-rpm              2\n",
              "city-mpg              0\n",
              "highway-mpg           0\n",
              "price                 4\n",
              "dtype: int64"
            ]
          },
          "metadata": {
            "tags": []
          },
          "execution_count": 5
        }
      ]
    },
    {
      "cell_type": "markdown",
      "metadata": {
        "id": "L_YX8gjhb3jQ"
      },
      "source": [
        "Since it is required in the task, I will drop data samples with missing values in the target as below (the number of missing values in the target is 41). So we have 164 rows. (205 - 41)"
      ]
    },
    {
      "cell_type": "code",
      "metadata": {
        "id": "i8_mMeWK50Jc"
      },
      "source": [
        "#skipping data sample with missing values in the target\n",
        "data = data[data.normalized_losses.notna()]\n",
        "#drop column \"symboling\"\n",
        "del data[\"symboling\"]"
      ],
      "execution_count": 6,
      "outputs": []
    },
    {
      "cell_type": "code",
      "metadata": {
        "colab": {
          "base_uri": "https://localhost:8080/"
        },
        "id": "AKLqEyp1PPzb",
        "outputId": "e24df33b-9db0-472a-8f4a-fc673547a0a3"
      },
      "source": [
        "#After convering '?' symbols to nan, we see some differences in null count as below.  \n",
        "#column number 1,5,18,19,21,22,25\n",
        "data.info()"
      ],
      "execution_count": 7,
      "outputs": [
        {
          "output_type": "stream",
          "text": [
            "<class 'pandas.core.frame.DataFrame'>\n",
            "Int64Index: 164 entries, 3 to 204\n",
            "Data columns (total 25 columns):\n",
            " #   Column             Non-Null Count  Dtype  \n",
            "---  ------             --------------  -----  \n",
            " 0   normalized_losses  164 non-null    object \n",
            " 1   make               164 non-null    object \n",
            " 2   fuel-type          164 non-null    object \n",
            " 3   aspiration         164 non-null    object \n",
            " 4   num-of-doors       163 non-null    object \n",
            " 5   body-style         164 non-null    object \n",
            " 6   drive-wheels       164 non-null    object \n",
            " 7   engine-location    164 non-null    object \n",
            " 8   wheel-base         164 non-null    float64\n",
            " 9   length             164 non-null    float64\n",
            " 10  width              164 non-null    float64\n",
            " 11  height             164 non-null    float64\n",
            " 12  curb-weight        164 non-null    int64  \n",
            " 13  engine-type        164 non-null    object \n",
            " 14  num-of-cyclinders  164 non-null    object \n",
            " 15  engine-size        164 non-null    int64  \n",
            " 16  fuel-system        164 non-null    object \n",
            " 17  bore               160 non-null    object \n",
            " 18  stroke             160 non-null    object \n",
            " 19  compression-ratio  164 non-null    float64\n",
            " 20  horsepower         164 non-null    object \n",
            " 21  peak-rpm           164 non-null    object \n",
            " 22  city-mpg           164 non-null    int64  \n",
            " 23  highway-mpg        164 non-null    int64  \n",
            " 24  price              164 non-null    object \n",
            "dtypes: float64(5), int64(4), object(16)\n",
            "memory usage: 33.3+ KB\n"
          ],
          "name": "stdout"
        }
      ]
    },
    {
      "cell_type": "markdown",
      "metadata": {
        "id": "HT60znBgQM8x"
      },
      "source": [
        "Now, we can see that there are missing values in the dataset. \n",
        "And also, it shows some data types of the variables are different from what I saw in the data description. \n",
        "(such as normalized-losses, price, horsepower and so on)\n",
        "It seems to me that it is also because of '?' symbols in the columns mentioned above. Such variables should be the float type but their types are object. Therefore, we need to convert them manually."
      ]
    },
    {
      "cell_type": "code",
      "metadata": {
        "id": "-QmcPrr2bUwD"
      },
      "source": [
        "# converting each mistyped columns to float\n",
        "    \n",
        "data[\"bore\"] = data[\"bore\"].astype(np.float64)\n",
        "data[\"stroke\"] = data[\"stroke\"].astype(np.float64)\n",
        "data[\"horsepower\"] = data[\"horsepower\"].astype(np.float64)\n",
        "data[\"peak-rpm\"] = data[\"peak-rpm\"].astype(np.float64)\n",
        "data[\"price\"] = data[\"price\"].astype(np.float64)\n",
        "data[\"normalized_losses\"] = data[\"normalized_losses\"].astype(np.float64)"
      ],
      "execution_count": 8,
      "outputs": []
    },
    {
      "cell_type": "markdown",
      "metadata": {
        "id": "mTPMAqVLRSRc"
      },
      "source": [
        "Now we can see that the columns have been successfully converted to float as below. (normalized-losses, bore, stroke, horsepower, peak-rpm  and price)"
      ]
    },
    {
      "cell_type": "code",
      "metadata": {
        "colab": {
          "base_uri": "https://localhost:8080/"
        },
        "id": "Mmnf3kUHc7Cx",
        "outputId": "bee9d300-6368-4487-e71b-c427c4aca4f6"
      },
      "source": [
        "data.info()"
      ],
      "execution_count": 9,
      "outputs": [
        {
          "output_type": "stream",
          "text": [
            "<class 'pandas.core.frame.DataFrame'>\n",
            "Int64Index: 164 entries, 3 to 204\n",
            "Data columns (total 25 columns):\n",
            " #   Column             Non-Null Count  Dtype  \n",
            "---  ------             --------------  -----  \n",
            " 0   normalized_losses  164 non-null    float64\n",
            " 1   make               164 non-null    object \n",
            " 2   fuel-type          164 non-null    object \n",
            " 3   aspiration         164 non-null    object \n",
            " 4   num-of-doors       163 non-null    object \n",
            " 5   body-style         164 non-null    object \n",
            " 6   drive-wheels       164 non-null    object \n",
            " 7   engine-location    164 non-null    object \n",
            " 8   wheel-base         164 non-null    float64\n",
            " 9   length             164 non-null    float64\n",
            " 10  width              164 non-null    float64\n",
            " 11  height             164 non-null    float64\n",
            " 12  curb-weight        164 non-null    int64  \n",
            " 13  engine-type        164 non-null    object \n",
            " 14  num-of-cyclinders  164 non-null    object \n",
            " 15  engine-size        164 non-null    int64  \n",
            " 16  fuel-system        164 non-null    object \n",
            " 17  bore               160 non-null    float64\n",
            " 18  stroke             160 non-null    float64\n",
            " 19  compression-ratio  164 non-null    float64\n",
            " 20  horsepower         164 non-null    float64\n",
            " 21  peak-rpm           164 non-null    float64\n",
            " 22  city-mpg           164 non-null    int64  \n",
            " 23  highway-mpg        164 non-null    int64  \n",
            " 24  price              164 non-null    float64\n",
            "dtypes: float64(11), int64(4), object(10)\n",
            "memory usage: 33.3+ KB\n"
          ],
          "name": "stdout"
        }
      ]
    },
    {
      "cell_type": "markdown",
      "metadata": {
        "id": "QDGzY61kRivq"
      },
      "source": [
        "And let's see if only categorical variables remained object"
      ]
    },
    {
      "cell_type": "code",
      "metadata": {
        "colab": {
          "base_uri": "https://localhost:8080/",
          "height": 204
        },
        "id": "PCjKz0ocRlc2",
        "outputId": "8cf2c1d0-6775-4c86-811e-ad4b55352d04"
      },
      "source": [
        "data.select_dtypes(include = 'object').head()"
      ],
      "execution_count": 10,
      "outputs": [
        {
          "output_type": "execute_result",
          "data": {
            "text/html": [
              "<div>\n",
              "<style scoped>\n",
              "    .dataframe tbody tr th:only-of-type {\n",
              "        vertical-align: middle;\n",
              "    }\n",
              "\n",
              "    .dataframe tbody tr th {\n",
              "        vertical-align: top;\n",
              "    }\n",
              "\n",
              "    .dataframe thead th {\n",
              "        text-align: right;\n",
              "    }\n",
              "</style>\n",
              "<table border=\"1\" class=\"dataframe\">\n",
              "  <thead>\n",
              "    <tr style=\"text-align: right;\">\n",
              "      <th></th>\n",
              "      <th>make</th>\n",
              "      <th>fuel-type</th>\n",
              "      <th>aspiration</th>\n",
              "      <th>num-of-doors</th>\n",
              "      <th>body-style</th>\n",
              "      <th>drive-wheels</th>\n",
              "      <th>engine-location</th>\n",
              "      <th>engine-type</th>\n",
              "      <th>num-of-cyclinders</th>\n",
              "      <th>fuel-system</th>\n",
              "    </tr>\n",
              "  </thead>\n",
              "  <tbody>\n",
              "    <tr>\n",
              "      <th>3</th>\n",
              "      <td>audi</td>\n",
              "      <td>gas</td>\n",
              "      <td>std</td>\n",
              "      <td>four</td>\n",
              "      <td>sedan</td>\n",
              "      <td>fwd</td>\n",
              "      <td>front</td>\n",
              "      <td>ohc</td>\n",
              "      <td>four</td>\n",
              "      <td>mpfi</td>\n",
              "    </tr>\n",
              "    <tr>\n",
              "      <th>4</th>\n",
              "      <td>audi</td>\n",
              "      <td>gas</td>\n",
              "      <td>std</td>\n",
              "      <td>four</td>\n",
              "      <td>sedan</td>\n",
              "      <td>4wd</td>\n",
              "      <td>front</td>\n",
              "      <td>ohc</td>\n",
              "      <td>five</td>\n",
              "      <td>mpfi</td>\n",
              "    </tr>\n",
              "    <tr>\n",
              "      <th>6</th>\n",
              "      <td>audi</td>\n",
              "      <td>gas</td>\n",
              "      <td>std</td>\n",
              "      <td>four</td>\n",
              "      <td>sedan</td>\n",
              "      <td>fwd</td>\n",
              "      <td>front</td>\n",
              "      <td>ohc</td>\n",
              "      <td>five</td>\n",
              "      <td>mpfi</td>\n",
              "    </tr>\n",
              "    <tr>\n",
              "      <th>8</th>\n",
              "      <td>audi</td>\n",
              "      <td>gas</td>\n",
              "      <td>turbo</td>\n",
              "      <td>four</td>\n",
              "      <td>sedan</td>\n",
              "      <td>fwd</td>\n",
              "      <td>front</td>\n",
              "      <td>ohc</td>\n",
              "      <td>five</td>\n",
              "      <td>mpfi</td>\n",
              "    </tr>\n",
              "    <tr>\n",
              "      <th>10</th>\n",
              "      <td>bmw</td>\n",
              "      <td>gas</td>\n",
              "      <td>std</td>\n",
              "      <td>two</td>\n",
              "      <td>sedan</td>\n",
              "      <td>rwd</td>\n",
              "      <td>front</td>\n",
              "      <td>ohc</td>\n",
              "      <td>four</td>\n",
              "      <td>mpfi</td>\n",
              "    </tr>\n",
              "  </tbody>\n",
              "</table>\n",
              "</div>"
            ],
            "text/plain": [
              "    make fuel-type aspiration  ... engine-type num-of-cyclinders fuel-system\n",
              "3   audi       gas        std  ...         ohc              four        mpfi\n",
              "4   audi       gas        std  ...         ohc              five        mpfi\n",
              "6   audi       gas        std  ...         ohc              five        mpfi\n",
              "8   audi       gas      turbo  ...         ohc              five        mpfi\n",
              "10   bmw       gas        std  ...         ohc              four        mpfi\n",
              "\n",
              "[5 rows x 10 columns]"
            ]
          },
          "metadata": {
            "tags": []
          },
          "execution_count": 10
        }
      ]
    },
    {
      "cell_type": "markdown",
      "metadata": {
        "id": "JwJOc0OXRnPh"
      },
      "source": [
        "It seems like 'num-of-doors' and 'num of cyclinders' can be converted to int as they are numeric values (two, four ...)."
      ]
    },
    {
      "cell_type": "code",
      "metadata": {
        "colab": {
          "base_uri": "https://localhost:8080/"
        },
        "id": "0FQrshDdSAvc",
        "outputId": "e20ed3d4-8c3e-4aa9-a55e-87125b855bb7"
      },
      "source": [
        "data['num-of-doors'].unique()"
      ],
      "execution_count": 11,
      "outputs": [
        {
          "output_type": "execute_result",
          "data": {
            "text/plain": [
              "array(['four', 'two', nan], dtype=object)"
            ]
          },
          "metadata": {
            "tags": []
          },
          "execution_count": 11
        }
      ]
    },
    {
      "cell_type": "code",
      "metadata": {
        "colab": {
          "base_uri": "https://localhost:8080/"
        },
        "id": "5cIV7ViTL2Mq",
        "outputId": "9485a1e0-1102-48f9-f461-79eb5de95a87"
      },
      "source": [
        "data['num-of-cyclinders'].unique()"
      ],
      "execution_count": 12,
      "outputs": [
        {
          "output_type": "execute_result",
          "data": {
            "text/plain": [
              "array(['four', 'five', 'six', 'three', 'two', 'eight'], dtype=object)"
            ]
          },
          "metadata": {
            "tags": []
          },
          "execution_count": 12
        }
      ]
    },
    {
      "cell_type": "code",
      "metadata": {
        "id": "z4wbIuGbLT3Q"
      },
      "source": [
        "data['num-of-cyclinders']=data['num-of-cyclinders'].str.replace('two','2')\n",
        "data['num-of-cyclinders']=data['num-of-cyclinders'].str.replace('three','3')\n",
        "data['num-of-cyclinders']=data['num-of-cyclinders'].str.replace('four','4')\n",
        "data['num-of-cyclinders']=data['num-of-cyclinders'].str.replace('five','5')\n",
        "data['num-of-cyclinders']=data['num-of-cyclinders'].str.replace('six','6')\n",
        "data['num-of-cyclinders']=data['num-of-cyclinders'].str.replace('eight','8')\n",
        "data['num-of-cyclinders']=data['num-of-cyclinders'].str.replace('twelve','12')\n",
        "data['num-of-cyclinders']=data['num-of-cyclinders'].astype('int64')"
      ],
      "execution_count": 13,
      "outputs": []
    },
    {
      "cell_type": "markdown",
      "metadata": {
        "id": "V9OFNaM2SDHw"
      },
      "source": [
        "'num-of-cyclinders' has been converted to int but I will convert 'num-of-doors' after I impute missing values in it."
      ]
    },
    {
      "cell_type": "markdown",
      "metadata": {
        "id": "rVJfadSETkru"
      },
      "source": [
        "#2. Missing Value Imputation"
      ]
    },
    {
      "cell_type": "markdown",
      "metadata": {
        "id": "x2FF3S7ayWYo"
      },
      "source": [
        "###'num-of-doors'"
      ]
    },
    {
      "cell_type": "markdown",
      "metadata": {
        "id": "aN4AmGAvVIrH"
      },
      "source": [
        "Instead of imputing simply by mean, I would like to investigate in each variable first, so that I have a better idea as to how to impute them manually."
      ]
    },
    {
      "cell_type": "code",
      "metadata": {
        "colab": {
          "base_uri": "https://localhost:8080/",
          "height": 134
        },
        "id": "7dfW_Rw8sky8",
        "outputId": "d79f32b1-374d-49c6-c6f1-04ced30cf465"
      },
      "source": [
        "#nan for the column, 'num-of-doors'\n",
        "data[data['num-of-doors'].isna()]"
      ],
      "execution_count": 14,
      "outputs": [
        {
          "output_type": "execute_result",
          "data": {
            "text/html": [
              "<div>\n",
              "<style scoped>\n",
              "    .dataframe tbody tr th:only-of-type {\n",
              "        vertical-align: middle;\n",
              "    }\n",
              "\n",
              "    .dataframe tbody tr th {\n",
              "        vertical-align: top;\n",
              "    }\n",
              "\n",
              "    .dataframe thead th {\n",
              "        text-align: right;\n",
              "    }\n",
              "</style>\n",
              "<table border=\"1\" class=\"dataframe\">\n",
              "  <thead>\n",
              "    <tr style=\"text-align: right;\">\n",
              "      <th></th>\n",
              "      <th>normalized_losses</th>\n",
              "      <th>make</th>\n",
              "      <th>fuel-type</th>\n",
              "      <th>aspiration</th>\n",
              "      <th>num-of-doors</th>\n",
              "      <th>body-style</th>\n",
              "      <th>drive-wheels</th>\n",
              "      <th>engine-location</th>\n",
              "      <th>wheel-base</th>\n",
              "      <th>length</th>\n",
              "      <th>width</th>\n",
              "      <th>height</th>\n",
              "      <th>curb-weight</th>\n",
              "      <th>engine-type</th>\n",
              "      <th>num-of-cyclinders</th>\n",
              "      <th>engine-size</th>\n",
              "      <th>fuel-system</th>\n",
              "      <th>bore</th>\n",
              "      <th>stroke</th>\n",
              "      <th>compression-ratio</th>\n",
              "      <th>horsepower</th>\n",
              "      <th>peak-rpm</th>\n",
              "      <th>city-mpg</th>\n",
              "      <th>highway-mpg</th>\n",
              "      <th>price</th>\n",
              "    </tr>\n",
              "  </thead>\n",
              "  <tbody>\n",
              "    <tr>\n",
              "      <th>27</th>\n",
              "      <td>148.0</td>\n",
              "      <td>dodge</td>\n",
              "      <td>gas</td>\n",
              "      <td>turbo</td>\n",
              "      <td>NaN</td>\n",
              "      <td>sedan</td>\n",
              "      <td>fwd</td>\n",
              "      <td>front</td>\n",
              "      <td>93.7</td>\n",
              "      <td>157.3</td>\n",
              "      <td>63.8</td>\n",
              "      <td>50.6</td>\n",
              "      <td>2191</td>\n",
              "      <td>ohc</td>\n",
              "      <td>4</td>\n",
              "      <td>98</td>\n",
              "      <td>mpfi</td>\n",
              "      <td>3.03</td>\n",
              "      <td>3.39</td>\n",
              "      <td>7.6</td>\n",
              "      <td>102.0</td>\n",
              "      <td>5500.0</td>\n",
              "      <td>24</td>\n",
              "      <td>30</td>\n",
              "      <td>8558.0</td>\n",
              "    </tr>\n",
              "  </tbody>\n",
              "</table>\n",
              "</div>"
            ],
            "text/plain": [
              "    normalized_losses   make fuel-type  ... city-mpg highway-mpg   price\n",
              "27              148.0  dodge       gas  ...       24          30  8558.0\n",
              "\n",
              "[1 rows x 25 columns]"
            ]
          },
          "metadata": {
            "tags": []
          },
          "execution_count": 14
        }
      ]
    },
    {
      "cell_type": "markdown",
      "metadata": {
        "id": "jF3Xt1gLVaSh"
      },
      "source": [
        "Since the body-style of the car is sedan, I think I can impute num-of-doors as four, as seen from the graph below"
      ]
    },
    {
      "cell_type": "code",
      "metadata": {
        "colab": {
          "base_uri": "https://localhost:8080/",
          "height": 279
        },
        "id": "2dajPriBt7qT",
        "outputId": "6f1c0566-77cb-4220-a496-a39d7de84a24"
      },
      "source": [
        "#plotting body-style vs num of doors\n",
        "sns.countplot(data=data, x='body-style', hue='num-of-doors')\n",
        "data['num-of-doors'].fillna('four', inplace = True)\n",
        "\n",
        "data['num-of-doors']=data['num-of-doors'].str.replace('two','2')\n",
        "data['num-of-doors']=data['num-of-doors'].str.replace('four','4')\n",
        "data['num-of-doors']=data['num-of-doors'].astype('int64')"
      ],
      "execution_count": 15,
      "outputs": [
        {
          "output_type": "display_data",
          "data": {
            "image/png": "[encoded data removed]",
            "text/plain": [
              "<Figure size 432x288 with 1 Axes>"
            ]
          },
          "metadata": {
            "tags": [],
            "needs_background": "light"
          }
        }
      ]
    },
    {
      "cell_type": "markdown",
      "metadata": {
        "id": "2kgr_0y7V6PX"
      },
      "source": [
        "###Correlation plot"
      ]
    },
    {
      "cell_type": "markdown",
      "metadata": {
        "id": "STF847lEVlAk"
      },
      "source": [
        "For other missing values that are supposed to be numeric,\n",
        "I can use correlation plot which I can refer to when imputing."
      ]
    },
    {
      "cell_type": "code",
      "metadata": {
        "colab": {
          "base_uri": "https://localhost:8080/",
          "height": 677
        },
        "id": "odzy8cSSq0Om",
        "outputId": "45f0ae97-a742-48fc-c89f-e736bf32666d"
      },
      "source": [
        "plt.figure(figsize=(12,10))\n",
        "correlation = data.corr()\n",
        "sns.heatmap(correlation, annot=True, cmap=\"Blues\")\n",
        "plt.show() "
      ],
      "execution_count": 16,
      "outputs": [
        {
          "output_type": "display_data",
          "data": {
            "image/png": "[encoded data removed]",
            "text/plain": [
              "<Figure size 864x720 with 2 Axes>"
            ]
          },
          "metadata": {
            "tags": [],
            "needs_background": "light"
          }
        }
      ]
    },
    {
      "cell_type": "markdown",
      "metadata": {
        "id": "2tZ7D1WVV2KB"
      },
      "source": [
        "###'bore'"
      ]
    },
    {
      "cell_type": "code",
      "metadata": {
        "colab": {
          "base_uri": "https://localhost:8080/",
          "height": 227
        },
        "id": "PwY_ptVOvCCv",
        "outputId": "a2679420-45bd-4848-9ac8-5d83fe03596d"
      },
      "source": [
        "#bore\n",
        "data[data['bore'].isna()]"
      ],
      "execution_count": 17,
      "outputs": [
        {
          "output_type": "execute_result",
          "data": {
            "text/html": [
              "<div>\n",
              "<style scoped>\n",
              "    .dataframe tbody tr th:only-of-type {\n",
              "        vertical-align: middle;\n",
              "    }\n",
              "\n",
              "    .dataframe tbody tr th {\n",
              "        vertical-align: top;\n",
              "    }\n",
              "\n",
              "    .dataframe thead th {\n",
              "        text-align: right;\n",
              "    }\n",
              "</style>\n",
              "<table border=\"1\" class=\"dataframe\">\n",
              "  <thead>\n",
              "    <tr style=\"text-align: right;\">\n",
              "      <th></th>\n",
              "      <th>normalized_losses</th>\n",
              "      <th>make</th>\n",
              "      <th>fuel-type</th>\n",
              "      <th>aspiration</th>\n",
              "      <th>num-of-doors</th>\n",
              "      <th>body-style</th>\n",
              "      <th>drive-wheels</th>\n",
              "      <th>engine-location</th>\n",
              "      <th>wheel-base</th>\n",
              "      <th>length</th>\n",
              "      <th>width</th>\n",
              "      <th>height</th>\n",
              "      <th>curb-weight</th>\n",
              "      <th>engine-type</th>\n",
              "      <th>num-of-cyclinders</th>\n",
              "      <th>engine-size</th>\n",
              "      <th>fuel-system</th>\n",
              "      <th>bore</th>\n",
              "      <th>stroke</th>\n",
              "      <th>compression-ratio</th>\n",
              "      <th>horsepower</th>\n",
              "      <th>peak-rpm</th>\n",
              "      <th>city-mpg</th>\n",
              "      <th>highway-mpg</th>\n",
              "      <th>price</th>\n",
              "    </tr>\n",
              "  </thead>\n",
              "  <tbody>\n",
              "    <tr>\n",
              "      <th>55</th>\n",
              "      <td>150.0</td>\n",
              "      <td>mazda</td>\n",
              "      <td>gas</td>\n",
              "      <td>std</td>\n",
              "      <td>2</td>\n",
              "      <td>hatchback</td>\n",
              "      <td>rwd</td>\n",
              "      <td>front</td>\n",
              "      <td>95.3</td>\n",
              "      <td>169.0</td>\n",
              "      <td>65.7</td>\n",
              "      <td>49.6</td>\n",
              "      <td>2380</td>\n",
              "      <td>rotor</td>\n",
              "      <td>2</td>\n",
              "      <td>70</td>\n",
              "      <td>4bbl</td>\n",
              "      <td>NaN</td>\n",
              "      <td>NaN</td>\n",
              "      <td>9.4</td>\n",
              "      <td>101.0</td>\n",
              "      <td>6000.0</td>\n",
              "      <td>17</td>\n",
              "      <td>23</td>\n",
              "      <td>10945.0</td>\n",
              "    </tr>\n",
              "    <tr>\n",
              "      <th>56</th>\n",
              "      <td>150.0</td>\n",
              "      <td>mazda</td>\n",
              "      <td>gas</td>\n",
              "      <td>std</td>\n",
              "      <td>2</td>\n",
              "      <td>hatchback</td>\n",
              "      <td>rwd</td>\n",
              "      <td>front</td>\n",
              "      <td>95.3</td>\n",
              "      <td>169.0</td>\n",
              "      <td>65.7</td>\n",
              "      <td>49.6</td>\n",
              "      <td>2380</td>\n",
              "      <td>rotor</td>\n",
              "      <td>2</td>\n",
              "      <td>70</td>\n",
              "      <td>4bbl</td>\n",
              "      <td>NaN</td>\n",
              "      <td>NaN</td>\n",
              "      <td>9.4</td>\n",
              "      <td>101.0</td>\n",
              "      <td>6000.0</td>\n",
              "      <td>17</td>\n",
              "      <td>23</td>\n",
              "      <td>11845.0</td>\n",
              "    </tr>\n",
              "    <tr>\n",
              "      <th>57</th>\n",
              "      <td>150.0</td>\n",
              "      <td>mazda</td>\n",
              "      <td>gas</td>\n",
              "      <td>std</td>\n",
              "      <td>2</td>\n",
              "      <td>hatchback</td>\n",
              "      <td>rwd</td>\n",
              "      <td>front</td>\n",
              "      <td>95.3</td>\n",
              "      <td>169.0</td>\n",
              "      <td>65.7</td>\n",
              "      <td>49.6</td>\n",
              "      <td>2385</td>\n",
              "      <td>rotor</td>\n",
              "      <td>2</td>\n",
              "      <td>70</td>\n",
              "      <td>4bbl</td>\n",
              "      <td>NaN</td>\n",
              "      <td>NaN</td>\n",
              "      <td>9.4</td>\n",
              "      <td>101.0</td>\n",
              "      <td>6000.0</td>\n",
              "      <td>17</td>\n",
              "      <td>23</td>\n",
              "      <td>13645.0</td>\n",
              "    </tr>\n",
              "    <tr>\n",
              "      <th>58</th>\n",
              "      <td>150.0</td>\n",
              "      <td>mazda</td>\n",
              "      <td>gas</td>\n",
              "      <td>std</td>\n",
              "      <td>2</td>\n",
              "      <td>hatchback</td>\n",
              "      <td>rwd</td>\n",
              "      <td>front</td>\n",
              "      <td>95.3</td>\n",
              "      <td>169.0</td>\n",
              "      <td>65.7</td>\n",
              "      <td>49.6</td>\n",
              "      <td>2500</td>\n",
              "      <td>rotor</td>\n",
              "      <td>2</td>\n",
              "      <td>80</td>\n",
              "      <td>mpfi</td>\n",
              "      <td>NaN</td>\n",
              "      <td>NaN</td>\n",
              "      <td>9.4</td>\n",
              "      <td>135.0</td>\n",
              "      <td>6000.0</td>\n",
              "      <td>16</td>\n",
              "      <td>23</td>\n",
              "      <td>15645.0</td>\n",
              "    </tr>\n",
              "  </tbody>\n",
              "</table>\n",
              "</div>"
            ],
            "text/plain": [
              "    normalized_losses   make fuel-type  ... city-mpg  highway-mpg    price\n",
              "55              150.0  mazda       gas  ...       17           23  10945.0\n",
              "56              150.0  mazda       gas  ...       17           23  11845.0\n",
              "57              150.0  mazda       gas  ...       17           23  13645.0\n",
              "58              150.0  mazda       gas  ...       16           23  15645.0\n",
              "\n",
              "[4 rows x 25 columns]"
            ]
          },
          "metadata": {
            "tags": []
          },
          "execution_count": 17
        }
      ]
    },
    {
      "cell_type": "markdown",
      "metadata": {
        "id": "Jj99BejmWKuV"
      },
      "source": [
        "Since bore is correlated to curb-weight and engine-size(top two), I will look into the correlations by making plots."
      ]
    },
    {
      "cell_type": "code",
      "metadata": {
        "colab": {
          "base_uri": "https://localhost:8080/",
          "height": 404
        },
        "id": "YQnYZuEJTh7D",
        "outputId": "471258fc-a5e4-48d2-a256-8edef919b564"
      },
      "source": [
        "#plot the correlations\n",
        "plt.figure(figsize = (14,6))\n",
        "plt.subplot(1,2,1)\n",
        "sns.regplot(data=data, x='bore',y='curb-weight', order = 3)\n",
        "plt.title('bore vs curb-weight')\n",
        "plt.subplot(1,2,2)\n",
        "sns.regplot(data=data, x='bore',y='engine-size', order = 2)\n",
        "plt.title('bore vs engine-size');"
      ],
      "execution_count": 18,
      "outputs": [
        {
          "output_type": "display_data",
          "data": {
            "image/png": "[encoded data removed]",
            "text/plain": [
              "<Figure size 1008x432 with 2 Axes>"
            ]
          },
          "metadata": {
            "tags": [],
            "needs_background": "light"
          }
        }
      ]
    },
    {
      "cell_type": "markdown",
      "metadata": {
        "id": "WA1HWramWiDT"
      },
      "source": [
        "It looks like the second graph shows a better correlation to interpret. As shown below, for engine-size around 70 and 80, bore is around 2.9"
      ]
    },
    {
      "cell_type": "code",
      "metadata": {
        "colab": {
          "base_uri": "https://localhost:8080/"
        },
        "id": "0m4P6J3eOxQu",
        "outputId": "a0cfa3ba-6ca5-4da7-b881-a4162e99aef8"
      },
      "source": [
        "data[data['engine-size'].between(70,80)]['bore'].mean()"
      ],
      "execution_count": 19,
      "outputs": [
        {
          "output_type": "execute_result",
          "data": {
            "text/plain": [
              "2.91"
            ]
          },
          "metadata": {
            "tags": []
          },
          "execution_count": 19
        }
      ]
    },
    {
      "cell_type": "markdown",
      "metadata": {
        "id": "1GsZ3i2pWvDO"
      },
      "source": [
        "Therefore, I will imput missing values with 2.91"
      ]
    },
    {
      "cell_type": "code",
      "metadata": {
        "id": "ibLVRnOoPP7E"
      },
      "source": [
        "data['bore'].fillna(2.91, inplace = True)"
      ],
      "execution_count": 20,
      "outputs": []
    },
    {
      "cell_type": "markdown",
      "metadata": {
        "id": "sOgXYPngW0BL"
      },
      "source": [
        "###'stroke'"
      ]
    },
    {
      "cell_type": "code",
      "metadata": {
        "colab": {
          "base_uri": "https://localhost:8080/",
          "height": 227
        },
        "id": "Ho71aEK4Dgdz",
        "outputId": "3f62794c-a82f-455a-af79-c15a54841020"
      },
      "source": [
        "data[data['stroke'].isna()]"
      ],
      "execution_count": 21,
      "outputs": [
        {
          "output_type": "execute_result",
          "data": {
            "text/html": [
              "<div>\n",
              "<style scoped>\n",
              "    .dataframe tbody tr th:only-of-type {\n",
              "        vertical-align: middle;\n",
              "    }\n",
              "\n",
              "    .dataframe tbody tr th {\n",
              "        vertical-align: top;\n",
              "    }\n",
              "\n",
              "    .dataframe thead th {\n",
              "        text-align: right;\n",
              "    }\n",
              "</style>\n",
              "<table border=\"1\" class=\"dataframe\">\n",
              "  <thead>\n",
              "    <tr style=\"text-align: right;\">\n",
              "      <th></th>\n",
              "      <th>normalized_losses</th>\n",
              "      <th>make</th>\n",
              "      <th>fuel-type</th>\n",
              "      <th>aspiration</th>\n",
              "      <th>num-of-doors</th>\n",
              "      <th>body-style</th>\n",
              "      <th>drive-wheels</th>\n",
              "      <th>engine-location</th>\n",
              "      <th>wheel-base</th>\n",
              "      <th>length</th>\n",
              "      <th>width</th>\n",
              "      <th>height</th>\n",
              "      <th>curb-weight</th>\n",
              "      <th>engine-type</th>\n",
              "      <th>num-of-cyclinders</th>\n",
              "      <th>engine-size</th>\n",
              "      <th>fuel-system</th>\n",
              "      <th>bore</th>\n",
              "      <th>stroke</th>\n",
              "      <th>compression-ratio</th>\n",
              "      <th>horsepower</th>\n",
              "      <th>peak-rpm</th>\n",
              "      <th>city-mpg</th>\n",
              "      <th>highway-mpg</th>\n",
              "      <th>price</th>\n",
              "    </tr>\n",
              "  </thead>\n",
              "  <tbody>\n",
              "    <tr>\n",
              "      <th>55</th>\n",
              "      <td>150.0</td>\n",
              "      <td>mazda</td>\n",
              "      <td>gas</td>\n",
              "      <td>std</td>\n",
              "      <td>2</td>\n",
              "      <td>hatchback</td>\n",
              "      <td>rwd</td>\n",
              "      <td>front</td>\n",
              "      <td>95.3</td>\n",
              "      <td>169.0</td>\n",
              "      <td>65.7</td>\n",
              "      <td>49.6</td>\n",
              "      <td>2380</td>\n",
              "      <td>rotor</td>\n",
              "      <td>2</td>\n",
              "      <td>70</td>\n",
              "      <td>4bbl</td>\n",
              "      <td>2.91</td>\n",
              "      <td>NaN</td>\n",
              "      <td>9.4</td>\n",
              "      <td>101.0</td>\n",
              "      <td>6000.0</td>\n",
              "      <td>17</td>\n",
              "      <td>23</td>\n",
              "      <td>10945.0</td>\n",
              "    </tr>\n",
              "    <tr>\n",
              "      <th>56</th>\n",
              "      <td>150.0</td>\n",
              "      <td>mazda</td>\n",
              "      <td>gas</td>\n",
              "      <td>std</td>\n",
              "      <td>2</td>\n",
              "      <td>hatchback</td>\n",
              "      <td>rwd</td>\n",
              "      <td>front</td>\n",
              "      <td>95.3</td>\n",
              "      <td>169.0</td>\n",
              "      <td>65.7</td>\n",
              "      <td>49.6</td>\n",
              "      <td>2380</td>\n",
              "      <td>rotor</td>\n",
              "      <td>2</td>\n",
              "      <td>70</td>\n",
              "      <td>4bbl</td>\n",
              "      <td>2.91</td>\n",
              "      <td>NaN</td>\n",
              "      <td>9.4</td>\n",
              "      <td>101.0</td>\n",
              "      <td>6000.0</td>\n",
              "      <td>17</td>\n",
              "      <td>23</td>\n",
              "      <td>11845.0</td>\n",
              "    </tr>\n",
              "    <tr>\n",
              "      <th>57</th>\n",
              "      <td>150.0</td>\n",
              "      <td>mazda</td>\n",
              "      <td>gas</td>\n",
              "      <td>std</td>\n",
              "      <td>2</td>\n",
              "      <td>hatchback</td>\n",
              "      <td>rwd</td>\n",
              "      <td>front</td>\n",
              "      <td>95.3</td>\n",
              "      <td>169.0</td>\n",
              "      <td>65.7</td>\n",
              "      <td>49.6</td>\n",
              "      <td>2385</td>\n",
              "      <td>rotor</td>\n",
              "      <td>2</td>\n",
              "      <td>70</td>\n",
              "      <td>4bbl</td>\n",
              "      <td>2.91</td>\n",
              "      <td>NaN</td>\n",
              "      <td>9.4</td>\n",
              "      <td>101.0</td>\n",
              "      <td>6000.0</td>\n",
              "      <td>17</td>\n",
              "      <td>23</td>\n",
              "      <td>13645.0</td>\n",
              "    </tr>\n",
              "    <tr>\n",
              "      <th>58</th>\n",
              "      <td>150.0</td>\n",
              "      <td>mazda</td>\n",
              "      <td>gas</td>\n",
              "      <td>std</td>\n",
              "      <td>2</td>\n",
              "      <td>hatchback</td>\n",
              "      <td>rwd</td>\n",
              "      <td>front</td>\n",
              "      <td>95.3</td>\n",
              "      <td>169.0</td>\n",
              "      <td>65.7</td>\n",
              "      <td>49.6</td>\n",
              "      <td>2500</td>\n",
              "      <td>rotor</td>\n",
              "      <td>2</td>\n",
              "      <td>80</td>\n",
              "      <td>mpfi</td>\n",
              "      <td>2.91</td>\n",
              "      <td>NaN</td>\n",
              "      <td>9.4</td>\n",
              "      <td>135.0</td>\n",
              "      <td>6000.0</td>\n",
              "      <td>16</td>\n",
              "      <td>23</td>\n",
              "      <td>15645.0</td>\n",
              "    </tr>\n",
              "  </tbody>\n",
              "</table>\n",
              "</div>"
            ],
            "text/plain": [
              "    normalized_losses   make fuel-type  ... city-mpg  highway-mpg    price\n",
              "55              150.0  mazda       gas  ...       17           23  10945.0\n",
              "56              150.0  mazda       gas  ...       17           23  11845.0\n",
              "57              150.0  mazda       gas  ...       17           23  13645.0\n",
              "58              150.0  mazda       gas  ...       16           23  15645.0\n",
              "\n",
              "[4 rows x 25 columns]"
            ]
          },
          "metadata": {
            "tags": []
          },
          "execution_count": 21
        }
      ]
    },
    {
      "cell_type": "markdown",
      "metadata": {
        "id": "RNbG6Q4MW7lT"
      },
      "source": [
        "Since stroke is correlated to compression-ratio and engine-size, (top two), I will look into the correlations."
      ]
    },
    {
      "cell_type": "code",
      "metadata": {
        "colab": {
          "base_uri": "https://localhost:8080/",
          "height": 404
        },
        "id": "B9fmc9x5Pcia",
        "outputId": "5544c018-7af7-4dba-c237-984aaa927e6e"
      },
      "source": [
        "#plot the correlations\n",
        "plt.figure(figsize = (14,6))\n",
        "plt.subplot(1,2,1)\n",
        "sns.regplot(data=data, x='stroke',y='compression-ratio', order = 3)\n",
        "plt.title('stroke vs compression-ratio')\n",
        "plt.subplot(1,2,2)\n",
        "sns.regplot(data=data, x='stroke',y='engine-size', order = 2)\n",
        "plt.title('stroke vs engine-size');"
      ],
      "execution_count": 22,
      "outputs": [
        {
          "output_type": "display_data",
          "data": {
            "image/png": "[encoded data removed]",
            "text/plain": [
              "<Figure size 1008x432 with 2 Axes>"
            ]
          },
          "metadata": {
            "tags": [],
            "needs_background": "light"
          }
        }
      ]
    },
    {
      "cell_type": "markdown",
      "metadata": {
        "id": "uEFL5KmiX1Tn"
      },
      "source": [
        "It looks like the second graph shows a better correlation to interpret. As shown below, it looks like stroke is around 3.0 for engine-size around 70 and 80."
      ]
    },
    {
      "cell_type": "code",
      "metadata": {
        "colab": {
          "base_uri": "https://localhost:8080/"
        },
        "id": "FuR3XLKEgJXp",
        "outputId": "c700f42c-bce1-4881-917b-67cdbcc5fe4c"
      },
      "source": [
        "data[data['engine-size'].between(70,80)]['stroke'].mean()"
      ],
      "execution_count": 23,
      "outputs": [
        {
          "output_type": "execute_result",
          "data": {
            "text/plain": [
              "3.07"
            ]
          },
          "metadata": {
            "tags": []
          },
          "execution_count": 23
        }
      ]
    },
    {
      "cell_type": "markdown",
      "metadata": {
        "id": "uHYoRpEaZmKh"
      },
      "source": [
        "Therefore, I will imput missing values with 3.07"
      ]
    },
    {
      "cell_type": "code",
      "metadata": {
        "id": "nPcFX3p6VIar"
      },
      "source": [
        "data['stroke'].fillna(3.07, inplace = True)"
      ],
      "execution_count": 24,
      "outputs": []
    },
    {
      "cell_type": "markdown",
      "metadata": {
        "id": "b6YmFzjwgzZ3"
      },
      "source": [
        "Now we can see a clean dataset without any nans."
      ]
    },
    {
      "cell_type": "code",
      "metadata": {
        "colab": {
          "base_uri": "https://localhost:8080/"
        },
        "id": "NCuj9R1qxIM_",
        "outputId": "6d43e66d-3a71-42c9-ecf0-0419682b49e0"
      },
      "source": [
        "data.info()"
      ],
      "execution_count": 25,
      "outputs": [
        {
          "output_type": "stream",
          "text": [
            "<class 'pandas.core.frame.DataFrame'>\n",
            "Int64Index: 164 entries, 3 to 204\n",
            "Data columns (total 25 columns):\n",
            " #   Column             Non-Null Count  Dtype  \n",
            "---  ------             --------------  -----  \n",
            " 0   normalized_losses  164 non-null    float64\n",
            " 1   make               164 non-null    object \n",
            " 2   fuel-type          164 non-null    object \n",
            " 3   aspiration         164 non-null    object \n",
            " 4   num-of-doors       164 non-null    int64  \n",
            " 5   body-style         164 non-null    object \n",
            " 6   drive-wheels       164 non-null    object \n",
            " 7   engine-location    164 non-null    object \n",
            " 8   wheel-base         164 non-null    float64\n",
            " 9   length             164 non-null    float64\n",
            " 10  width              164 non-null    float64\n",
            " 11  height             164 non-null    float64\n",
            " 12  curb-weight        164 non-null    int64  \n",
            " 13  engine-type        164 non-null    object \n",
            " 14  num-of-cyclinders  164 non-null    int64  \n",
            " 15  engine-size        164 non-null    int64  \n",
            " 16  fuel-system        164 non-null    object \n",
            " 17  bore               164 non-null    float64\n",
            " 18  stroke             164 non-null    float64\n",
            " 19  compression-ratio  164 non-null    float64\n",
            " 20  horsepower         164 non-null    float64\n",
            " 21  peak-rpm           164 non-null    float64\n",
            " 22  city-mpg           164 non-null    int64  \n",
            " 23  highway-mpg        164 non-null    int64  \n",
            " 24  price              164 non-null    float64\n",
            "dtypes: float64(11), int64(6), object(8)\n",
            "memory usage: 38.3+ KB\n"
          ],
          "name": "stdout"
        }
      ]
    },
    {
      "cell_type": "markdown",
      "metadata": {
        "id": "jr157iRSyzYr"
      },
      "source": [
        "Also, before I train a model, it is great to see there is no clear indication of outliers as below."
      ]
    },
    {
      "cell_type": "code",
      "metadata": {
        "colab": {
          "base_uri": "https://localhost:8080/",
          "height": 334
        },
        "id": "CzYoG8kry4SX",
        "outputId": "642482e1-d58d-47a6-bc64-1c6035dd4259"
      },
      "source": [
        "data.describe()"
      ],
      "execution_count": 26,
      "outputs": [
        {
          "output_type": "execute_result",
          "data": {
            "text/html": [
              "<div>\n",
              "<style scoped>\n",
              "    .dataframe tbody tr th:only-of-type {\n",
              "        vertical-align: middle;\n",
              "    }\n",
              "\n",
              "    .dataframe tbody tr th {\n",
              "        vertical-align: top;\n",
              "    }\n",
              "\n",
              "    .dataframe thead th {\n",
              "        text-align: right;\n",
              "    }\n",
              "</style>\n",
              "<table border=\"1\" class=\"dataframe\">\n",
              "  <thead>\n",
              "    <tr style=\"text-align: right;\">\n",
              "      <th></th>\n",
              "      <th>normalized_losses</th>\n",
              "      <th>num-of-doors</th>\n",
              "      <th>wheel-base</th>\n",
              "      <th>length</th>\n",
              "      <th>width</th>\n",
              "      <th>height</th>\n",
              "      <th>curb-weight</th>\n",
              "      <th>num-of-cyclinders</th>\n",
              "      <th>engine-size</th>\n",
              "      <th>bore</th>\n",
              "      <th>stroke</th>\n",
              "      <th>compression-ratio</th>\n",
              "      <th>horsepower</th>\n",
              "      <th>peak-rpm</th>\n",
              "      <th>city-mpg</th>\n",
              "      <th>highway-mpg</th>\n",
              "      <th>price</th>\n",
              "    </tr>\n",
              "  </thead>\n",
              "  <tbody>\n",
              "    <tr>\n",
              "      <th>count</th>\n",
              "      <td>164.000000</td>\n",
              "      <td>164.000000</td>\n",
              "      <td>164.000000</td>\n",
              "      <td>164.000000</td>\n",
              "      <td>164.000000</td>\n",
              "      <td>164.000000</td>\n",
              "      <td>164.000000</td>\n",
              "      <td>164.000000</td>\n",
              "      <td>164.000000</td>\n",
              "      <td>164.000000</td>\n",
              "      <td>164.000000</td>\n",
              "      <td>164.000000</td>\n",
              "      <td>164.000000</td>\n",
              "      <td>164.000000</td>\n",
              "      <td>164.000000</td>\n",
              "      <td>164.000000</td>\n",
              "      <td>164.000000</td>\n",
              "    </tr>\n",
              "    <tr>\n",
              "      <th>mean</th>\n",
              "      <td>122.000000</td>\n",
              "      <td>3.170732</td>\n",
              "      <td>98.164024</td>\n",
              "      <td>172.238415</td>\n",
              "      <td>65.598780</td>\n",
              "      <td>53.774390</td>\n",
              "      <td>2458.274390</td>\n",
              "      <td>4.182927</td>\n",
              "      <td>117.957317</td>\n",
              "      <td>3.288963</td>\n",
              "      <td>3.233232</td>\n",
              "      <td>10.126951</td>\n",
              "      <td>96.207317</td>\n",
              "      <td>5137.804878</td>\n",
              "      <td>26.268293</td>\n",
              "      <td>31.847561</td>\n",
              "      <td>11466.518293</td>\n",
              "    </tr>\n",
              "    <tr>\n",
              "      <th>std</th>\n",
              "      <td>35.442168</td>\n",
              "      <td>0.988335</td>\n",
              "      <td>5.120198</td>\n",
              "      <td>11.417833</td>\n",
              "      <td>1.923028</td>\n",
              "      <td>2.343942</td>\n",
              "      <td>475.087068</td>\n",
              "      <td>0.745178</td>\n",
              "      <td>30.896294</td>\n",
              "      <td>0.270801</td>\n",
              "      <td>0.291728</td>\n",
              "      <td>3.836306</td>\n",
              "      <td>30.408563</td>\n",
              "      <td>479.459113</td>\n",
              "      <td>6.193305</td>\n",
              "      <td>6.514349</td>\n",
              "      <td>5803.490319</td>\n",
              "    </tr>\n",
              "    <tr>\n",
              "      <th>min</th>\n",
              "      <td>65.000000</td>\n",
              "      <td>2.000000</td>\n",
              "      <td>86.600000</td>\n",
              "      <td>141.100000</td>\n",
              "      <td>60.300000</td>\n",
              "      <td>49.400000</td>\n",
              "      <td>1488.000000</td>\n",
              "      <td>2.000000</td>\n",
              "      <td>61.000000</td>\n",
              "      <td>2.540000</td>\n",
              "      <td>2.070000</td>\n",
              "      <td>7.000000</td>\n",
              "      <td>48.000000</td>\n",
              "      <td>4150.000000</td>\n",
              "      <td>15.000000</td>\n",
              "      <td>18.000000</td>\n",
              "      <td>5118.000000</td>\n",
              "    </tr>\n",
              "    <tr>\n",
              "      <th>25%</th>\n",
              "      <td>94.000000</td>\n",
              "      <td>2.000000</td>\n",
              "      <td>94.500000</td>\n",
              "      <td>165.675000</td>\n",
              "      <td>64.000000</td>\n",
              "      <td>52.000000</td>\n",
              "      <td>2090.750000</td>\n",
              "      <td>4.000000</td>\n",
              "      <td>97.000000</td>\n",
              "      <td>3.050000</td>\n",
              "      <td>3.077500</td>\n",
              "      <td>8.700000</td>\n",
              "      <td>69.000000</td>\n",
              "      <td>4800.000000</td>\n",
              "      <td>22.000000</td>\n",
              "      <td>28.000000</td>\n",
              "      <td>7446.000000</td>\n",
              "    </tr>\n",
              "    <tr>\n",
              "      <th>50%</th>\n",
              "      <td>115.000000</td>\n",
              "      <td>4.000000</td>\n",
              "      <td>96.550000</td>\n",
              "      <td>172.000000</td>\n",
              "      <td>65.400000</td>\n",
              "      <td>54.100000</td>\n",
              "      <td>2367.500000</td>\n",
              "      <td>4.000000</td>\n",
              "      <td>109.000000</td>\n",
              "      <td>3.240000</td>\n",
              "      <td>3.270000</td>\n",
              "      <td>9.000000</td>\n",
              "      <td>91.000000</td>\n",
              "      <td>5200.000000</td>\n",
              "      <td>26.000000</td>\n",
              "      <td>32.000000</td>\n",
              "      <td>9268.500000</td>\n",
              "    </tr>\n",
              "    <tr>\n",
              "      <th>75%</th>\n",
              "      <td>150.000000</td>\n",
              "      <td>4.000000</td>\n",
              "      <td>100.400000</td>\n",
              "      <td>177.800000</td>\n",
              "      <td>66.500000</td>\n",
              "      <td>55.500000</td>\n",
              "      <td>2785.500000</td>\n",
              "      <td>4.000000</td>\n",
              "      <td>131.750000</td>\n",
              "      <td>3.540000</td>\n",
              "      <td>3.410000</td>\n",
              "      <td>9.400000</td>\n",
              "      <td>114.000000</td>\n",
              "      <td>5500.000000</td>\n",
              "      <td>31.000000</td>\n",
              "      <td>37.000000</td>\n",
              "      <td>14559.250000</td>\n",
              "    </tr>\n",
              "    <tr>\n",
              "      <th>max</th>\n",
              "      <td>256.000000</td>\n",
              "      <td>4.000000</td>\n",
              "      <td>115.600000</td>\n",
              "      <td>202.600000</td>\n",
              "      <td>71.700000</td>\n",
              "      <td>59.800000</td>\n",
              "      <td>4066.000000</td>\n",
              "      <td>8.000000</td>\n",
              "      <td>258.000000</td>\n",
              "      <td>3.940000</td>\n",
              "      <td>4.170000</td>\n",
              "      <td>23.000000</td>\n",
              "      <td>200.000000</td>\n",
              "      <td>6600.000000</td>\n",
              "      <td>49.000000</td>\n",
              "      <td>54.000000</td>\n",
              "      <td>35056.000000</td>\n",
              "    </tr>\n",
              "  </tbody>\n",
              "</table>\n",
              "</div>"
            ],
            "text/plain": [
              "       normalized_losses  num-of-doors  ...  highway-mpg         price\n",
              "count         164.000000    164.000000  ...   164.000000    164.000000\n",
              "mean          122.000000      3.170732  ...    31.847561  11466.518293\n",
              "std            35.442168      0.988335  ...     6.514349   5803.490319\n",
              "min            65.000000      2.000000  ...    18.000000   5118.000000\n",
              "25%            94.000000      2.000000  ...    28.000000   7446.000000\n",
              "50%           115.000000      4.000000  ...    32.000000   9268.500000\n",
              "75%           150.000000      4.000000  ...    37.000000  14559.250000\n",
              "max           256.000000      4.000000  ...    54.000000  35056.000000\n",
              "\n",
              "[8 rows x 17 columns]"
            ]
          },
          "metadata": {
            "tags": []
          },
          "execution_count": 26
        }
      ]
    },
    {
      "cell_type": "markdown",
      "metadata": {
        "id": "18QvjIsJg6EP"
      },
      "source": [
        "#3. Building a model"
      ]
    },
    {
      "cell_type": "markdown",
      "metadata": {
        "id": "kwkpS6rlz_Z3"
      },
      "source": [
        "###Dummy variables for the categorical features"
      ]
    },
    {
      "cell_type": "code",
      "metadata": {
        "id": "ex4V-XP1z-JI"
      },
      "source": [
        "# Encoding the categorical features\n",
        "categorical_columns = ['make','fuel-type','aspiration', 'body-style', 'drive-wheels',\n",
        "                       'engine-location', 'engine-type', 'fuel-system'] \n",
        "    \n",
        "for column in categorical_columns:\n",
        "  dummies = pd.get_dummies(data[column], prefix=column)\n",
        "  data = pd.concat([data, dummies], axis=1)\n",
        "  data = data.drop(column, axis=1)"
      ],
      "execution_count": 27,
      "outputs": []
    },
    {
      "cell_type": "code",
      "metadata": {
        "colab": {
          "base_uri": "https://localhost:8080/"
        },
        "id": "-voE2qQv0H8W",
        "outputId": "63ad15d8-a2cc-4862-aea3-f5eaaa11459a"
      },
      "source": [
        "data.info()"
      ],
      "execution_count": 28,
      "outputs": [
        {
          "output_type": "stream",
          "text": [
            "<class 'pandas.core.frame.DataFrame'>\n",
            "Int64Index: 164 entries, 3 to 204\n",
            "Data columns (total 61 columns):\n",
            " #   Column                  Non-Null Count  Dtype  \n",
            "---  ------                  --------------  -----  \n",
            " 0   normalized_losses       164 non-null    float64\n",
            " 1   num-of-doors            164 non-null    int64  \n",
            " 2   wheel-base              164 non-null    float64\n",
            " 3   length                  164 non-null    float64\n",
            " 4   width                   164 non-null    float64\n",
            " 5   height                  164 non-null    float64\n",
            " 6   curb-weight             164 non-null    int64  \n",
            " 7   num-of-cyclinders       164 non-null    int64  \n",
            " 8   engine-size             164 non-null    int64  \n",
            " 9   bore                    164 non-null    float64\n",
            " 10  stroke                  164 non-null    float64\n",
            " 11  compression-ratio       164 non-null    float64\n",
            " 12  horsepower              164 non-null    float64\n",
            " 13  peak-rpm                164 non-null    float64\n",
            " 14  city-mpg                164 non-null    int64  \n",
            " 15  highway-mpg             164 non-null    int64  \n",
            " 16  price                   164 non-null    float64\n",
            " 17  make_audi               164 non-null    uint8  \n",
            " 18  make_bmw                164 non-null    uint8  \n",
            " 19  make_chevrolet          164 non-null    uint8  \n",
            " 20  make_dodge              164 non-null    uint8  \n",
            " 21  make_honda              164 non-null    uint8  \n",
            " 22  make_jaguar             164 non-null    uint8  \n",
            " 23  make_mazda              164 non-null    uint8  \n",
            " 24  make_mercedes-benz      164 non-null    uint8  \n",
            " 25  make_mitsubishi         164 non-null    uint8  \n",
            " 26  make_nissan             164 non-null    uint8  \n",
            " 27  make_peugot             164 non-null    uint8  \n",
            " 28  make_plymouth           164 non-null    uint8  \n",
            " 29  make_porsche            164 non-null    uint8  \n",
            " 30  make_saab               164 non-null    uint8  \n",
            " 31  make_subaru             164 non-null    uint8  \n",
            " 32  make_toyota             164 non-null    uint8  \n",
            " 33  make_volkswagen         164 non-null    uint8  \n",
            " 34  make_volvo              164 non-null    uint8  \n",
            " 35  fuel-type_diesel        164 non-null    uint8  \n",
            " 36  fuel-type_gas           164 non-null    uint8  \n",
            " 37  aspiration_std          164 non-null    uint8  \n",
            " 38  aspiration_turbo        164 non-null    uint8  \n",
            " 39  body-style_convertible  164 non-null    uint8  \n",
            " 40  body-style_hardtop      164 non-null    uint8  \n",
            " 41  body-style_hatchback    164 non-null    uint8  \n",
            " 42  body-style_sedan        164 non-null    uint8  \n",
            " 43  body-style_wagon        164 non-null    uint8  \n",
            " 44  drive-wheels_4wd        164 non-null    uint8  \n",
            " 45  drive-wheels_fwd        164 non-null    uint8  \n",
            " 46  drive-wheels_rwd        164 non-null    uint8  \n",
            " 47  engine-location_front   164 non-null    uint8  \n",
            " 48  engine-type_dohc        164 non-null    uint8  \n",
            " 49  engine-type_l           164 non-null    uint8  \n",
            " 50  engine-type_ohc         164 non-null    uint8  \n",
            " 51  engine-type_ohcf        164 non-null    uint8  \n",
            " 52  engine-type_ohcv        164 non-null    uint8  \n",
            " 53  engine-type_rotor       164 non-null    uint8  \n",
            " 54  fuel-system_1bbl        164 non-null    uint8  \n",
            " 55  fuel-system_2bbl        164 non-null    uint8  \n",
            " 56  fuel-system_4bbl        164 non-null    uint8  \n",
            " 57  fuel-system_idi         164 non-null    uint8  \n",
            " 58  fuel-system_mfi         164 non-null    uint8  \n",
            " 59  fuel-system_mpfi        164 non-null    uint8  \n",
            " 60  fuel-system_spdi        164 non-null    uint8  \n",
            "dtypes: float64(11), int64(6), uint8(44)\n",
            "memory usage: 35.1 KB\n"
          ],
          "name": "stdout"
        }
      ]
    },
    {
      "cell_type": "markdown",
      "metadata": {
        "id": "GUJJfWuAk5NE"
      },
      "source": [
        "###Removing Multicorllinearity"
      ]
    },
    {
      "cell_type": "markdown",
      "metadata": {
        "id": "vKmH2z3ijtPd"
      },
      "source": [
        "Before I begin, I will need to investigate further into the dataset so that I find multicollinearity if any."
      ]
    },
    {
      "cell_type": "code",
      "metadata": {
        "id": "qZs_SgVnDExC"
      },
      "source": [
        "def vif_examine(df):\n",
        "  # the independent variables set \n",
        "  X = df.select_dtypes(include = [\"float64\",\"int64\"])\n",
        "  \n",
        "  # VIF dataframe \n",
        "  vif_data = pd.DataFrame() \n",
        "  vif_data[\"feature\"] = X.columns \n",
        "  \n",
        "  # calculating VIF for each feature \n",
        "  vif_data[\"VIF\"] = [vif(X.values, i) for i in range(len(X.columns))] \n",
        "  print(vif_data)"
      ],
      "execution_count": 29,
      "outputs": []
    },
    {
      "cell_type": "code",
      "metadata": {
        "colab": {
          "base_uri": "https://localhost:8080/"
        },
        "id": "WQGUP7wdDm-J",
        "outputId": "a1ae6d3a-4ce0-4381-e0ef-50294d8dffae"
      },
      "source": [
        "vif_examine(data)"
      ],
      "execution_count": 30,
      "outputs": [
        {
          "output_type": "stream",
          "text": [
            "              feature          VIF\n",
            "0   normalized_losses    22.789377\n",
            "1        num-of-doors    20.990345\n",
            "2          wheel-base  2463.815295\n",
            "3              length  2007.372662\n",
            "4               width  2964.253590\n",
            "5              height  1288.518329\n",
            "6         curb-weight   537.880212\n",
            "7   num-of-cyclinders   208.380720\n",
            "8         engine-size   385.827958\n",
            "9                bore   513.697649\n",
            "10             stroke   242.051740\n",
            "11  compression-ratio    19.524389\n",
            "12         horsepower    80.937284\n",
            "13           peak-rpm   235.981509\n",
            "14           city-mpg   528.361584\n",
            "15        highway-mpg   629.253662\n",
            "16              price    30.081982\n"
          ],
          "name": "stdout"
        }
      ]
    },
    {
      "cell_type": "markdown",
      "metadata": {
        "id": "imSR_PGWlGUI"
      },
      "source": [
        "It looks like length, width and height have high VIF scores. Therefore, I can merge them into one as volume and drop the three columns from the dataset."
      ]
    },
    {
      "cell_type": "code",
      "metadata": {
        "id": "iSHYWYbfFdPz"
      },
      "source": [
        "data['volume'] = data['length']*data['width']*data['height']\n",
        "data=data.drop(['length','width','height'], axis = 1)"
      ],
      "execution_count": 31,
      "outputs": []
    },
    {
      "cell_type": "markdown",
      "metadata": {
        "id": "EFz5RXv1oP4o"
      },
      "source": [
        "### Building models without PCA"
      ]
    },
    {
      "cell_type": "markdown",
      "metadata": {
        "id": "kXiUOzVDogsa"
      },
      "source": [
        "PCA is known for extracting the directions in the multivariate space that is the “most informative”. I will compare the results with and without PCA."
      ]
    },
    {
      "cell_type": "markdown",
      "metadata": {
        "id": "Iq8jnnXrvZmn"
      },
      "source": [
        "Train and test data will be split into 80% and 20% randomly."
      ]
    },
    {
      "cell_type": "code",
      "metadata": {
        "id": "2L_DBe6vzhQh"
      },
      "source": [
        "X=data.drop('normalized_losses',1)\n",
        "y=data['normalized_losses']\n",
        "X_train, X_test, y_train, y_test = train_test_split(X, y, train_size=0.8, random_state=42)"
      ],
      "execution_count": 32,
      "outputs": []
    },
    {
      "cell_type": "markdown",
      "metadata": {
        "id": "MNRMnSF5vn1V"
      },
      "source": [
        "Function for model training and results"
      ]
    },
    {
      "cell_type": "code",
      "metadata": {
        "id": "nxFR9TCA2EzE"
      },
      "source": [
        "def model_name(model):\n",
        "    model.fit(X_train, y_train)\n",
        "    model_pred = model.predict(X_test)\n",
        "\n",
        "    explained_variance=metrics.explained_variance_score(y_test, model_pred)\n",
        "    mean_absolute_error=metrics.mean_absolute_error(y_test, model_pred) \n",
        "    mse=metrics.mean_squared_error(y_test, model_pred) \n",
        "    median_absolute_error=metrics.median_absolute_error(y_test, model_pred)\n",
        "    r2=metrics.r2_score(y_test, model_pred)\n",
        "    print('explained_variance     : ', round(explained_variance,4))    \n",
        "    print('r2   : ', round(r2,4))\n",
        "    print('MAE  : ', round(mean_absolute_error,4))\n",
        "    print('MSE  : ', round(mse,4))\n",
        "    print('RMSE : ', round(np.sqrt(mse),4))\n"
      ],
      "execution_count": 33,
      "outputs": []
    },
    {
      "cell_type": "markdown",
      "metadata": {
        "id": "ya37LDtOvfwf"
      },
      "source": [
        "We will compare three different models based on different measures."
      ]
    },
    {
      "cell_type": "code",
      "metadata": {
        "colab": {
          "base_uri": "https://localhost:8080/"
        },
        "id": "w2Ydk31R2aig",
        "outputId": "77356c6f-2d64-4441-e698-86f351cc41da"
      },
      "source": [
        "model_name(LinearRegression())"
      ],
      "execution_count": 34,
      "outputs": [
        {
          "output_type": "stream",
          "text": [
            "explained_variance     :  0.0122\n",
            "r2   :  -0.0112\n",
            "MAE  :  22.8748\n",
            "MSE  :  1319.2934\n",
            "RMSE :  36.3221\n"
          ],
          "name": "stdout"
        }
      ]
    },
    {
      "cell_type": "code",
      "metadata": {
        "colab": {
          "base_uri": "https://localhost:8080/"
        },
        "id": "5mNWOuAbCiep",
        "outputId": "98de1e9d-e176-45c0-af8b-7beac8f8cc09"
      },
      "source": [
        "model_name(RandomForestRegressor())"
      ],
      "execution_count": 35,
      "outputs": [
        {
          "output_type": "stream",
          "text": [
            "explained_variance     :  0.4754\n",
            "r2   :  0.4753\n",
            "MAE  :  15.5636\n",
            "MSE  :  684.5558\n",
            "RMSE :  26.164\n"
          ],
          "name": "stdout"
        }
      ]
    },
    {
      "cell_type": "code",
      "metadata": {
        "colab": {
          "base_uri": "https://localhost:8080/"
        },
        "id": "l6AgKMfR1iX1",
        "outputId": "2ed68329-f25d-4ca2-c560-4ff3fd44731e"
      },
      "source": [
        "model_name(Lasso())"
      ],
      "execution_count": 36,
      "outputs": [
        {
          "output_type": "stream",
          "text": [
            "explained_variance     :  0.3129\n",
            "r2   :  0.3106\n",
            "MAE  :  21.3368\n",
            "MSE  :  899.4868\n",
            "RMSE :  29.9914\n"
          ],
          "name": "stdout"
        }
      ]
    },
    {
      "cell_type": "markdown",
      "metadata": {
        "id": "Kuw7QaKFsIM-"
      },
      "source": [
        "### Building models with PCA"
      ]
    },
    {
      "cell_type": "markdown",
      "metadata": {
        "id": "w0et2ynxsKZS"
      },
      "source": [
        "This dataset is a mix of categorical and continuous variables. In order to perform PCA on the dataset, all the variable needs to be numerical.\n",
        "Since categorical variables have been converted to a series of binary variables, we can do a principal components analysis."
      ]
    },
    {
      "cell_type": "markdown",
      "metadata": {
        "id": "KW1wTTC8v3HY"
      },
      "source": [
        "Finding the best number of components based on R2 score."
      ]
    },
    {
      "cell_type": "code",
      "metadata": {
        "colab": {
          "base_uri": "https://localhost:8080/",
          "height": 295
        },
        "id": "Vx9vr5z6A9on",
        "outputId": "194c0611-2d28-44cf-b36d-a827e4ec6ee0"
      },
      "source": [
        "i_value=[]\n",
        "r2_value=[]\n",
        "for i in range(2,np.size(X,1)+1):\n",
        "    \n",
        "    X_train, X_test, y_train, y_test = train_test_split(X, y, train_size=0.8, random_state=42)\n",
        "    # Applying PCA\n",
        "    pca = PCA(n_components = i)\n",
        "    X_train = pca.fit_transform(X_train)\n",
        "    X_test = pca.transform(X_test)\n",
        "    \n",
        "    # Training And Testing the model\n",
        "    regressor = LinearRegression()\n",
        "    regressor.fit(X_train,y_train)\n",
        "    y_pred = regressor.predict(X_test)\n",
        "    r2_value.append(r2_score(y_pred,y_test).round(4))\n",
        "    i_value.append(i)\n",
        "    \n",
        "# Plotting the r2 Score with different number of components for PCA\n",
        "plt.plot(i_value,r2_value,marker='o',mfc='red',mec='red',color='blue')\n",
        "plt.xlabel('Number of Components')\n",
        "plt.ylabel('R2_Score')\n",
        "plt.title('No_of_Components VS R2_Score')\n",
        "plt.grid(b=None)\n",
        "plt.show()"
      ],
      "execution_count": 37,
      "outputs": [
        {
          "output_type": "display_data",
          "data": {
            "image/png": "[encoded data removed]",
            "text/plain": [
              "<Figure size 432x288 with 1 Axes>"
            ]
          },
          "metadata": {
            "tags": [],
            "needs_background": "light"
          }
        }
      ]
    },
    {
      "cell_type": "code",
      "metadata": {
        "id": "n_VvPoW9_QMf"
      },
      "source": [
        "# Applying PCA\n",
        "X_train, X_test, y_train, y_test = train_test_split(X, y, train_size=0.8, random_state=42)\n",
        "n=r2_value.index(max(r2_value))+2\n",
        "pca = PCA(n_components = n)\n",
        "X_train = pca.fit_transform(X_train)\n",
        "X_test = pca.transform(X_test)"
      ],
      "execution_count": 38,
      "outputs": []
    },
    {
      "cell_type": "code",
      "metadata": {
        "colab": {
          "base_uri": "https://localhost:8080/"
        },
        "id": "wWaRmILnBSpV",
        "outputId": "2331c120-9efb-45b4-95c3-d8202f21407f"
      },
      "source": [
        "print(n)"
      ],
      "execution_count": 39,
      "outputs": [
        {
          "output_type": "stream",
          "text": [
            "46\n"
          ],
          "name": "stdout"
        }
      ]
    },
    {
      "cell_type": "markdown",
      "metadata": {
        "id": "i78lNxMFwAwm"
      },
      "source": [
        "The best number of components is 47. I will compare two different linear models."
      ]
    },
    {
      "cell_type": "code",
      "metadata": {
        "colab": {
          "base_uri": "https://localhost:8080/"
        },
        "id": "PxfygS7FtsXu",
        "outputId": "b87f6390-9e57-4afa-c582-f8e404e08cd8"
      },
      "source": [
        "model_name(LinearRegression())"
      ],
      "execution_count": 40,
      "outputs": [
        {
          "output_type": "stream",
          "text": [
            "explained_variance     :  0.0122\n",
            "r2   :  -0.0112\n",
            "MAE  :  22.8748\n",
            "MSE  :  1319.2934\n",
            "RMSE :  36.3221\n"
          ],
          "name": "stdout"
        }
      ]
    },
    {
      "cell_type": "code",
      "metadata": {
        "colab": {
          "base_uri": "https://localhost:8080/"
        },
        "id": "olY1YChjts8l",
        "outputId": "0e9fdafc-6d27-4ba9-948d-782320749c2c"
      },
      "source": [
        "model_name(Lasso())"
      ],
      "execution_count": 41,
      "outputs": [
        {
          "output_type": "stream",
          "text": [
            "explained_variance     :  0.3055\n",
            "r2   :  0.3029\n",
            "MAE  :  21.6416\n",
            "MSE  :  909.5336\n",
            "RMSE :  30.1585\n"
          ],
          "name": "stdout"
        }
      ]
    },
    {
      "cell_type": "markdown",
      "metadata": {
        "id": "2xHHPVHZwaHK"
      },
      "source": [
        "MSE is high which may be because we have a very small dataset."
      ]
    },
    {
      "cell_type": "markdown",
      "metadata": {
        "id": "gZaSWwwiwgwr"
      },
      "source": [
        "#Conclusion"
      ]
    },
    {
      "cell_type": "markdown",
      "metadata": {
        "id": "wr2ogbpcwqvk"
      },
      "source": [
        "1. In ths dataset, we have information about 205 cars in the US to build a prediction model. Based on my research, I have imputed missing values manually and regression imputation method.\n",
        "\n",
        "2. Before thrusting the dataset into a model, I created dummy variables and removed multicollinearity in the dataset and compared different models with PCA and without PCA.\n",
        "\n",
        "3. RandomForest model looks like the best model so far to predict the target. I can further fine tune the model to get better accuracy."
      ]
    }
  ]
}